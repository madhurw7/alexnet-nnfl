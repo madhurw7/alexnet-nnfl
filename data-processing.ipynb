{
 "cells": [
  {
   "cell_type": "markdown",
   "metadata": {},
   "source": [
    "This file is meant to pre-process the training and validation data from the directories of tiny-imagenet into npz files which can be uploaded to Google Drive to be used for training on Colab. It saves two files on the disk, botch of which contain two numpy arrays, one containing the input samples of the dataset in form of numpy arrays and the. other the class label in form of one-hot encoded vectors."
   ]
  },
  {
   "cell_type": "code",
   "execution_count": 1,
   "metadata": {},
   "outputs": [],
   "source": [
    "import numpy as np\n",
    "from PIL import Image"
   ]
  },
  {
   "cell_type": "code",
   "execution_count": 2,
   "metadata": {},
   "outputs": [],
   "source": [
    "#THIS BLOCK IS IMPORTANT\n",
    "\n",
    "def importClasses():\n",
    "    classPath = \"./tiny-imagenet-200/wnids.txt\"\n",
    "    return open(classPath).read().splitlines()\n",
    "\n",
    "trainClasses = importClasses()\n",
    "\n",
    "def createDict(trainClasses):\n",
    "    #Mapping from class name to class Number\n",
    "    classDict = {}\n",
    "    for i in range(len(trainClasses)):\n",
    "        classDict[trainClasses[i]] = i\n",
    "    return classDict\n",
    "\n",
    "classNumDict = createDict(trainClasses)\n",
    "\n",
    "def getImgAsNP(path):\n",
    "    try:\n",
    "        img = Image.open(path)\n",
    "    except IOError:\n",
    "        return\n",
    "    img = img.convert(\"RGB\")\n",
    "    img = np.asarray(img)\n",
    "    return img\n",
    "    \n",
    "\n",
    "\n",
    "def transToOneHot(numClass, dims = 200):\n",
    "    vec = np.zeros(dims)\n",
    "    vec[numClass] = 1\n",
    "    return vec\n",
    "\n",
    "\n",
    "def randomizeOrder(inArr, outArr, n):\n",
    "    idx = np.array(range(n))\n",
    "    np.random.shuffle(idx)\n",
    "    inList = []\n",
    "    outList = []\n",
    "    for i in range(n):\n",
    "        inList.append(inArr[idx[i]])\n",
    "        outList.append(outArr[idx[i]])\n",
    "    return inList, outList\n",
    "\n",
    "\n",
    "\n",
    "\n",
    "def getOutputArray():\n",
    "    outputArray = []\n",
    "    outputTextPath = \"./tiny-imagenet-200/val/val_annotations.txt\"\n",
    "    textFile = open(outputTextPath).read().split()\n",
    "    for i in range(10000):\n",
    "        outputArray.append(transToOneHot(classNumDict[textFile[6*i+1]], dims = 200))\n",
    "    return outputArray\n",
    "\n",
    "def getValSample():\n",
    "    inputArray = []\n",
    "    outputArray = getOutputArray()\n",
    "    \n",
    "    \n",
    "    for i in range(10000):\n",
    "        path = \"./tiny-imagenet-200/val/images/val_\" + str(i) + \".JPEG\"\n",
    "        img = getImgAsNP(path)\n",
    "        inputArray.append(img)\n",
    "        \n",
    "    return inputArray, outputArray"
   ]
  },
  {
   "cell_type": "code",
   "execution_count": 3,
   "metadata": {},
   "outputs": [],
   "source": [
    "def generateImgsWOAug(path, outClassNum):\n",
    "    #Takes in path of Image and generates 5 patches and their mirror images and returns them as a list of np arrays and an array of one hot encoded output\n",
    "    try:\n",
    "        img = Image.open(path)\n",
    "    except IOError:\n",
    "        return\n",
    "    img = img.convert(\"RGB\")\n",
    "    img = np.asarray(img)\n",
    "    #print(\"This is for debugging:\" + img.shape)\n",
    "    arr = [img[:, :, :]]\n",
    "    #arr = arr + [np.flip(arr[0], 1),np.flip(arr[1], 1), np.flip(arr[2], 1), np.flip(arr[3], 1), np.flip(arr[4], 1)]\n",
    "    #pcaArr = []\n",
    "    #for i in range(len(arr)):\n",
    "    #    pcaArr.append(pcaAug(arr[i]))\n",
    "    inputArr = arr# + pcaArr\n",
    "    oneHot = transToOneHot(outClassNum, dims = 200)\n",
    "    outArr = []\n",
    "    for i in range(len(inputArr)):\n",
    "        outArr.append(oneHot)\n",
    "    return inputArr, outArr\n",
    "\n",
    "\n",
    "def getTrainingSampleWOAug():\n",
    "    inputArray = []\n",
    "    outputArray = []\n",
    "    n = 500\n",
    "    \n",
    "    for outClassNum in range(len(trainClasses)):\n",
    "        for i in range(500):\n",
    "            path = \"./tiny-imagenet-200/train/\" + str(trainClasses[outClassNum]) + \"/images/\" + str(trainClasses[outClassNum]) + \"_\" + str(i) + \".JPEG\"\n",
    "            inArr, outArr = generateImgsWOAug(path, outClassNum)\n",
    "            inputArray = inputArray + inArr\n",
    "            outputArray = outputArray + outArr\n",
    "    inputArray, outputArray = randomizeOrder(inputArray, outputArray, n*len(trainClasses))\n",
    "    return inputArray, outputArray"
   ]
  },
  {
   "cell_type": "code",
   "execution_count": 8,
   "metadata": {},
   "outputs": [],
   "source": [
    "inputTrain, outputTrain = getTrainingSampleWOAug()"
   ]
  },
  {
   "cell_type": "code",
   "execution_count": 9,
   "metadata": {},
   "outputs": [],
   "source": [
    "inTrain = np.array(inputTrain)\n",
    "outTrain = np.array(outputTrain)"
   ]
  },
  {
   "cell_type": "code",
   "execution_count": 23,
   "metadata": {},
   "outputs": [
    {
     "data": {
      "text/plain": [
       "112.69858580973307"
      ]
     },
     "execution_count": 23,
     "metadata": {},
     "output_type": "execute_result"
    }
   ],
   "source": [
    "inTrain.mean()"
   ]
  },
  {
   "cell_type": "code",
   "execution_count": 24,
   "metadata": {},
   "outputs": [
    {
     "data": {
      "text/plain": [
       "70.93752549462194"
      ]
     },
     "execution_count": 24,
     "metadata": {},
     "output_type": "execute_result"
    }
   ],
   "source": [
    "inTrain.std()"
   ]
  },
  {
   "cell_type": "code",
   "execution_count": 10,
   "metadata": {},
   "outputs": [
    {
     "data": {
      "text/plain": [
       "(100000, 64, 64, 3)"
      ]
     },
     "execution_count": 10,
     "metadata": {},
     "output_type": "execute_result"
    }
   ],
   "source": [
    "inTrain.shape"
   ]
  },
  {
   "cell_type": "code",
   "execution_count": 21,
   "metadata": {},
   "outputs": [],
   "source": [
    "np.savez('trainDataComplete.npz', inputTrain, outputTrain)"
   ]
  },
  {
   "cell_type": "code",
   "execution_count": 12,
   "metadata": {},
   "outputs": [],
   "source": [
    "inputVal, outputVal = getValSample()"
   ]
  },
  {
   "cell_type": "code",
   "execution_count": 13,
   "metadata": {},
   "outputs": [],
   "source": [
    "inVal = np.array(inputVal)\n",
    "outVal = np.array(outputVal)"
   ]
  },
  {
   "cell_type": "code",
   "execution_count": 14,
   "metadata": {},
   "outputs": [
    {
     "data": {
      "text/plain": [
       "(10000, 64, 64, 3)"
      ]
     },
     "execution_count": 14,
     "metadata": {},
     "output_type": "execute_result"
    }
   ],
   "source": [
    "inVal.shape"
   ]
  },
  {
   "cell_type": "code",
   "execution_count": 15,
   "metadata": {},
   "outputs": [
    {
     "data": {
      "text/plain": [
       "(10000, 200)"
      ]
     },
     "execution_count": 15,
     "metadata": {},
     "output_type": "execute_result"
    }
   ],
   "source": [
    "outVal.shape"
   ]
  },
  {
   "cell_type": "code",
   "execution_count": 22,
   "metadata": {},
   "outputs": [],
   "source": [
    "np.savez('valDataComplete.npz', inputVal, outputVal)"
   ]
  },
  {
   "cell_type": "markdown",
   "metadata": {},
   "source": [
    "Everything after this needs to be deleted"
   ]
  },
  {
   "cell_type": "code",
   "execution_count": null,
   "metadata": {},
   "outputs": [],
   "source": [
    "def normalise(X):\n",
    "    rMean = 122.46267559570313\n",
    "    gMean = 114.25840612792969\n",
    "    bMean = 101.3746757055664\n",
    "    rStd = 70.63153376175029\n",
    "    gStd = 68.6114437011529\n",
    "    bStd = 71.93088608369885\n",
    "      "
   ]
  },
  {
   "cell_type": "code",
   "execution_count": 7,
   "metadata": {},
   "outputs": [],
   "source": [
    "rCh = np.array(inTrain[:,:,:,0])\n",
    "gCh = np.array(inTrain[:,:,:,1])\n",
    "bCh = np.array(inTrain[:,:,:,2])"
   ]
  },
  {
   "cell_type": "code",
   "execution_count": 9,
   "metadata": {},
   "outputs": [],
   "source": [
    "rMean = rCh.mean()\n",
    "gMean = gCh.mean()\n",
    "bMean = bCh.mean()"
   ]
  },
  {
   "cell_type": "code",
   "execution_count": 10,
   "metadata": {},
   "outputs": [
    {
     "name": "stdout",
     "output_type": "stream",
     "text": [
      "122.46267559570313\n",
      "114.25840612792969\n",
      "101.3746757055664\n",
      "70.63153376175029\n",
      "68.6114437011529\n",
      "71.93088608369885\n"
     ]
    }
   ],
   "source": [
    "rStd = rCh.std()\n",
    "gStd = gCh.std()\n",
    "bStd = bCh.std()\n",
    "print(rMean)\n",
    "print(gMean)\n",
    "print(bMean)\n",
    "print(rStd)\n",
    "print(gStd)\n",
    "print(bStd)"
   ]
  },
  {
   "cell_type": "code",
   "execution_count": 11,
   "metadata": {},
   "outputs": [],
   "source": [
    "rCh = (rCh - rMean)/rStd\n",
    "gCh = (gCh - gMean)/gStd\n",
    "bCh = (bCh - bMean)/bStd"
   ]
  },
  {
   "cell_type": "code",
   "execution_count": 12,
   "metadata": {},
   "outputs": [
    {
     "name": "stdout",
     "output_type": "stream",
     "text": [
      "-1.1143308498162697e-16\n",
      "-2.1126433935592102e-17\n",
      "4.0552006197458465e-17\n",
      "1.0000000000000053\n",
      "0.9999999999999973\n",
      "0.9999999999999977\n"
     ]
    }
   ],
   "source": [
    "print(rCh.mean())\n",
    "print(gCh.mean())\n",
    "print(bCh.mean())\n",
    "print(rCh.std())\n",
    "print(gCh.std())\n",
    "print(bCh.std())\n"
   ]
  },
  {
   "cell_type": "code",
   "execution_count": 13,
   "metadata": {},
   "outputs": [],
   "source": [
    "inTrain = np.array([rCh, gCh, bCh])\n",
    "inTrain = np.moveaxis(inTrain, 0, -1)"
   ]
  },
  {
   "cell_type": "code",
   "execution_count": 19,
   "metadata": {},
   "outputs": [
    {
     "data": {
      "text/plain": [
       "(100000, 64, 64, 3)"
      ]
     },
     "execution_count": 19,
     "metadata": {},
     "output_type": "execute_result"
    }
   ],
   "source": [
    "inTrain.shape"
   ]
  },
  {
   "cell_type": "code",
   "execution_count": 174,
   "metadata": {},
   "outputs": [
    {
     "name": "stdout",
     "output_type": "stream",
     "text": [
      "(3, 10000, 64, 64)\n"
     ]
    },
    {
     "data": {
      "text/plain": [
       "(10000, 64, 64, 3)"
      ]
     },
     "execution_count": 174,
     "metadata": {},
     "output_type": "execute_result"
    }
   ],
   "source": [
    "rChVal = np.array(inVal[:,:,:,0])\n",
    "gChVal = np.array(inVal[:,:,:,1])\n",
    "bChVal = np.array(inVal[:,:,:,2])\n",
    "\n",
    "rChVal = (rChVal - rMean)/rStd\n",
    "gChVal = (gChVal - gMean)/gStd\n",
    "bChVal = (bChVal - bMean)/bStd\n",
    "\n",
    "inVal = np.array([rChVal, gChVal, bChVal])\n",
    "print(inVal.shape)\n",
    "inVal = np.moveaxis(inVal, 0, -1)\n",
    "inVal.shape"
   ]
  },
  {
   "cell_type": "code",
   "execution_count": 177,
   "metadata": {},
   "outputs": [
    {
     "data": {
      "text/plain": [
       "-4.226378374953798e-05"
      ]
     },
     "execution_count": 177,
     "metadata": {},
     "output_type": "execute_result"
    }
   ],
   "source": [
    "inVal[:,:,:,0].mean()"
   ]
  },
  {
   "cell_type": "code",
   "execution_count": 178,
   "metadata": {},
   "outputs": [
    {
     "data": {
      "text/plain": [
       "(20000, 64, 64, 3)"
      ]
     },
     "execution_count": 178,
     "metadata": {},
     "output_type": "execute_result"
    }
   ],
   "source": [
    "inTrain.shape"
   ]
  },
  {
   "cell_type": "code",
   "execution_count": 169,
   "metadata": {},
   "outputs": [
    {
     "data": {
      "text/plain": [
       "(20000, 64, 64, 3)"
      ]
     },
     "execution_count": 169,
     "metadata": {},
     "output_type": "execute_result"
    }
   ],
   "source": [
    "inVal.shape"
   ]
  },
  {
   "cell_type": "code",
   "execution_count": 170,
   "metadata": {},
   "outputs": [
    {
     "data": {
      "text/plain": [
       "(10000, 200)"
      ]
     },
     "execution_count": 170,
     "metadata": {},
     "output_type": "execute_result"
    }
   ],
   "source": [
    "outVal.shape"
   ]
  },
  {
   "cell_type": "code",
   "execution_count": 179,
   "metadata": {},
   "outputs": [],
   "source": [
    "intes = np.load('valDataNS.npz')\n",
    "x = intes['arr_0']\n",
    "y = intes['arr_1']"
   ]
  },
  {
   "cell_type": "code",
   "execution_count": 180,
   "metadata": {},
   "outputs": [
    {
     "data": {
      "text/plain": [
       "(10000, 64, 64, 3)"
      ]
     },
     "execution_count": 180,
     "metadata": {},
     "output_type": "execute_result"
    }
   ],
   "source": [
    "x.shape"
   ]
  },
  {
   "cell_type": "code",
   "execution_count": 181,
   "metadata": {},
   "outputs": [
    {
     "data": {
      "text/plain": [
       "(10000, 200)"
      ]
     },
     "execution_count": 181,
     "metadata": {},
     "output_type": "execute_result"
    }
   ],
   "source": [
    "y.shape"
   ]
  },
  {
   "cell_type": "code",
   "execution_count": null,
   "metadata": {},
   "outputs": [],
   "source": []
  }
 ],
 "metadata": {
  "kernelspec": {
   "display_name": "Python 3",
   "language": "python",
   "name": "python3"
  },
  "language_info": {
   "codemirror_mode": {
    "name": "ipython",
    "version": 3
   },
   "file_extension": ".py",
   "mimetype": "text/x-python",
   "name": "python",
   "nbconvert_exporter": "python",
   "pygments_lexer": "ipython3",
   "version": "3.7.3"
  }
 },
 "nbformat": 4,
 "nbformat_minor": 2
}

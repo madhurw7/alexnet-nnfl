{
 "cells": [
  {
   "cell_type": "markdown",
   "metadata": {},
   "source": [
    "`tinynet.h5` and `valDataComplete.npz` files required to run this file.\n",
    "\n",
    "To generate `tinynet.h5`, run `tiny-net.ipynb`\n",
    "\n",
    "To generate `valDataComplete.npz` use `test-data-generate.ipynb`"
   ]
  },
  {
   "cell_type": "code",
   "execution_count": 40,
   "metadata": {
    "colab": {},
    "colab_type": "code",
    "id": "clnxiAPAeNbf"
   },
   "outputs": [],
   "source": [
    "import tensorflow as tf\n",
    "import tensorflow_addons as tfa\n",
    "import numpy as np"
   ]
  },
  {
   "cell_type": "code",
   "execution_count": 41,
   "metadata": {
    "colab": {},
    "colab_type": "code",
    "id": "WpBgKDKtdKjX"
   },
   "outputs": [],
   "source": [
    "# loading the test data\n",
    "valData = np.load('valDataComplete.npz')\n",
    "inputVal = valData['arr_0']\n",
    "outputVal = valData['arr_1']"
   ]
  },
  {
   "cell_type": "code",
   "execution_count": 42,
   "metadata": {
    "colab": {},
    "colab_type": "code",
    "id": "sh_6K-YYdaHW"
   },
   "outputs": [],
   "source": [
    "# standardizing/normalizing the data\n",
    "augment = tf.keras.preprocessing.image.ImageDataGenerator(zca_whitening=True)\n",
    "augment.mean = 112.69858580973307\n",
    "augment.std = 70.93752549462194\n",
    "augment.principal_components = 40"
   ]
  },
  {
   "cell_type": "code",
   "execution_count": 43,
   "metadata": {
    "colab": {},
    "colab_type": "code",
    "id": "3bwiXqDedY-q"
   },
   "outputs": [],
   "source": [
    "# tinynet architecture\n",
    "def build(input_shape, num_classes):\n",
    "    model = tf.keras.Sequential()\n",
    "    \n",
    "    # convolution layer 1\n",
    "    model.add(tf.keras.layers.Convolution2D(64, (5, 5), strides=(1, 1), padding='same', input_shape=input_shape))\n",
    "    model.add(tf.keras.layers.BatchNormalization(momentum=0.9))\n",
    "    model.add(tf.keras.layers.Activation('relu'))\n",
    "    model.add(tf.keras.layers.ZeroPadding2D((1,1)))\n",
    "    model.add(tf.keras.layers.MaxPooling2D(pool_size=(3, 3), strides=(3, 3)))\n",
    "    \n",
    "    # convolution layer 2\n",
    "    model.add(tf.keras.layers.Convolution2D(128, (3, 3), strides=(1, 1), padding='same'))\n",
    "    model.add(tf.keras.layers.BatchNormalization(momentum=0.9))\n",
    "    model.add(tf.keras.layers.Activation('relu'))\n",
    "    model.add(tf.keras.layers.ZeroPadding2D((1,1)))\n",
    "    model.add(tf.keras.layers.MaxPooling2D(pool_size=(3, 3), strides=(3, 3)))\n",
    "    \n",
    "    # convolution layer 3\n",
    "    model.add(tf.keras.layers.Convolution2D(128, (3, 3), strides=(1, 1), padding='same'))\n",
    "    model.add(tf.keras.layers.BatchNormalization(momentum=0.9))\n",
    "    model.add(tf.keras.layers.Activation('relu'))\n",
    "\n",
    "    # convolution layer 4\n",
    "    model.add(tf.keras.layers.Convolution2D(256, (3, 3), strides=(1, 1), padding='same'))\n",
    "    model.add(tf.keras.layers.BatchNormalization(momentum=0.9))\n",
    "    model.add(tf.keras.layers.Activation('relu'))\n",
    "    model.add(tf.keras.layers.ZeroPadding2D((1,1)))\n",
    "    model.add(tf.keras.layers.MaxPooling2D(pool_size=(3, 3), strides=(3, 3)))\n",
    "\n",
    "    # convolution layer 5\n",
    "    model.add(tf.keras.layers.Convolution2D(256, (3, 3), strides=(1, 1), padding='same'))\n",
    "    model.add(tf.keras.layers.BatchNormalization(momentum=0.9))\n",
    "    model.add(tf.keras.layers.Activation('relu'))\n",
    "\n",
    "    # convolution layer 6\n",
    "    model.add(tf.keras.layers.Convolution2D(512, (3, 3), strides=(1, 1), padding='same'))\n",
    "    model.add(tf.keras.layers.BatchNormalization(momentum=0.9))\n",
    "    model.add(tf.keras.layers.Activation('relu'))\n",
    "\n",
    "    # convolution layer 7\n",
    "    model.add(tf.keras.layers.Convolution2D(512, (3, 3), strides=(1, 1), padding='same'))\n",
    "    model.add(tf.keras.layers.BatchNormalization(momentum=0.9))\n",
    "    model.add(tf.keras.layers.Activation('relu'))\n",
    "\n",
    "    # flattening\n",
    "    model.add(tf.keras.layers.Flatten())\n",
    "    model.add(tf.keras.layers.Dropout(0.5))\n",
    "\n",
    "    # fully connected layer 1\n",
    "    model.add(tf.keras.layers.Dense(1024))\n",
    "    model.add(tf.keras.layers.BatchNormalization(momentum=0.9))\n",
    "    model.add(tf.keras.layers.Activation('relu')) \n",
    "    model.add(tf.keras.layers.Dropout(0.5))\n",
    "    \n",
    "    # fully connected layer 2\n",
    "    model.add(tf.keras.layers.Dense(1024))\n",
    "    model.add(tf.keras.layers.BatchNormalization(momentum=0.9))\n",
    "    model.add(tf.keras.layers.Activation('relu'))\n",
    "    model.add(tf.keras.layers.Dropout(0.5))\n",
    "    \n",
    "    # output layer\n",
    "    model.add(tf.keras.layers.Dense(num_classes, activation='softmax'))\n",
    "    \n",
    "    return model"
   ]
  },
  {
   "cell_type": "code",
   "execution_count": 44,
   "metadata": {},
   "outputs": [],
   "source": [
    "# parameters\n",
    "learning_rate = 0.01\n",
    "momentum = 0.9\n",
    "weight_decay = 0.0005\n",
    "batch_size = 256\n",
    "input_shape = (64, 64, 3)\n",
    "num_classes = 200"
   ]
  },
  {
   "cell_type": "code",
   "execution_count": 45,
   "metadata": {
    "colab": {},
    "colab_type": "code",
    "id": "cfY8Wf2be8x-"
   },
   "outputs": [],
   "source": [
    "# initializing the model\n",
    "model_tinynet = build(input_shape, num_classes)\n",
    "model_tinynet.compile(optimizer=tfa.optimizers.weight_decay_optimizers.SGDW(\n",
    "                        learning_rate=learning_rate, momentum=momentum, \n",
    "                        weight_decay=weight_decay, nesterov=True, name='SGDW'),\n",
    "                        loss='categorical_crossentropy', \n",
    "                        metrics=['categorical_accuracy', 'top_k_categorical_accuracy'])\n",
    "\n",
    "# loading the pretrained weights\n",
    "model_tinynet.load_weights(\"tinynet.h5\")"
   ]
  },
  {
   "cell_type": "code",
   "execution_count": 46,
   "metadata": {
    "colab": {},
    "colab_type": "code",
    "id": "jmgTwnfdfkaj"
   },
   "outputs": [
    {
     "name": "stdout",
     "output_type": "stream",
     "text": [
      "WARNING:tensorflow:sample_weight modes were coerced from\n",
      "  ...\n",
      "    to  \n",
      "  ['...']\n",
      "313/313 [==============================] - 79s 253ms/step - loss: 2.9251 - categorical_accuracy: 0.4513 - top_k_categorical_accuracy: 0.7090\n"
     ]
    },
    {
     "data": {
      "text/plain": [
       "[2.925124935448741, 0.4513, 0.709]"
      ]
     },
     "execution_count": 46,
     "metadata": {},
     "output_type": "execute_result"
    }
   ],
   "source": [
    "# running the model on test data\n",
    "model_tinynet.evaluate(augment.flow(inputVal, outputVal))"
   ]
  }
 ],
 "metadata": {
  "colab": {
   "collapsed_sections": [],
   "name": "TinyNet_Test.ipynb",
   "provenance": []
  },
  "kernelspec": {
   "display_name": "Python 3",
   "language": "python",
   "name": "python3"
  },
  "language_info": {
   "codemirror_mode": {
    "name": "ipython",
    "version": 3
   },
   "file_extension": ".py",
   "mimetype": "text/x-python",
   "name": "python",
   "nbconvert_exporter": "python",
   "pygments_lexer": "ipython3",
   "version": "3.7.3"
  }
 },
 "nbformat": 4,
 "nbformat_minor": 1
}

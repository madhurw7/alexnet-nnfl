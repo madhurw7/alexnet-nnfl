{
 "cells": [
  {
   "cell_type": "code",
   "execution_count": 1,
   "metadata": {},
   "outputs": [],
   "source": [
    "import numpy as np\n",
    "from PIL import Image"
   ]
  },
  {
   "cell_type": "code",
   "execution_count": 136,
   "metadata": {},
   "outputs": [],
   "source": [
    "#THIS BLOCK IS IMPORTANT\n",
    "\n",
    "\n",
    "def importClasses():\n",
    "    classPath = \"./tiny-imagenet-200/wnids.txt\"\n",
    "    return open(classPath).read().splitlines()\n",
    "\n",
    "trainClasses = importClasses()\n",
    "\n",
    "def createDict(trainClasses):\n",
    "    #Mapping from class name to class Number\n",
    "    classDict = {}\n",
    "    for i in range(len(trainClasses)):\n",
    "        classDict[trainClasses[i]] = i\n",
    "    return classDict\n",
    "\n",
    "classNumDict = createDict(trainClasses)\n",
    "\n",
    "def getImgAsNP(path):\n",
    "    try:\n",
    "        img = Image.open(path)\n",
    "    except IOError:\n",
    "        return\n",
    "    img = img.convert(\"RGB\")\n",
    "    img = np.asarray(img)\n",
    "    return img\n",
    "    \n",
    "\n",
    "def pcaAug(original_image):\n",
    "    #Takes in an image as a np array and returns the pca augmented image as a np array\n",
    "    renorm_image = np.reshape(original_image,(original_image.shape[0]*original_image.shape[1],3))\n",
    "\n",
    "    renorm_image = renorm_image.astype('float32')\n",
    "    renorm_image -= np.mean(renorm_image, axis=0)\n",
    "    renorm_image /= np.std(renorm_image, axis=0)\n",
    "\n",
    "    cov = np.cov(renorm_image, rowvar=False)\n",
    "\n",
    "    lambdas, p = np.linalg.eig(cov)\n",
    "    alphas = np.random.normal(0, 0.1, 3)\n",
    "\n",
    "    delta = np.dot(p, alphas*lambdas)\n",
    "\n",
    "    delta = (delta).astype('int8')\n",
    "\n",
    "    pca_color_image = np.maximum(np.minimum(original_image + delta, 255), 0).astype('uint8')\n",
    "    return pca_color_image\n",
    "\n",
    "\n",
    "def transToOneHot(numClass, dims = 200):\n",
    "    vec = np.zeros(dims)\n",
    "    vec[numClass] = 1\n",
    "    return vec\n",
    "\n",
    "\n",
    "def randomizeOrder(inArr, outArr, n):\n",
    "    idx = np.array(range(n))\n",
    "    np.random.shuffle(idx)\n",
    "    inList = []\n",
    "    outList = []\n",
    "    for i in range(n):\n",
    "        inList.append(inArr[idx[i]])\n",
    "        outList.append(outArr[idx[i]])\n",
    "    return inList, outList\n",
    "\n",
    "\n",
    "\n",
    "\n",
    "def getOutputArray():\n",
    "    outputArray = []\n",
    "    outputTextPath = \"./tiny-imagenet-200/val/val_annotations.txt\"\n",
    "    textFile = open(outputTextPath).read().split()\n",
    "    for i in range(10000):\n",
    "        outputArray.append(transToOneHot(classNumDict[textFile[6*i+1]], dims = 200))\n",
    "    return outputArray\n",
    "\n",
    "def getValSample():\n",
    "    inputArray = []\n",
    "    outputArray = getOutputArray()\n",
    "    \n",
    "    \n",
    "    for i in range(10000):\n",
    "        path = \"./tiny-imagenet-200/val/images/val_\" + str(i) + \".JPEG\"\n",
    "        img = getImgAsNP(path)\n",
    "        inputArray.append(img)\n",
    "        \n",
    "    return inputArray, outputArray"
   ]
  },
  {
   "cell_type": "code",
   "execution_count": 8,
   "metadata": {},
   "outputs": [],
   "source": [
    "def generateImgsWOAug(path, outClassNum):\n",
    "    #Takes in path of Image and generates 5 patches and their mirror images and returns them as a list of np arrays and an array of one hot encoded output\n",
    "    try:\n",
    "        img = Image.open(path)\n",
    "    except IOError:\n",
    "        return\n",
    "    img = img.convert(\"RGB\")\n",
    "    img = np.asarray(img)\n",
    "    #print(\"This is for debugging:\" + img.shape)\n",
    "    arr = [img[:, :, :]]\n",
    "    #arr = arr + [np.flip(arr[0], 1),np.flip(arr[1], 1), np.flip(arr[2], 1), np.flip(arr[3], 1), np.flip(arr[4], 1)]\n",
    "    #pcaArr = []\n",
    "    #for i in range(len(arr)):\n",
    "    #    pcaArr.append(pcaAug(arr[i]))\n",
    "    inputArr = arr# + pcaArr\n",
    "    oneHot = transToOneHot(outClassNum, dims = 200)\n",
    "    outArr = []\n",
    "    for i in range(len(inputArr)):\n",
    "        outArr.append(oneHot)\n",
    "    return inputArr, outArr\n",
    "\n",
    "\n",
    "def getTrainingSampleWOAug():\n",
    "    inputArray = []\n",
    "    outputArray = []\n",
    "    n = 100\n",
    "    \n",
    "    for outClassNum in range(len(trainClasses)):\n",
    "        for i in range(500):\n",
    "            path = \"./tiny-imagenet-200/train/\" + str(trainClasses[outClassNum]) + \"/images/\" + str(trainClasses[outClassNum]) + \"_\" + str(i) + \".JPEG\"\n",
    "            inArr, outArr = generateImgsWOAug(path, outClassNum)\n",
    "            inputArray = inputArray + inArr\n",
    "            outputArray = outputArray + outArr\n",
    "    inputArray, outputArray = randomizeOrder(inputArray, outputArray, n*len(trainClasses))\n",
    "    return inputArray, outputArray"
   ]
  },
  {
   "cell_type": "code",
   "execution_count": null,
   "metadata": {},
   "outputs": [],
   "source": [
    "def normalise(X):\n",
    "    rMean = 123.00588408203124\n",
    "    gMean = 114.36748309326173\n",
    "    bMean = 99.56208621826171\n",
    "    rStd = 70.18212394204953\n",
    "    gStd = 67.7031624099244\n",
    "    bStd = 70.8470856991606\n",
    "      "
   ]
  },
  {
   "cell_type": "code",
   "execution_count": 144,
   "metadata": {},
   "outputs": [],
   "source": [
    "inputTrain, outputTrain = getTrainingSampleWOAug()"
   ]
  },
  {
   "cell_type": "code",
   "execution_count": 145,
   "metadata": {},
   "outputs": [],
   "source": [
    "inTrain = np.array(inputTrain)\n",
    "outTrain = np.array(outputTrain)"
   ]
  },
  {
   "cell_type": "code",
   "execution_count": 146,
   "metadata": {},
   "outputs": [],
   "source": [
    "rCh = np.array(inTrain[:,:,:,0])\n",
    "gCh = np.array(inTrain[:,:,:,1])\n",
    "bCh = np.array(inTrain[:,:,:,2])"
   ]
  },
  {
   "cell_type": "code",
   "execution_count": 147,
   "metadata": {},
   "outputs": [],
   "source": [
    "rMean = rCh.mean()\n",
    "gMean = gCh.mean()\n",
    "bMean = bCh.mean()"
   ]
  },
  {
   "cell_type": "code",
   "execution_count": 148,
   "metadata": {},
   "outputs": [
    {
     "name": "stdout",
     "output_type": "stream",
     "text": [
      "123.00588408203124\n",
      "114.36748309326173\n",
      "99.56208621826171\n",
      "70.18212394204953\n",
      "67.7031624099244\n",
      "70.8470856991606\n"
     ]
    }
   ],
   "source": [
    "rStd = rCh.std()\n",
    "gStd = gCh.std()\n",
    "bStd = bCh.std()\n",
    "print(rMean)\n",
    "print(gMean)\n",
    "print(bMean)\n",
    "print(rStd)\n",
    "print(gStd)\n",
    "print(bStd)"
   ]
  },
  {
   "cell_type": "code",
   "execution_count": 149,
   "metadata": {},
   "outputs": [],
   "source": [
    "rCh = (rCh - rMean)/rStd\n",
    "gCh = (gCh - gMean)/gStd\n",
    "bCh = (bCh - bMean)/bStd"
   ]
  },
  {
   "cell_type": "code",
   "execution_count": 150,
   "metadata": {},
   "outputs": [
    {
     "name": "stdout",
     "output_type": "stream",
     "text": [
      "9.278133816792433e-17\n",
      "-1.1055045767704997e-16\n",
      "8.791856132006615e-17\n",
      "1.0000000000000033\n",
      "0.9999999999999991\n",
      "0.9999999999999986\n"
     ]
    }
   ],
   "source": [
    "print(rCh.mean())\n",
    "print(gCh.mean())\n",
    "print(bCh.mean())\n",
    "print(rCh.std())\n",
    "print(gCh.std())\n",
    "print(bCh.std())\n"
   ]
  },
  {
   "cell_type": "code",
   "execution_count": 157,
   "metadata": {},
   "outputs": [],
   "source": [
    "inTrain = np.array([rCh, gCh, bCh])\n",
    "inTrain = np.moveaxis(inTrain, 0, -1)"
   ]
  },
  {
   "cell_type": "code",
   "execution_count": 158,
   "metadata": {},
   "outputs": [
    {
     "data": {
      "text/plain": [
       "(20000, 64, 64, 3)"
      ]
     },
     "execution_count": 158,
     "metadata": {},
     "output_type": "execute_result"
    }
   ],
   "source": [
    "inTrain.shape"
   ]
  },
  {
   "cell_type": "code",
   "execution_count": 131,
   "metadata": {},
   "outputs": [],
   "source": [
    "np.savez('trainDataNS.npz', inTrain, outTrain)"
   ]
  },
  {
   "cell_type": "code",
   "execution_count": 171,
   "metadata": {},
   "outputs": [],
   "source": [
    "inputVal, outputVal = getValSample()"
   ]
  },
  {
   "cell_type": "code",
   "execution_count": 172,
   "metadata": {},
   "outputs": [],
   "source": [
    "inVal = np.array(inputVal)\n",
    "outVal = np.array(outputVal)"
   ]
  },
  {
   "cell_type": "code",
   "execution_count": 173,
   "metadata": {},
   "outputs": [
    {
     "data": {
      "text/plain": [
       "(10000, 64, 64, 3)"
      ]
     },
     "execution_count": 173,
     "metadata": {},
     "output_type": "execute_result"
    }
   ],
   "source": [
    "inVal.shape"
   ]
  },
  {
   "cell_type": "code",
   "execution_count": 174,
   "metadata": {},
   "outputs": [
    {
     "name": "stdout",
     "output_type": "stream",
     "text": [
      "(3, 10000, 64, 64)\n"
     ]
    },
    {
     "data": {
      "text/plain": [
       "(10000, 64, 64, 3)"
      ]
     },
     "execution_count": 174,
     "metadata": {},
     "output_type": "execute_result"
    }
   ],
   "source": [
    "rChVal = np.array(inVal[:,:,:,0])\n",
    "gChVal = np.array(inVal[:,:,:,1])\n",
    "bChVal = np.array(inVal[:,:,:,2])\n",
    "\n",
    "rChVal = (rChVal - rMean)/rStd\n",
    "gChVal = (gChVal - gMean)/gStd\n",
    "bChVal = (bChVal - bMean)/bStd\n",
    "\n",
    "inVal = np.array([rChVal, gChVal, bChVal])\n",
    "print(inVal.shape)\n",
    "inVal = np.moveaxis(inVal, 0, -1)\n",
    "inVal.shape"
   ]
  },
  {
   "cell_type": "code",
   "execution_count": 175,
   "metadata": {},
   "outputs": [
    {
     "data": {
      "text/plain": [
       "(10000, 200)"
      ]
     },
     "execution_count": 175,
     "metadata": {},
     "output_type": "execute_result"
    }
   ],
   "source": [
    "outVal.shape"
   ]
  },
  {
   "cell_type": "code",
   "execution_count": 176,
   "metadata": {},
   "outputs": [],
   "source": [
    "np.savez('valDataNS.npz', inVal, outVal)"
   ]
  },
  {
   "cell_type": "code",
   "execution_count": 177,
   "metadata": {},
   "outputs": [
    {
     "data": {
      "text/plain": [
       "-4.226378374953798e-05"
      ]
     },
     "execution_count": 177,
     "metadata": {},
     "output_type": "execute_result"
    }
   ],
   "source": [
    "inVal[:,:,:,0].mean()"
   ]
  },
  {
   "cell_type": "code",
   "execution_count": 178,
   "metadata": {},
   "outputs": [
    {
     "data": {
      "text/plain": [
       "(20000, 64, 64, 3)"
      ]
     },
     "execution_count": 178,
     "metadata": {},
     "output_type": "execute_result"
    }
   ],
   "source": [
    "inTrain.shape"
   ]
  },
  {
   "cell_type": "code",
   "execution_count": 169,
   "metadata": {},
   "outputs": [
    {
     "data": {
      "text/plain": [
       "(20000, 64, 64, 3)"
      ]
     },
     "execution_count": 169,
     "metadata": {},
     "output_type": "execute_result"
    }
   ],
   "source": [
    "inVal.shape"
   ]
  },
  {
   "cell_type": "code",
   "execution_count": 170,
   "metadata": {},
   "outputs": [
    {
     "data": {
      "text/plain": [
       "(10000, 200)"
      ]
     },
     "execution_count": 170,
     "metadata": {},
     "output_type": "execute_result"
    }
   ],
   "source": [
    "outVal.shape"
   ]
  },
  {
   "cell_type": "code",
   "execution_count": null,
   "metadata": {},
   "outputs": [],
   "source": []
  }
 ],
 "metadata": {
  "kernelspec": {
   "display_name": "Python 3",
   "language": "python",
   "name": "python3"
  },
  "language_info": {
   "codemirror_mode": {
    "name": "ipython",
    "version": 3
   },
   "file_extension": ".py",
   "mimetype": "text/x-python",
   "name": "python",
   "nbconvert_exporter": "python",
   "pygments_lexer": "ipython3",
   "version": "3.7.3"
  }
 },
 "nbformat": 4,
 "nbformat_minor": 2
}

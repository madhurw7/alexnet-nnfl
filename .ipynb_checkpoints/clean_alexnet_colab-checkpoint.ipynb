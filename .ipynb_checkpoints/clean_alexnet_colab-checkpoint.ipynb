{
 "cells": [
  {
   "cell_type": "code",
   "execution_count": 1,
   "metadata": {
    "colab": {},
    "colab_type": "code",
    "id": "r4JqDUp2C4bf"
   },
   "outputs": [
    {
     "name": "stdout",
     "output_type": "stream",
     "text": [
      "WARNING:tensorflow:From /Users/madhurwadhwa/anaconda3/lib/python3.7/site-packages/tensorflow_core/python/compat/v2_compat.py:88: disable_resource_variables (from tensorflow.python.ops.variable_scope) is deprecated and will be removed in a future version.\n",
      "Instructions for updating:\n",
      "non-resource variables are not supported in the long term\n"
     ]
    }
   ],
   "source": [
    "#imports\n",
    "import numpy as np\n",
    "from PIL import Image\n",
    "import tensorflow.compat.v1 as tf\n",
    "#tf.enable_eager_execution()\n",
    "tf.disable_v2_behavior()\n",
    "import tensorflow_addons as tfa\n",
    "import matplotlib.pyplot as plt"
   ]
  },
  {
   "cell_type": "code",
   "execution_count": 2,
   "metadata": {
    "colab": {},
    "colab_type": "code",
    "id": "1paJPCcSC4bk"
   },
   "outputs": [],
   "source": [
    "#Parameters Control\n",
    "\n",
    "numEpochsTotal = 10\n",
    "numBatchesPerEpoch = 200"
   ]
  },
  {
   "cell_type": "code",
   "execution_count": 36,
   "metadata": {
    "colab": {},
    "colab_type": "code",
    "id": "SdXdWPGfC4bn"
   },
   "outputs": [],
   "source": [
    "#helper functions\n",
    "\n",
    "testData = np.load('testData.npz')\n",
    "inputTest = testData['arr_0']\n",
    "outputTest = testData['arr_1']\n",
    "\n",
    "trainData = np.load('trainDataWOAug.npz')\n",
    "inputTrain = trainData['arr_0']\n",
    "outputTrain = trainData['arr_1']\n",
    "\n",
    "\n",
    "\n",
    "class TrainHelp:\n",
    "    count = 0\n",
    "    \n",
    "    @staticmethod\n",
    "    def pcaAug(original_image):\n",
    "    #Takes in an image as a np array and returns the pca augmented image as a np array\n",
    "        renorm_image = np.reshape(original_image,(original_image.shape[0]*original_image.shape[1],3))\n",
    "\n",
    "        renorm_image = renorm_image.astype('float32')\n",
    "        renorm_image -= np.mean(renorm_image, axis=0)\n",
    "        renorm_image /= np.std(renorm_image, axis=0)\n",
    "\n",
    "        cov = np.cov(renorm_image, rowvar=False)\n",
    "\n",
    "        lambdas, p = np.linalg.eig(cov)\n",
    "        alphas = np.random.normal(0, 0.1, 3)\n",
    "\n",
    "        delta = np.dot(p, alphas*lambdas)\n",
    "\n",
    "        delta = (delta).astype('int8')\n",
    "\n",
    "        pca_color_image = np.maximum(np.minimum(original_image + delta, 255), 0).astype('uint8')\n",
    "        return pca_color_image\n",
    "    \n",
    "    @staticmethod\n",
    "    def applyAug(img, outputOneHot):\n",
    "        arr = [img[0:56, 0:56, :], img[7:, 0:56, :], img[0:56, 7:, :], img[7:, 7:, :], img[3:59, 3:59, :]]\n",
    "        arr = arr + [np.flip(arr[0], 1),np.flip(arr[1], 1), np.flip(arr[2], 1), np.flip(arr[3], 1), np.flip(arr[4], 1)]\n",
    "        pcaArr = []\n",
    "        for i in range(len(arr)):\n",
    "            pcaArr.append(TrainHelp.pcaAug(arr[i]))\n",
    "        inputArr = arr + pcaArr\n",
    "        outArr = []\n",
    "        for i in range(len(inputArr)):\n",
    "            outArr.append(outputOneHot)\n",
    "        return inputArr, outArr\n",
    "    \n",
    "    @staticmethod\n",
    "    def getTrainingSample():\n",
    "        img = inputTrain[TrainHelp.count%len(inputTrain)]\n",
    "        outputOneHot = outputTrain[TrainHelp.count%len(outputTrain)]\n",
    "        TrainHelp.count += 1\n",
    "        return TrainHelp.applyAug(img, outputOneHot)\n",
    "\n",
    "    @staticmethod\n",
    "    def getTestSample():\n",
    "        return inputTest, outputTest\n",
    "\n",
    "    "
   ]
  },
  {
   "cell_type": "markdown",
   "metadata": {},
   "source": [
    "#### Temporary"
   ]
  },
  {
   "cell_type": "code",
   "execution_count": 44,
   "metadata": {},
   "outputs": [
    {
     "data": {
      "text/plain": [
       "2003"
      ]
     },
     "execution_count": 44,
     "metadata": {},
     "output_type": "execute_result"
    }
   ],
   "source": [
    "a,b = TrainHelp.getTrainingSample()\n",
    "TrainHelp.count"
   ]
  },
  {
   "cell_type": "code",
   "execution_count": 46,
   "metadata": {},
   "outputs": [
    {
     "data": {
      "text/plain": [
       "2004"
      ]
     },
     "execution_count": 46,
     "metadata": {},
     "output_type": "execute_result"
    }
   ],
   "source": [
    "c,d = TrainHelp.getTrainingSample()\n",
    "TrainHelp.count"
   ]
  },
  {
   "cell_type": "code",
   "execution_count": 50,
   "metadata": {},
   "outputs": [
    {
     "data": {
      "text/plain": [
       "array([ True,  True,  True,  True, False,  True,  True,  True,  True,\n",
       "        True,  True,  True,  True,  True,  True,  True,  True,  True,\n",
       "        True,  True,  True,  True,  True,  True,  True,  True,  True,\n",
       "        True,  True,  True,  True,  True,  True,  True,  True,  True,\n",
       "        True,  True,  True,  True,  True,  True,  True,  True,  True,\n",
       "        True,  True,  True,  True,  True,  True,  True,  True,  True,\n",
       "        True,  True,  True,  True,  True,  True,  True,  True,  True,\n",
       "        True,  True,  True,  True,  True,  True,  True,  True,  True,\n",
       "        True,  True,  True,  True,  True,  True,  True,  True,  True,\n",
       "        True,  True,  True,  True,  True,  True,  True,  True,  True,\n",
       "        True,  True,  True,  True,  True,  True,  True,  True,  True,\n",
       "        True,  True,  True,  True,  True,  True,  True,  True,  True,\n",
       "        True,  True,  True,  True,  True,  True,  True,  True,  True,\n",
       "        True,  True,  True,  True,  True,  True,  True,  True,  True,\n",
       "        True,  True,  True,  True,  True,  True,  True,  True,  True,\n",
       "        True,  True,  True,  True,  True,  True,  True,  True,  True,\n",
       "        True,  True,  True,  True,  True,  True,  True,  True,  True,\n",
       "        True,  True,  True,  True,  True,  True,  True,  True,  True,\n",
       "        True,  True,  True,  True,  True,  True,  True,  True,  True,\n",
       "        True,  True,  True,  True,  True,  True,  True,  True, False,\n",
       "        True,  True,  True,  True,  True,  True,  True,  True,  True,\n",
       "        True,  True,  True,  True,  True,  True,  True,  True,  True,\n",
       "        True,  True])"
      ]
     },
     "execution_count": 50,
     "metadata": {},
     "output_type": "execute_result"
    }
   ],
   "source": [
    "b[0] == d[0]"
   ]
  },
  {
   "cell_type": "code",
   "execution_count": null,
   "metadata": {},
   "outputs": [],
   "source": [
    "len()"
   ]
  },
  {
   "cell_type": "markdown",
   "metadata": {},
   "source": [
    "#### Temporary Ends"
   ]
  },
  {
   "cell_type": "code",
   "execution_count": 39,
   "metadata": {
    "colab": {},
    "colab_type": "code",
    "id": "88AcrTbpC4bq"
   },
   "outputs": [],
   "source": [
    "#model\n",
    "\n",
    "image_size = 56 #We should use 56 instead, using 64x64 images\n",
    "\n",
    "input_images = tf.placeholder(tf.float32, shape= [None, image_size, image_size,3], name = \"input_images\")\n",
    "kernel = tf.Variable(tf.truncated_normal([11,11,3,96], dtype=tf.float32, stddev=1e-2), name=\"conv1_weights\")\n",
    "\n",
    "conv = tf.nn.conv2d(input_images, kernel, [1,4,4,1], padding=\"SAME\") #[1,4,4,1] === [1,stride,stride,1] see documentation\n",
    "bias = tf.Variable(tf.truncated_normal([96]), name=\"conv1_bias\")\n",
    "conv_with_bias = tf.nn.bias_add(conv, bias)\n",
    "conv1 = tf.nn.relu(conv_with_bias, name=\"conv1\")\n",
    "lrn1 = tf.nn.lrn(conv1, alpha = 1e-4, beta=0.75, depth_radius=5, bias=2.0) #LRN = Local Response Normalisation..Depth Radius is most probably n, need to verify\n",
    "pooled_conv1 = tf.nn.max_pool(lrn1, ksize=[1,3,3,1], strides=[1,2,2,1], padding=\"SAME\", name=\"pool1\")\n",
    "\n",
    "kernel = tf.Variable(tf.truncated_normal([5,5,96,256], dtype=tf.float32, stddev=1e-2), name=\"conv2_weights\")\n",
    "conv = tf.nn.conv2d(pooled_conv1, kernel, [1, 4, 4, 1], padding=\"SAME\")\n",
    "bias = tf.Variable(tf.ones([256]), name=\"conv2_bias\")\n",
    "conv_with_bias = tf.nn.bias_add(conv, bias)\n",
    "conv2 = tf.nn.relu(conv_with_bias, name=\"conv2\")\n",
    "lrn2 = tf.nn.lrn(conv2,\n",
    "                 alpha=1e-4,\n",
    "                 beta=0.75,\n",
    "                 depth_radius=5,\n",
    "                 bias=2.0)\n",
    "\n",
    "pooled_conv2 = tf.nn.max_pool(lrn2,\n",
    "                              ksize=[1, 3, 3, 1],\n",
    "                              strides=[1, 2, 2, 1],\n",
    "                              padding=\"SAME\",\n",
    "                              name=\"pool2\")\n",
    "\n",
    "\n",
    "kernel = tf.Variable(tf.truncated_normal([3, 3, 256, 384],\n",
    "                                         dtype=tf.float32,\n",
    "                                         stddev=1e-2),\n",
    "                     name=\"conv3_weights\")\n",
    "conv = tf.nn.conv2d(pooled_conv2, kernel, [1, 1, 1, 1], padding=\"SAME\")\n",
    "bias = tf.Variable(tf.truncated_normal([384]), name=\"conv3_bias\")\n",
    "conv_with_bias = tf.nn.bias_add(conv, bias)\n",
    "conv3 = tf.nn.relu(conv_with_bias, name=\"conv3\")\n",
    "\n",
    "kernel = tf.Variable(tf.truncated_normal([3, 3, 384, 384],\n",
    "                                         dtype=tf.float32,\n",
    "                                         stddev=1e-2),\n",
    "                     name=\"conv4_weights\")\n",
    "conv = tf.nn.conv2d(conv3, kernel, [1, 1, 1, 1], padding=\"SAME\")\n",
    "bias = tf.Variable(tf.ones([384]), name=\"conv4_bias\")\n",
    "conv_with_bias = tf.nn.bias_add(conv, bias)\n",
    "conv4 = tf.nn.relu(conv_with_bias, name=\"conv4\")\n",
    "\n",
    "kernel = tf.Variable(tf.truncated_normal([3, 3, 384, 256],\n",
    "                                         dtype=tf.float32,\n",
    "                                         stddev=1e-2),\n",
    "                     name=\"conv5_weights\")\n",
    "conv = tf.nn.conv2d(conv4, kernel, [1, 1, 1, 1], padding=\"SAME\")\n",
    "bias = tf.Variable(tf.ones([256]), name=\"conv5_bias\")\n",
    "conv_with_bias = tf.nn.bias_add(conv, bias)\n",
    "conv5 = tf.nn.relu(conv_with_bias, name=\"conv5\")\n",
    "\n",
    "fc_size = 256\n",
    "conv5 = tf.layers.flatten(conv5)\n",
    "weights = tf.Variable(tf.truncated_normal([fc_size, fc_size]), name = \"fc1_weights\")\n",
    "bias = tf.Variable(tf.ones([fc_size]), name=\"fc1_bias\")\n",
    "fc1 = tf.matmul(conv5, weights) + bias\n",
    "fc1 = tf.nn.dropout(fc1, keep_prob = 0.5) #Check this line, might cause problem\n",
    "fc1 = tf.nn.relu(fc1, name=\"fc1\")\n",
    "\n",
    "\n",
    "weights = tf.Variable(tf.truncated_normal([fc_size, fc_size]), name=\"fc2_weights\")\n",
    "bias = tf.Variable(tf.ones([fc_size]), name=\"fc2_bias\")\n",
    "fc2 = tf.matmul(fc1, weights) + bias\n",
    "fc2 = tf.nn.dropout(fc2, keep_prob = 0.5) #Check this line, might cause problem\n",
    "fc2 = tf.nn.relu(fc2, name=\"fc2\")\n",
    "\n",
    "n_classes = 200\n",
    "weights = tf.Variable(tf.zeros([fc_size, n_classes]), name=\"output_weights\")\n",
    "bias = tf.Variable(tf.ones([n_classes]), name=\"output_bias\")\n",
    "out = tf.matmul(fc2, weights) + bias\n",
    "out = tf.nn.softmax(out)"
   ]
  },
  {
   "cell_type": "code",
   "execution_count": 40,
   "metadata": {
    "colab": {},
    "colab_type": "code",
    "id": "R8xdEuTaC4bt"
   },
   "outputs": [
    {
     "name": "stdout",
     "output_type": "stream",
     "text": [
      "Epoch: 0, Top 1 Acc (training): 0.0, Top 5 Acc (training) = 1.0, Loss: 5.306872367858887 \n",
      "Top 1 Acc (testing): 0.00800000037997961, Top 5 Acc (testing) = 1.0, Validation Loss: 5.2988786697387695\n",
      "Epoch: 1, Top 1 Acc (training): 0.0, Top 5 Acc (training) = 1.0, Loss: 5.306872367858887 \n",
      "Top 1 Acc (testing): 0.00800000037997961, Top 5 Acc (testing) = 1.0, Validation Loss: 5.2988786697387695\n"
     ]
    },
    {
     "name": "stderr",
     "output_type": "stream",
     "text": [
      "/Users/madhurwadhwa/anaconda3/lib/python3.7/site-packages/ipykernel_launcher.py:32: ComplexWarning: Casting complex values to real discards the imaginary part\n"
     ]
    },
    {
     "name": "stdout",
     "output_type": "stream",
     "text": [
      "Epoch: 2, Top 1 Acc (training): 0.0, Top 5 Acc (training) = 1.0, Loss: 5.306872367858887 \n",
      "Top 1 Acc (testing): 0.00800000037997961, Top 5 Acc (testing) = 1.0, Validation Loss: 5.2988786697387695\n",
      "Epoch: 3, Top 1 Acc (training): 0.0, Top 5 Acc (training) = 1.0, Loss: 5.306872367858887 \n",
      "Top 1 Acc (testing): 0.00800000037997961, Top 5 Acc (testing) = 1.0, Validation Loss: 5.2988786697387695\n",
      "Epoch: 4, Top 1 Acc (training): 0.0, Top 5 Acc (training) = 1.0, Loss: 5.306872367858887 \n",
      "Top 1 Acc (testing): 0.00800000037997961, Top 5 Acc (testing) = 1.0, Validation Loss: 5.2988786697387695\n",
      "Epoch: 5, Top 1 Acc (training): 0.0, Top 5 Acc (training) = 1.0, Loss: 5.306872367858887 \n",
      "Top 1 Acc (testing): 0.00800000037997961, Top 5 Acc (testing) = 1.0, Validation Loss: 5.2988786697387695\n",
      "Epoch: 6, Top 1 Acc (training): 0.0, Top 5 Acc (training) = 1.0, Loss: 5.306872367858887 \n",
      "Top 1 Acc (testing): 0.00800000037997961, Top 5 Acc (testing) = 1.0, Validation Loss: 5.2988786697387695\n",
      "Epoch: 7, Top 1 Acc (training): 0.0, Top 5 Acc (training) = 1.0, Loss: 5.306872367858887 \n",
      "Top 1 Acc (testing): 0.00800000037997961, Top 5 Acc (testing) = 1.0, Validation Loss: 5.2988786697387695\n",
      "Epoch: 8, Top 1 Acc (training): 0.0, Top 5 Acc (training) = 1.0, Loss: 5.306872367858887 \n",
      "Top 1 Acc (testing): 0.00800000037997961, Top 5 Acc (testing) = 1.0, Validation Loss: 5.2988786697387695\n",
      "Epoch: 9, Top 1 Acc (training): 0.0, Top 5 Acc (training) = 1.0, Loss: 5.306872367858887 \n",
      "Top 1 Acc (testing): 0.00800000037997961, Top 5 Acc (testing) = 1.0, Validation Loss: 5.2988786697387695\n"
     ]
    },
    {
     "data": {
      "image/png": "[encoded data removed]",
      "text/plain": [
       "<Figure size 432x288 with 1 Axes>"
      ]
     },
     "metadata": {
      "needs_background": "light"
     },
     "output_type": "display_data"
    },
    {
     "data": {
      "text/plain": [
       "<Figure size 432x288 with 0 Axes>"
      ]
     },
     "metadata": {},
     "output_type": "display_data"
    },
    {
     "data": {
      "image/png": "[encoded data removed]",
      "text/plain": [
       "<Figure size 432x288 with 1 Axes>"
      ]
     },
     "metadata": {
      "needs_background": "light"
     },
     "output_type": "display_data"
    },
    {
     "data": {
      "text/plain": [
       "<Figure size 432x288 with 0 Axes>"
      ]
     },
     "metadata": {},
     "output_type": "display_data"
    },
    {
     "data": {
      "image/png": "[encoded data removed]",
      "text/plain": [
       "<Figure size 432x288 with 1 Axes>"
      ]
     },
     "metadata": {
      "needs_background": "light"
     },
     "output_type": "display_data"
    },
    {
     "data": {
      "text/plain": [
       "<Figure size 432x288 with 0 Axes>"
      ]
     },
     "metadata": {},
     "output_type": "display_data"
    }
   ],
   "source": [
    "#training\n",
    "\n",
    "# all the parameters\n",
    "learning_rate = 0.01\n",
    "momentum = 0.9\n",
    "weight_decay = 0.0005\n",
    "no_of_epochs = numEpochsTotal\n",
    "total_batches = numBatchesPerEpoch\n",
    "\n",
    "y = tf.placeholder(tf.float32, [None, n_classes])\n",
    "var_list = tf.get_collection(tf.GraphKeys.TRAINABLE_VARIABLES)\n",
    "\n",
    "# cost function and optimizer\n",
    "cost = tf.reduce_mean(tf.nn.softmax_cross_entropy_with_logits_v2(labels = y, logits = out))\n",
    "optimizer = tf.train.GradientDescentOptimizer(learning_rate=learning_rate).minimize(cost) #This Works\n",
    "\n",
    "#optimizer = tf.keras.optimizers.SGD(learning_rate=learning_rate).minimize(cost, var_list = var_list, grad_loss=None, name=None) #Testing this\n",
    "\n",
    "# optimizer = tfa.optimizers.weight_decay_optimizers.SGDW(\n",
    "#                 learning_rate=learning_rate, \n",
    "#                 momentum=momentum, \n",
    "#                 weight_decay=weight_decay, \n",
    "#                 nesterov=True, name='SGDW').minimize(cost, var_list = var_list)\n",
    "\n",
    "\n",
    "# accuracy functions\n",
    "top_1 = tf.equal(tf.argmax(out, 1), tf.argmax(y, 1))\n",
    "top_1_accuracy = tf.reduce_mean(tf.cast(top_1, tf.float32))\n",
    "top_5 = tf.math.in_top_k(out, tf.argmax(y, 1), 5)\n",
    "top_5_accuracy = tf.reduce_mean(tf.cast(top_5, tf.float32))\n",
    "\n",
    "\n",
    "init = tf.global_variables_initializer()\n",
    "\n",
    "with tf.Session() as sess:\n",
    "    sess.run(init)\n",
    "\n",
    "    # for plotting\n",
    "    train_loss = []\n",
    "    test_loss = []\n",
    "    train_accuracy_top_1 = []\n",
    "    train_accuracy_top_5 = []\n",
    "    test_accuracy_top_1 = []\n",
    "    test_accuracy_top_5 = []\n",
    "\n",
    "    inp_test, out_test = TrainHelp.getTestSample() # so that after every epoch we test the same dataset\n",
    "\n",
    "    summary_writer = tf.summary.FileWriter('./Output', sess.graph)\n",
    "\n",
    "    for epoch in range(no_of_epochs):\n",
    "        # running the architecture for 1 epoc\n",
    "        for batch_no in range(total_batches):\n",
    "            inp_train, out_train = TrainHelp.getTrainingSample()\n",
    "            sess.run([optimizer],\n",
    "                        feed_dict={\n",
    "                            input_images: inp_train,\n",
    "                            y: out_train})\n",
    "        \n",
    "        # calculating accuracy and loss after 1 epoc for the last training data\n",
    "        top_1_acc, top_5_acc, loss = sess.run([top_1_accuracy, top_5_accuracy, cost],\n",
    "                                                                feed_dict={\n",
    "                                                                    input_images: inp_train,\n",
    "                                                                    y: out_train})\n",
    "        print(\"Epoch: {}, Top 1 Acc (training): {}, Top 5 Acc (training) = {}, Loss: {} \".format(epoch, top_1_acc, top_5_acc, loss))\n",
    "            \n",
    "        # calculating accuracy and loss after 1 epoc for the test data\n",
    "        test_top_1_acc, test_top_5_acc, valid_loss = sess.run([top_1_accuracy, top_5_accuracy, cost],\n",
    "                                                                feed_dict={\n",
    "                                                                    input_images: inp_test,\n",
    "                                                                    y: out_test})\n",
    "        print(\"Top 1 Acc (testing): {}, Top 5 Acc (testing) = {}, Validation Loss: {}\".format(test_top_1_acc, test_top_5_acc, valid_loss))\n",
    "\n",
    "        # storing for plotting\n",
    "        train_loss.append(loss)\n",
    "        test_loss.append(valid_loss)\n",
    "        train_accuracy_top_1.append(top_1_acc)\n",
    "        train_accuracy_top_5.append(top_5_acc)\n",
    "        test_accuracy_top_1.append(test_top_1_acc)\n",
    "        test_accuracy_top_5.append(test_top_5_acc)\n",
    "\n",
    "    summary_writer.close()\n",
    "\n",
    "    # plotting training and testing - loss\n",
    "    plt.figure(0)\n",
    "    plt.plot(range(len(train_loss)), train_loss, 'b', label='Training loss')\n",
    "    plt.plot(range(len(train_loss)), test_loss, 'r', label='Test loss')\n",
    "    plt.title('Training and Test loss')\n",
    "    plt.xlabel('Epochs ',fontsize=16)\n",
    "    plt.ylabel('Loss',fontsize=16)\n",
    "    plt.legend()\n",
    "    plt.figure()\n",
    "    plt.show()\n",
    "\n",
    "    # plotting training and testing - top 1 accuracy\n",
    "    plt.figure(1)\n",
    "    plt.plot(range(len(train_loss)), train_accuracy_top_1, 'b', label='Top 1 Training Accuracy')\n",
    "    plt.plot(range(len(train_loss)), test_accuracy_top_1, 'r', label='Top 1 Test Accuracy')\n",
    "    plt.title('Top 1 Training and Test Accuracy')\n",
    "    plt.xlabel('Epochs ',fontsize=16)\n",
    "    plt.ylabel('Loss',fontsize=16)\n",
    "    plt.legend()\n",
    "    plt.figure()\n",
    "    plt.show()\n",
    "\n",
    "    # plotting training and testing - top 5 accuracy\n",
    "    plt.figure(2)\n",
    "    plt.plot(range(len(train_loss)), train_accuracy_top_5, 'b', label='Top 5 Training Accuracy')\n",
    "    plt.plot(range(len(train_loss)), test_accuracy_top_5, 'r', label='Top 5 Test Accuracy')\n",
    "    plt.title('Top 5 Training and Test Accuracy')\n",
    "    plt.xlabel('Epochs ',fontsize=16)\n",
    "    plt.ylabel('Loss',fontsize=16)\n",
    "    plt.legend()\n",
    "    plt.figure()\n",
    "    plt.show()"
   ]
  },
  {
   "cell_type": "code",
   "execution_count": null,
   "metadata": {},
   "outputs": [],
   "source": []
  }
 ],
 "metadata": {
  "accelerator": "GPU",
  "colab": {
   "collapsed_sections": [],
   "name": "clean-alexnet.ipynb",
   "provenance": []
  },
  "kernelspec": {
   "display_name": "Python 3",
   "language": "python",
   "name": "python3"
  },
  "language_info": {
   "codemirror_mode": {
    "name": "ipython",
    "version": 3
   },
   "file_extension": ".py",
   "mimetype": "text/x-python",
   "name": "python",
   "nbconvert_exporter": "python",
   "pygments_lexer": "ipython3",
   "version": "3.7.3"
  }
 },
 "nbformat": 4,
 "nbformat_minor": 1
}

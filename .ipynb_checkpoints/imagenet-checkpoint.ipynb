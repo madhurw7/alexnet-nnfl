{
 "cells": [
  {
   "cell_type": "code",
   "execution_count": 1,
   "metadata": {},
   "outputs": [
    {
     "ename": "ModuleNotFoundError",
     "evalue": "No module named 'tensorflow'",
     "output_type": "error",
     "traceback": [
      "\u001b[0;31m---------------------------------------------------------------------------\u001b[0m",
      "\u001b[0;31mModuleNotFoundError\u001b[0m                       Traceback (most recent call last)",
      "\u001b[0;32m<ipython-input-1-c1149bc45ed9>\u001b[0m in \u001b[0;36m<module>\u001b[0;34m\u001b[0m\n\u001b[0;32m----> 1\u001b[0;31m \u001b[0;32mimport\u001b[0m \u001b[0mtensorflow\u001b[0m \u001b[0;32mas\u001b[0m \u001b[0mtf\u001b[0m\u001b[0;34m\u001b[0m\u001b[0;34m\u001b[0m\u001b[0m\n\u001b[0m\u001b[1;32m      2\u001b[0m \u001b[0;34m\u001b[0m\u001b[0m\n\u001b[1;32m      3\u001b[0m \u001b[0mimage_size\u001b[0m \u001b[0;34m=\u001b[0m \u001b[0;36m56\u001b[0m \u001b[0;31m#We should use 56 instead, using 64x64 images\u001b[0m\u001b[0;34m\u001b[0m\u001b[0;34m\u001b[0m\u001b[0m\n\u001b[1;32m      4\u001b[0m \u001b[0minput_images\u001b[0m \u001b[0;34m=\u001b[0m \u001b[0mtf\u001b[0m\u001b[0;34m.\u001b[0m\u001b[0mplaceholder\u001b[0m\u001b[0;34m(\u001b[0m\u001b[0mtf\u001b[0m\u001b[0;34m.\u001b[0m\u001b[0mfloat32\u001b[0m\u001b[0;34m,\u001b[0m \u001b[0mshape\u001b[0m \u001b[0;34m[\u001b[0m\u001b[0;32mNone\u001b[0m\u001b[0;34m,\u001b[0m \u001b[0mimage_size\u001b[0m\u001b[0;34m,\u001b[0m \u001b[0mimage_size\u001b[0m\u001b[0;34m,\u001b[0m\u001b[0;36m3\u001b[0m\u001b[0;34m]\u001b[0m\u001b[0;34m,\u001b[0m \u001b[0mname\u001b[0m \u001b[0;34m=\u001b[0m \u001b[0;34m\"input_images\"\u001b[0m\u001b[0;34m)\u001b[0m\u001b[0;34m\u001b[0m\u001b[0;34m\u001b[0m\u001b[0m\n\u001b[1;32m      5\u001b[0m \u001b[0;34m\u001b[0m\u001b[0m\n",
      "\u001b[0;31mModuleNotFoundError\u001b[0m: No module named 'tensorflow'"
     ]
    }
   ],
   "source": [
    "import tensorflow as tf\n",
    "\n",
    "image_size = 56 #We should use 56 instead, using 64x64 images\n",
    "input_images = tf.placeholder(tf.float32, shape= [None, image_size, image_size,3], name = \"input_images\")\n",
    "\n",
    "kernel = tf.Variable(tf.truncated_normal([11,11,3,96], dtype=tf.float32, stddev=1e-2), name=\"conv1_weights\")\n",
    "\n",
    "conv = tf.nn.conv2d(input_images, kernel, [1,4,4,1], padding=\"SAME\")\n",
    "#[1,4,4,1] === [1,stride,stride,1] see documentation\n",
    "bias = tf.Variable(tf.truncated_normal([96]))\n",
    "\n",
    "conv_with_bias = tf.nn.bias_add(conv, bias)\n",
    "conv1 = tf.nn.relu(conv_with_bias, name=\"conv1\")\n",
    "lrn1 = tf.nn.lrn(conv1, alpha = 1e-4, beta=0.75, depth_radius=5, bias=2.0)\n",
    "#LRN = Local Response Normalisation\n",
    "#Depth Radius is most probably n, need to verify\n",
    "pooled_conv1 = tf.nn.max_pool(lrn1, ksize=[1,3,3,1], strides=[1,2,2,1], padding=\"SAME\", name=\"pool1\")\n"
   ]
  },
  {
   "cell_type": "code",
   "execution_count": null,
   "metadata": {},
   "outputs": [],
   "source": [
    "kernel = tf.Variable(tf.truncated_normal([5,5,96,256], dtype=tf.float32, stddev=1e-2), name=\"conv2_weights\")\n",
    "conv = tf.nn.conv2d(pooled_conv1, kernel, [1, 4, 4, 1], padding=\"SAME\")\n",
    "bias = tf.Variable(tf.ones([256]), name=\"conv2_bias\")\n",
    "conv_with_bias = tf.nn.bias_add(conv, bias)\n",
    "conv2 = tf.nn.relu(conv_with_bias, name=\"conv2\")\n",
    "lrn2 = tf.nn.lrn(conv2,\n",
    "                 alpha=1e-4,\n",
    "                 beta=0.75,\n",
    "                 depth_radius=5,\n",
    "                 bias=2.0)\n",
    "\n",
    "pooled_conv2 = tf.nn.max_pool(lrn2,\n",
    "                              ksize=[1, 3, 3, 1],\n",
    "                              strides=[1, 2, 2, 1],\n",
    "                              padding=\"SAME\",\n",
    "                              name=\"pool2\")\n"
   ]
  },
  {
   "cell_type": "code",
   "execution_count": null,
   "metadata": {},
   "outputs": [],
   "source": [
    "kernel = tf.Variable(tf.truncated_normal([3, 3, 256, 384],\n",
    "                                         dtype=tf.float32,\n",
    "                                         stddev=1e-2),\n",
    "                     name=\"conv3_weights\")\n",
    "conv = tf.nn.conv2d(pooled_conv2, kernel, [1, 1, 1, 1], padding=\"SAME\")\n",
    "bias = tf.Variable(tf.truncated_normal([384]), name=\"conv3_bias\")\n",
    "conv_with_bias = tf.nn.bias_add(conv, bias)\n",
    "conv3 = tf.nn.relu(conv_with_bias, name=\"conv3\")"
   ]
  },
  {
   "cell_type": "code",
   "execution_count": null,
   "metadata": {},
   "outputs": [],
   "source": [
    "kernel = tf.Variable(tf.truncated_normal([3, 3, 384, 384],\n",
    "                                         dtype=tf.float32,\n",
    "                                         stddev=1e-2),\n",
    "                     name=\"conv4_weights\")\n",
    "conv = tf.nn.conv2d(conv3, kernel, [1, 1, 1, 1], padding=\"SAME\")\n",
    "bias = tf.Variable(tf.ones([384]), name=\"conv4_bias\")\n",
    "conv_with_bias = tf.nn.bias_add(conv, bias)\n",
    "conv4 = tf.nn.relu(conv_with_bias, name=\"conv4\")"
   ]
  },
  {
   "cell_type": "code",
   "execution_count": null,
   "metadata": {},
   "outputs": [],
   "source": [
    "kernel = tf.Variable(tf.truncated_normal([3, 3, 384, 256],\n",
    "                                         dtype=tf.float32,\n",
    "                                         stddev=1e-2),\n",
    "                     name=\"conv5_weights\")\n",
    "conv = tf.nn.conv2d(conv4, kernel, [1, 1, 1, 1], padding=\"SAME\")\n",
    "bias = tf.Variable(tf.ones([256]), name=\"conv5_bias\")\n",
    "conv_with_bias = tf.nn.bias_add(conv, bias)\n",
    "conv5 = tf.nn.relu(conv_with_bias, name=\"conv5\")"
   ]
  },
  {
   "cell_type": "code",
   "execution_count": null,
   "metadata": {},
   "outputs": [],
   "source": [
    "fc_size = 256\n",
    "conv5 = tf.layers.flatten(conv5)\n",
    "weights = tf.Variable(tf.truncated_normal([fc_size, fc_size]), name = \"fc1_weights\")\n",
    "bias = tf.Variable(tf.ones([fc_size]), name=\"fc1_bias\")\n",
    "fc1 = tf.matmul(conv5, weights) + bias\n",
    "fc1 = tf.nn.dropout(fc1, keep_prob = 0.5) #Check this line, might cause problem\n",
    "fc1 = tf.nn.relu(fc1, name=\"fc1\")"
   ]
  },
  {
   "cell_type": "code",
   "execution_count": null,
   "metadata": {},
   "outputs": [],
   "source": [
    "weights = tf.Variable(tf.truncated_normal([fc_size, fc_size]), name=\"fc2_weights\")\n",
    "bias = tf.Variable(tf.ones([fc_size]), name=\"fc2_bias\")\n",
    "fc2 = tf.matmul(fc1, weights) + bias\n",
    "fc2 = tf.nn.dropout(fc2, keep_prob = 0.5) #Check this line, might cause problem\n",
    "fc2 = tf.nn.relu(fc2, name=\"fc2\")"
   ]
  },
  {
   "cell_type": "code",
   "execution_count": null,
   "metadata": {},
   "outputs": [],
   "source": [
    "n_classes = 200\n",
    "weights = tf.Variable(tf.zeros([fc_size, n_classes]), name=\"output_weights\")\n",
    "bias = tf.Variable(tf.ones([n_classes]), name=\"output_bias\")\n",
    "out = tf.matmul(fc2, weights) + bias\n",
    "out = tf.nn.softmax(out)"
   ]
  }
 ],
 "metadata": {
  "kernelspec": {
   "display_name": "Python 3",
   "language": "python",
   "name": "python3"
  },
  "language_info": {
   "codemirror_mode": {
    "name": "ipython",
    "version": 3
   },
   "file_extension": ".py",
   "mimetype": "text/x-python",
   "name": "python",
   "nbconvert_exporter": "python",
   "pygments_lexer": "ipython3",
   "version": "3.7.3"
  }
 },
 "nbformat": 4,
 "nbformat_minor": 2
}

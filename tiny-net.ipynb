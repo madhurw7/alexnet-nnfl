{
  "nbformat": 4,
  "nbformat_minor": 0,
  "metadata": {
    "accelerator": "GPU",
    "colab": {
      "name": "tiny-net.ipynb",
      "provenance": [],
      "collapsed_sections": []
    },
    "kernelspec": {
      "display_name": "Python 3",
      "language": "python",
      "name": "python3"
    },
    "language_info": {
      "codemirror_mode": {
        "name": "ipython",
        "version": 3
      },
      "file_extension": ".py",
      "mimetype": "text/x-python",
      "name": "python",
      "nbconvert_exporter": "python",
      "pygments_lexer": "ipython3",
      "version": "3.7.3"
    }
  },
  "cells": [
    {
      "cell_type": "markdown",
      "metadata": {
        "colab_type": "text",
        "id": "A0DpCtCwn9_0"
      },
      "source": [
        "This implementation requires Tensorflow 2.1.0, if you set up the environment using the `environment.yml` file, you should be good."
      ]
    },
    {
      "cell_type": "code",
      "metadata": {
        "colab_type": "code",
        "id": "ZDEM2K_uf9u9",
        "colab": {
          "base_uri": "https://localhost:8080/",
          "height": 1000
        },
        "outputId": "2bff1f78-1600-4c1f-dfd6-1e7916eed6b2"
      },
      "source": [
        "# Run only if you are using Google Colab\n",
        "%pip install tensorflow==2.1.0\n",
        "!pip install pyyaml h5py"
      ],
      "execution_count": 1,
      "outputs": [
        {
          "output_type": "stream",
          "text": [
            "Collecting tensorflow==2.1.0\n",
            "\u001b[?25l  Downloading https://files.pythonhosted.org/packages/85/d4/c0cd1057b331bc38b65478302114194bd8e1b9c2bbc06e300935c0e93d90/tensorflow-2.1.0-cp36-cp36m-manylinux2010_x86_64.whl (421.8MB)\n",
            "\u001b[K     |████████████████████████████████| 421.8MB 42kB/s \n",
            "\u001b[?25hRequirement already satisfied: protobuf>=3.8.0 in /usr/local/lib/python3.6/dist-packages (from tensorflow==2.1.0) (3.10.0)\n",
            "Requirement already satisfied: keras-applications>=1.0.8 in /usr/local/lib/python3.6/dist-packages (from tensorflow==2.1.0) (1.0.8)\n",
            "Requirement already satisfied: google-pasta>=0.1.6 in /usr/local/lib/python3.6/dist-packages (from tensorflow==2.1.0) (0.2.0)\n",
            "Requirement already satisfied: six>=1.12.0 in /usr/local/lib/python3.6/dist-packages (from tensorflow==2.1.0) (1.12.0)\n",
            "Requirement already satisfied: wheel>=0.26; python_version >= \"3\" in /usr/local/lib/python3.6/dist-packages (from tensorflow==2.1.0) (0.34.2)\n",
            "Requirement already satisfied: numpy<2.0,>=1.16.0 in /usr/local/lib/python3.6/dist-packages (from tensorflow==2.1.0) (1.18.4)\n",
            "Requirement already satisfied: keras-preprocessing>=1.1.0 in /usr/local/lib/python3.6/dist-packages (from tensorflow==2.1.0) (1.1.2)\n",
            "Collecting tensorboard<2.2.0,>=2.1.0\n",
            "\u001b[?25l  Downloading https://files.pythonhosted.org/packages/d9/41/bbf49b61370e4f4d245d4c6051dfb6db80cec672605c91b1652ac8cc3d38/tensorboard-2.1.1-py3-none-any.whl (3.8MB)\n",
            "\u001b[K     |████████████████████████████████| 3.9MB 25.8MB/s \n",
            "\u001b[?25hRequirement already satisfied: wrapt>=1.11.1 in /usr/local/lib/python3.6/dist-packages (from tensorflow==2.1.0) (1.12.1)\n",
            "Requirement already satisfied: scipy==1.4.1; python_version >= \"3\" in /usr/local/lib/python3.6/dist-packages (from tensorflow==2.1.0) (1.4.1)\n",
            "Collecting tensorflow-estimator<2.2.0,>=2.1.0rc0\n",
            "\u001b[?25l  Downloading https://files.pythonhosted.org/packages/18/90/b77c328a1304437ab1310b463e533fa7689f4bfc41549593056d812fab8e/tensorflow_estimator-2.1.0-py2.py3-none-any.whl (448kB)\n",
            "\u001b[K     |████████████████████████████████| 450kB 65.1MB/s \n",
            "\u001b[?25hRequirement already satisfied: grpcio>=1.8.6 in /usr/local/lib/python3.6/dist-packages (from tensorflow==2.1.0) (1.29.0)\n",
            "Requirement already satisfied: termcolor>=1.1.0 in /usr/local/lib/python3.6/dist-packages (from tensorflow==2.1.0) (1.1.0)\n",
            "Requirement already satisfied: astor>=0.6.0 in /usr/local/lib/python3.6/dist-packages (from tensorflow==2.1.0) (0.8.1)\n",
            "Requirement already satisfied: absl-py>=0.7.0 in /usr/local/lib/python3.6/dist-packages (from tensorflow==2.1.0) (0.9.0)\n",
            "Requirement already satisfied: opt-einsum>=2.3.2 in /usr/local/lib/python3.6/dist-packages (from tensorflow==2.1.0) (3.2.1)\n",
            "Collecting gast==0.2.2\n",
            "  Downloading https://files.pythonhosted.org/packages/4e/35/11749bf99b2d4e3cceb4d55ca22590b0d7c2c62b9de38ac4a4a7f4687421/gast-0.2.2.tar.gz\n",
            "Requirement already satisfied: setuptools in /usr/local/lib/python3.6/dist-packages (from protobuf>=3.8.0->tensorflow==2.1.0) (46.3.0)\n",
            "Requirement already satisfied: h5py in /usr/local/lib/python3.6/dist-packages (from keras-applications>=1.0.8->tensorflow==2.1.0) (2.10.0)\n",
            "Requirement already satisfied: markdown>=2.6.8 in /usr/local/lib/python3.6/dist-packages (from tensorboard<2.2.0,>=2.1.0->tensorflow==2.1.0) (3.2.2)\n",
            "Requirement already satisfied: google-auth-oauthlib<0.5,>=0.4.1 in /usr/local/lib/python3.6/dist-packages (from tensorboard<2.2.0,>=2.1.0->tensorflow==2.1.0) (0.4.1)\n",
            "Requirement already satisfied: werkzeug>=0.11.15 in /usr/local/lib/python3.6/dist-packages (from tensorboard<2.2.0,>=2.1.0->tensorflow==2.1.0) (1.0.1)\n",
            "Requirement already satisfied: requests<3,>=2.21.0 in /usr/local/lib/python3.6/dist-packages (from tensorboard<2.2.0,>=2.1.0->tensorflow==2.1.0) (2.23.0)\n",
            "Requirement already satisfied: google-auth<2,>=1.6.3 in /usr/local/lib/python3.6/dist-packages (from tensorboard<2.2.0,>=2.1.0->tensorflow==2.1.0) (1.7.2)\n",
            "Requirement already satisfied: importlib-metadata; python_version < \"3.8\" in /usr/local/lib/python3.6/dist-packages (from markdown>=2.6.8->tensorboard<2.2.0,>=2.1.0->tensorflow==2.1.0) (1.6.0)\n",
            "Requirement already satisfied: requests-oauthlib>=0.7.0 in /usr/local/lib/python3.6/dist-packages (from google-auth-oauthlib<0.5,>=0.4.1->tensorboard<2.2.0,>=2.1.0->tensorflow==2.1.0) (1.3.0)\n",
            "Requirement already satisfied: certifi>=2017.4.17 in /usr/local/lib/python3.6/dist-packages (from requests<3,>=2.21.0->tensorboard<2.2.0,>=2.1.0->tensorflow==2.1.0) (2020.4.5.1)\n",
            "Requirement already satisfied: idna<3,>=2.5 in /usr/local/lib/python3.6/dist-packages (from requests<3,>=2.21.0->tensorboard<2.2.0,>=2.1.0->tensorflow==2.1.0) (2.9)\n",
            "Requirement already satisfied: urllib3!=1.25.0,!=1.25.1,<1.26,>=1.21.1 in /usr/local/lib/python3.6/dist-packages (from requests<3,>=2.21.0->tensorboard<2.2.0,>=2.1.0->tensorflow==2.1.0) (1.24.3)\n",
            "Requirement already satisfied: chardet<4,>=3.0.2 in /usr/local/lib/python3.6/dist-packages (from requests<3,>=2.21.0->tensorboard<2.2.0,>=2.1.0->tensorflow==2.1.0) (3.0.4)\n",
            "Requirement already satisfied: pyasn1-modules>=0.2.1 in /usr/local/lib/python3.6/dist-packages (from google-auth<2,>=1.6.3->tensorboard<2.2.0,>=2.1.0->tensorflow==2.1.0) (0.2.8)\n",
            "Requirement already satisfied: rsa<4.1,>=3.1.4 in /usr/local/lib/python3.6/dist-packages (from google-auth<2,>=1.6.3->tensorboard<2.2.0,>=2.1.0->tensorflow==2.1.0) (4.0)\n",
            "Requirement already satisfied: cachetools<3.2,>=2.0.0 in /usr/local/lib/python3.6/dist-packages (from google-auth<2,>=1.6.3->tensorboard<2.2.0,>=2.1.0->tensorflow==2.1.0) (3.1.1)\n",
            "Requirement already satisfied: zipp>=0.5 in /usr/local/lib/python3.6/dist-packages (from importlib-metadata; python_version < \"3.8\"->markdown>=2.6.8->tensorboard<2.2.0,>=2.1.0->tensorflow==2.1.0) (3.1.0)\n",
            "Requirement already satisfied: oauthlib>=3.0.0 in /usr/local/lib/python3.6/dist-packages (from requests-oauthlib>=0.7.0->google-auth-oauthlib<0.5,>=0.4.1->tensorboard<2.2.0,>=2.1.0->tensorflow==2.1.0) (3.1.0)\n",
            "Requirement already satisfied: pyasn1<0.5.0,>=0.4.6 in /usr/local/lib/python3.6/dist-packages (from pyasn1-modules>=0.2.1->google-auth<2,>=1.6.3->tensorboard<2.2.0,>=2.1.0->tensorflow==2.1.0) (0.4.8)\n",
            "Building wheels for collected packages: gast\n",
            "  Building wheel for gast (setup.py) ... \u001b[?25l\u001b[?25hdone\n",
            "  Created wheel for gast: filename=gast-0.2.2-cp36-none-any.whl size=7540 sha256=cee93bc946bba3aca9be68f3bb6a320d9d9e0d44b58a8a3911f83dee0d254255\n",
            "  Stored in directory: /root/.cache/pip/wheels/5c/2e/7e/a1d4d4fcebe6c381f378ce7743a3ced3699feb89bcfbdadadd\n",
            "Successfully built gast\n",
            "\u001b[31mERROR: tensorflow-probability 0.10.0 has requirement gast>=0.3.2, but you'll have gast 0.2.2 which is incompatible.\u001b[0m\n",
            "Installing collected packages: tensorboard, tensorflow-estimator, gast, tensorflow\n",
            "  Found existing installation: tensorboard 2.2.1\n",
            "    Uninstalling tensorboard-2.2.1:\n",
            "      Successfully uninstalled tensorboard-2.2.1\n",
            "  Found existing installation: tensorflow-estimator 2.2.0\n",
            "    Uninstalling tensorflow-estimator-2.2.0:\n",
            "      Successfully uninstalled tensorflow-estimator-2.2.0\n",
            "  Found existing installation: gast 0.3.3\n",
            "    Uninstalling gast-0.3.3:\n",
            "      Successfully uninstalled gast-0.3.3\n",
            "  Found existing installation: tensorflow 2.2.0\n",
            "    Uninstalling tensorflow-2.2.0:\n",
            "      Successfully uninstalled tensorflow-2.2.0\n",
            "Successfully installed gast-0.2.2 tensorboard-2.1.1 tensorflow-2.1.0 tensorflow-estimator-2.1.0\n",
            "Requirement already satisfied: pyyaml in /usr/local/lib/python3.6/dist-packages (3.13)\n",
            "Requirement already satisfied: h5py in /usr/local/lib/python3.6/dist-packages (2.10.0)\n",
            "Requirement already satisfied: numpy>=1.7 in /usr/local/lib/python3.6/dist-packages (from h5py) (1.18.4)\n",
            "Requirement already satisfied: six in /usr/local/lib/python3.6/dist-packages (from h5py) (1.12.0)\n"
          ],
          "name": "stdout"
        }
      ]
    },
    {
      "cell_type": "code",
      "metadata": {
        "colab_type": "code",
        "id": "gTApzs6odQgd",
        "colab": {}
      },
      "source": [
        "import os\n",
        "import numpy as np\n",
        "import tensorflow as tf\n",
        "import matplotlib.pyplot as plt\n",
        "import tensorflow_addons as tfa"
      ],
      "execution_count": 0,
      "outputs": []
    },
    {
      "cell_type": "code",
      "metadata": {
        "id": "6jIrM-tseI3Y",
        "colab_type": "code",
        "colab": {}
      },
      "source": [
        "if tf.__version__ != \"2.1.0\":\n",
        "  print(\"Tensorflow 2.1.0 required...\")"
      ],
      "execution_count": 0,
      "outputs": []
    },
    {
      "cell_type": "markdown",
      "metadata": {
        "colab_type": "text",
        "id": "r30TvsDm0SHO"
      },
      "source": [
        "Getting Dataset\n"
      ]
    },
    {
      "cell_type": "code",
      "metadata": {
        "id": "dlrIBjz_dglw",
        "colab_type": "code",
        "colab": {}
      },
      "source": [
        "downloadDataSet = True"
      ],
      "execution_count": 0,
      "outputs": []
    },
    {
      "cell_type": "code",
      "metadata": {
        "colab_type": "code",
        "id": "b2DboYm4dQgm",
        "colab": {
          "base_uri": "https://localhost:8080/",
          "height": 53
        },
        "outputId": "e676a672-7031-4ee5-ac07-561bd37f9178"
      },
      "source": [
        "# Ensuring dataset is available\n",
        "if downloadDataSet:\n",
        "    _URL = \"http://cs231n.stanford.edu/tiny-imagenet-200.zip\"\n",
        "    path_to_zip = tf.keras.utils.get_file('tiny-imagenet-200.zip', origin=_URL, extract=True)\n",
        "    PATH = os.path.join(os.path.dirname(path_to_zip), 'tiny-imagenet-200')\n",
        "else:\n",
        "    PATH = \"./tiny-imagenet-200\""
      ],
      "execution_count": 5,
      "outputs": [
        {
          "output_type": "stream",
          "text": [
            "Downloading data from http://cs231n.stanford.edu/tiny-imagenet-200.zip\n",
            "248102912/248100043 [==============================] - 26s 0us/step\n"
          ],
          "name": "stdout"
        }
      ]
    },
    {
      "cell_type": "code",
      "metadata": {
        "colab_type": "code",
        "id": "KBpT6DtKdQgr",
        "colab": {}
      },
      "source": [
        "# to access the dataset\n",
        "train_dir = os.path.join(PATH, 'train')\n",
        "val_dir = os.path.join(PATH, 'val')"
      ],
      "execution_count": 0,
      "outputs": []
    },
    {
      "cell_type": "code",
      "metadata": {
        "colab_type": "code",
        "id": "ItYOPVmjLCb2",
        "colab": {}
      },
      "source": [
        "# to save the model\n",
        "checkpoint_path = \"tinynet.h5\"\n",
        "checkpoint_dir = os.path.dirname(checkpoint_path)"
      ],
      "execution_count": 0,
      "outputs": []
    },
    {
      "cell_type": "markdown",
      "metadata": {
        "colab_type": "text",
        "id": "O1THvKkw4lFU"
      },
      "source": [
        "Parameters"
      ]
    },
    {
      "cell_type": "code",
      "metadata": {
        "colab_type": "code",
        "id": "9lLDkQW84iDJ",
        "colab": {}
      },
      "source": [
        "learning_rate = 0.01\n",
        "momentum = 0.9\n",
        "weight_decay = 0.0005\n",
        "total_epochs = 50\n",
        "batch_size = 256\n",
        "input_shape = (64, 64, 3)\n",
        "num_classes = 200"
      ],
      "execution_count": 0,
      "outputs": []
    },
    {
      "cell_type": "markdown",
      "metadata": {
        "colab_type": "text",
        "id": "c6UwCF800ii0"
      },
      "source": [
        "Utilities"
      ]
    },
    {
      "cell_type": "code",
      "metadata": {
        "colab_type": "code",
        "id": "8DU9CRex2Qhw",
        "colab": {}
      },
      "source": [
        "# callback function to be used during training\n",
        "def model_callbacks(path):\n",
        "    # saving the model when validation accuracy increases after an epoch\n",
        "    checkpoint = tf.keras.callbacks.ModelCheckpoint(path, monitor = 'val_categorical_accuracy',\n",
        "                                mode = 'max', save_best_only = True, verbose = 1)\n",
        "    \n",
        "    # reducing the learning rate when validation loss saturates or starts increasing \n",
        "    reduce_lr = tf.keras.callbacks.ReduceLROnPlateau(monitor = 'val_loss', mode = 'min', factor = 0.1,    \n",
        "                                  patience = 8, verbose = 1, min_lr = 0.0001)\n",
        "    \n",
        "    return [checkpoint, reduce_lr]"
      ],
      "execution_count": 0,
      "outputs": []
    },
    {
      "cell_type": "code",
      "metadata": {
        "colab_type": "code",
        "id": "JdclzdxD0bqh",
        "colab": {}
      },
      "source": [
        "# to print 5 of the augmented images\n",
        "def plotImages(images_arr):\n",
        "    fig, axes = plt.subplots(1, 5, figsize=(20,20))\n",
        "    axes = axes.flatten()\n",
        "    for img, ax in zip(images_arr, axes):\n",
        "        ax.imshow(img)\n",
        "        ax.axis('off')\n",
        "    plt.tight_layout()\n",
        "    plt.show()"
      ],
      "execution_count": 0,
      "outputs": []
    },
    {
      "cell_type": "code",
      "metadata": {
        "colab_type": "code",
        "id": "Sbib2OHd2RY_",
        "colab": {}
      },
      "source": [
        "# to plot the results of training - loss, top 1 accuracy and top 5 accuracy\n",
        "def plot_graph(model, N):\n",
        "    # loss plot\n",
        "    plt.figure(0)\n",
        "    plt.plot(np.arange(0, N), model.history['loss'], label='Training loss')\n",
        "    plt.plot(np.arange(0, N), model.history['val_loss'], label='Validation loss')\n",
        "    plt.title('Training vs Validation Loss')\n",
        "    plt.xlabel('Epochs')\n",
        "    plt.ylabel('Loss')\n",
        "    plt.legend()\n",
        "    \n",
        "    # top 1 accuracy plot\n",
        "    plt.figure(1)\n",
        "    plt.plot(np.arange(0, N), model.history['categorical_accuracy'], label='Top 1 Training Accuracy')\n",
        "    plt.plot(np.arange(0, N), model.history['val_categorical_accuracy'], label='Top 1 Validation Accuracy')\n",
        "    plt.title('Top 1 Training vs Validation Accuracy')\n",
        "    plt.xlabel('Epochs')\n",
        "    plt.ylabel('Accuracy')\n",
        "    plt.legend()\n",
        "    \n",
        "    # top 5 accuracy plot\n",
        "    plt.figure(2)\n",
        "    plt.plot(np.arange(0, N), model.history['top_k_categorical_accuracy'], label='Top 5 Training Accuracy')\n",
        "    plt.plot(np.arange(0, N), model.history['val_top_k_categorical_accuracy'], label='Top 5 Validation Accuracy')\n",
        "    plt.title('Top 5 Training vs Validation Acuracy')\n",
        "    plt.xlabel('Epochs')\n",
        "    plt.ylabel('Accuracy')\n",
        "    plt.legend()"
      ],
      "execution_count": 0,
      "outputs": []
    },
    {
      "cell_type": "markdown",
      "metadata": {
        "colab_type": "text",
        "id": "IZA2VrXB1_B6"
      },
      "source": [
        "Augmentation"
      ]
    },
    {
      "cell_type": "code",
      "metadata": {
        "colab_type": "code",
        "id": "M8Ha9DBMdQgx",
        "colab": {
          "base_uri": "https://localhost:8080/",
          "height": 73
        },
        "outputId": "4487508a-f2cf-4598-9842-806778883263"
      },
      "source": [
        "# augmenting function with a validation split of 20.00 %\n",
        "augment = tf.keras.preprocessing.image.ImageDataGenerator(zca_whitening=True, horizontal_flip=True, validation_split = 0.2)\n",
        "\n",
        "# zca_whitening parameters\n",
        "augment.mean = 112.69858580973307\n",
        "augment.std = 70.93752549462194\n",
        "augment.principal_components = 40"
      ],
      "execution_count": 12,
      "outputs": [
        {
          "output_type": "stream",
          "text": [
            "/usr/local/lib/python3.6/dist-packages/keras_preprocessing/image/image_data_generator.py:337: UserWarning: This ImageDataGenerator specifies `zca_whitening`, which overrides setting of `featurewise_center`.\n",
            "  warnings.warn('This ImageDataGenerator specifies '\n"
          ],
          "name": "stderr"
        }
      ]
    },
    {
      "cell_type": "code",
      "metadata": {
        "colab_type": "code",
        "id": "UvNH3gyqdQg0",
        "outputId": "ce3da2ac-1d9c-4255-ea70-8d6b14d66cdc",
        "colab": {
          "base_uri": "https://localhost:8080/",
          "height": 53
        }
      },
      "source": [
        "# generating augmented train data\n",
        "train_data_gen = augment.flow_from_directory(batch_size=batch_size, directory=train_dir,\n",
        "                                             shuffle=True, target_size=(64, 64),\n",
        "                                             class_mode='categorical', subset='training')\n",
        "\n",
        "# generating augmented validation data\n",
        "val_data_gen = augment.flow_from_directory(batch_size=batch_size, directory = train_dir,\n",
        "                                              shuffle=True, target_size=(64, 64),\n",
        "                                              class_mode='categorical', subset = 'validation')"
      ],
      "execution_count": 13,
      "outputs": [
        {
          "output_type": "stream",
          "text": [
            "Found 80000 images belonging to 200 classes.\n",
            "Found 20000 images belonging to 200 classes.\n"
          ],
          "name": "stdout"
        }
      ]
    },
    {
      "cell_type": "code",
      "metadata": {
        "colab_type": "code",
        "id": "-e0OGtTWdQg5",
        "outputId": "0c50763a-5bd7-4580-e4b6-1d819e8f0b04",
        "colab": {
          "base_uri": "https://localhost:8080/",
          "height": 373
        }
      },
      "source": [
        "# printing 5 augmented images from training set\n",
        "sample_training_images, _ = next(train_data_gen)\n",
        "plotImages(sample_training_images[:5])"
      ],
      "execution_count": 14,
      "outputs": [
        {
          "output_type": "stream",
          "text": [
            "Clipping input data to the valid range for imshow with RGB data ([0..1] for floats or [0..255] for integers).\n",
            "Clipping input data to the valid range for imshow with RGB data ([0..1] for floats or [0..255] for integers).\n",
            "Clipping input data to the valid range for imshow with RGB data ([0..1] for floats or [0..255] for integers).\n",
            "Clipping input data to the valid range for imshow with RGB data ([0..1] for floats or [0..255] for integers).\n",
            "Clipping input data to the valid range for imshow with RGB data ([0..1] for floats or [0..255] for integers).\n"
          ],
          "name": "stderr"
        },
        {
          "output_type": "display_data",
          "data": {
            "image/png": "[encoded data removed]",
            "text/plain": [
              "<Figure size 1440x1440 with 5 Axes>"
            ]
          },
          "metadata": {
            "tags": [],
            "needs_background": "light"
          }
        }
      ]
    },
    {
      "cell_type": "markdown",
      "metadata": {
        "colab_type": "text",
        "id": "QWXbeH5L2Edm"
      },
      "source": [
        "Model"
      ]
    },
    {
      "cell_type": "code",
      "metadata": {
        "colab_type": "code",
        "id": "btdUbcP-J8EU",
        "colab": {}
      },
      "source": [
        "# tinynet architecture\n",
        "def build(input_shape, num_classes):\n",
        "    model = tf.keras.Sequential()\n",
        "    \n",
        "    # convolution layer 1\n",
        "    model.add(tf.keras.layers.Convolution2D(64, (5, 5), strides=(1, 1), padding='same', input_shape=input_shape))\n",
        "    model.add(tf.keras.layers.BatchNormalization(momentum=0.9))\n",
        "    model.add(tf.keras.layers.Activation('relu'))\n",
        "    model.add(tf.keras.layers.ZeroPadding2D((1,1)))\n",
        "    model.add(tf.keras.layers.MaxPooling2D(pool_size=(3, 3), strides=(3, 3)))\n",
        "    \n",
        "    # convolution layer 2\n",
        "    model.add(tf.keras.layers.Convolution2D(128, (3, 3), strides=(1, 1), padding='same'))\n",
        "    model.add(tf.keras.layers.BatchNormalization(momentum=0.9))\n",
        "    model.add(tf.keras.layers.Activation('relu'))\n",
        "    model.add(tf.keras.layers.ZeroPadding2D((1,1)))\n",
        "    model.add(tf.keras.layers.MaxPooling2D(pool_size=(3, 3), strides=(3, 3)))\n",
        "    \n",
        "    # convolution layer 3\n",
        "    model.add(tf.keras.layers.Convolution2D(128, (3, 3), strides=(1, 1), padding='same'))\n",
        "    model.add(tf.keras.layers.BatchNormalization(momentum=0.9))\n",
        "    model.add(tf.keras.layers.Activation('relu'))\n",
        "\n",
        "    # convolution layer 4\n",
        "    model.add(tf.keras.layers.Convolution2D(256, (3, 3), strides=(1, 1), padding='same'))\n",
        "    model.add(tf.keras.layers.BatchNormalization(momentum=0.9))\n",
        "    model.add(tf.keras.layers.Activation('relu'))\n",
        "    model.add(tf.keras.layers.ZeroPadding2D((1,1)))\n",
        "    model.add(tf.keras.layers.MaxPooling2D(pool_size=(3, 3), strides=(3, 3)))\n",
        "\n",
        "    # convolution layer 5\n",
        "    model.add(tf.keras.layers.Convolution2D(256, (3, 3), strides=(1, 1), padding='same'))\n",
        "    model.add(tf.keras.layers.BatchNormalization(momentum=0.9))\n",
        "    model.add(tf.keras.layers.Activation('relu'))\n",
        "\n",
        "    # convolution layer 6\n",
        "    model.add(tf.keras.layers.Convolution2D(512, (3, 3), strides=(1, 1), padding='same'))\n",
        "    model.add(tf.keras.layers.BatchNormalization(momentum=0.9))\n",
        "    model.add(tf.keras.layers.Activation('relu'))\n",
        "\n",
        "    # convolution layer 7\n",
        "    model.add(tf.keras.layers.Convolution2D(512, (3, 3), strides=(1, 1), padding='same'))\n",
        "    model.add(tf.keras.layers.BatchNormalization(momentum=0.9))\n",
        "    model.add(tf.keras.layers.Activation('relu'))\n",
        "\n",
        "    # flattening\n",
        "    model.add(tf.keras.layers.Flatten())\n",
        "    model.add(tf.keras.layers.Dropout(0.5))\n",
        "\n",
        "    # fully connected layer 1\n",
        "    model.add(tf.keras.layers.Dense(1024))\n",
        "    model.add(tf.keras.layers.BatchNormalization(momentum=0.9))\n",
        "    model.add(tf.keras.layers.Activation('relu')) \n",
        "    model.add(tf.keras.layers.Dropout(0.5))\n",
        "    \n",
        "    # fully connected layer 2\n",
        "    model.add(tf.keras.layers.Dense(1024))\n",
        "    model.add(tf.keras.layers.BatchNormalization(momentum=0.9))\n",
        "    model.add(tf.keras.layers.Activation('relu'))\n",
        "    model.add(tf.keras.layers.Dropout(0.5))\n",
        "    \n",
        "    # output layer\n",
        "    model.add(tf.keras.layers.Dense(num_classes, activation='softmax'))\n",
        "    \n",
        "    return model"
      ],
      "execution_count": 0,
      "outputs": []
    },
    {
      "cell_type": "code",
      "metadata": {
        "colab_type": "code",
        "id": "QKP387OC1G2S",
        "outputId": "437bdfaf-a8dd-44bc-fc22-7e6de9393984",
        "colab": {
          "base_uri": "https://localhost:8080/",
          "height": 1000
        }
      },
      "source": [
        "# summary of the architecture\n",
        "build(input_shape, num_classes).summary()"
      ],
      "execution_count": 17,
      "outputs": [
        {
          "output_type": "stream",
          "text": [
            "Model: \"sequential\"\n",
            "_________________________________________________________________\n",
            "Layer (type)                 Output Shape              Param #   \n",
            "=================================================================\n",
            "conv2d (Conv2D)              (None, 64, 64, 64)        4864      \n",
            "_________________________________________________________________\n",
            "batch_normalization (BatchNo (None, 64, 64, 64)        256       \n",
            "_________________________________________________________________\n",
            "activation (Activation)      (None, 64, 64, 64)        0         \n",
            "_________________________________________________________________\n",
            "zero_padding2d (ZeroPadding2 (None, 66, 66, 64)        0         \n",
            "_________________________________________________________________\n",
            "max_pooling2d (MaxPooling2D) (None, 22, 22, 64)        0         \n",
            "_________________________________________________________________\n",
            "conv2d_1 (Conv2D)            (None, 22, 22, 128)       73856     \n",
            "_________________________________________________________________\n",
            "batch_normalization_1 (Batch (None, 22, 22, 128)       512       \n",
            "_________________________________________________________________\n",
            "activation_1 (Activation)    (None, 22, 22, 128)       0         \n",
            "_________________________________________________________________\n",
            "zero_padding2d_1 (ZeroPaddin (None, 24, 24, 128)       0         \n",
            "_________________________________________________________________\n",
            "max_pooling2d_1 (MaxPooling2 (None, 8, 8, 128)         0         \n",
            "_________________________________________________________________\n",
            "conv2d_2 (Conv2D)            (None, 8, 8, 128)         147584    \n",
            "_________________________________________________________________\n",
            "batch_normalization_2 (Batch (None, 8, 8, 128)         512       \n",
            "_________________________________________________________________\n",
            "activation_2 (Activation)    (None, 8, 8, 128)         0         \n",
            "_________________________________________________________________\n",
            "conv2d_3 (Conv2D)            (None, 8, 8, 256)         295168    \n",
            "_________________________________________________________________\n",
            "batch_normalization_3 (Batch (None, 8, 8, 256)         1024      \n",
            "_________________________________________________________________\n",
            "activation_3 (Activation)    (None, 8, 8, 256)         0         \n",
            "_________________________________________________________________\n",
            "zero_padding2d_2 (ZeroPaddin (None, 10, 10, 256)       0         \n",
            "_________________________________________________________________\n",
            "max_pooling2d_2 (MaxPooling2 (None, 3, 3, 256)         0         \n",
            "_________________________________________________________________\n",
            "conv2d_4 (Conv2D)            (None, 3, 3, 256)         590080    \n",
            "_________________________________________________________________\n",
            "batch_normalization_4 (Batch (None, 3, 3, 256)         1024      \n",
            "_________________________________________________________________\n",
            "activation_4 (Activation)    (None, 3, 3, 256)         0         \n",
            "_________________________________________________________________\n",
            "conv2d_5 (Conv2D)            (None, 3, 3, 512)         1180160   \n",
            "_________________________________________________________________\n",
            "batch_normalization_5 (Batch (None, 3, 3, 512)         2048      \n",
            "_________________________________________________________________\n",
            "activation_5 (Activation)    (None, 3, 3, 512)         0         \n",
            "_________________________________________________________________\n",
            "conv2d_6 (Conv2D)            (None, 3, 3, 512)         2359808   \n",
            "_________________________________________________________________\n",
            "batch_normalization_6 (Batch (None, 3, 3, 512)         2048      \n",
            "_________________________________________________________________\n",
            "activation_6 (Activation)    (None, 3, 3, 512)         0         \n",
            "_________________________________________________________________\n",
            "flatten (Flatten)            (None, 4608)              0         \n",
            "_________________________________________________________________\n",
            "dropout (Dropout)            (None, 4608)              0         \n",
            "_________________________________________________________________\n",
            "dense (Dense)                (None, 1024)              4719616   \n",
            "_________________________________________________________________\n",
            "batch_normalization_7 (Batch (None, 1024)              4096      \n",
            "_________________________________________________________________\n",
            "activation_7 (Activation)    (None, 1024)              0         \n",
            "_________________________________________________________________\n",
            "dropout_1 (Dropout)          (None, 1024)              0         \n",
            "_________________________________________________________________\n",
            "dense_1 (Dense)              (None, 1024)              1049600   \n",
            "_________________________________________________________________\n",
            "batch_normalization_8 (Batch (None, 1024)              4096      \n",
            "_________________________________________________________________\n",
            "activation_8 (Activation)    (None, 1024)              0         \n",
            "_________________________________________________________________\n",
            "dropout_2 (Dropout)          (None, 1024)              0         \n",
            "_________________________________________________________________\n",
            "dense_2 (Dense)              (None, 200)               205000    \n",
            "=================================================================\n",
            "Total params: 10,641,352\n",
            "Trainable params: 10,633,544\n",
            "Non-trainable params: 7,808\n",
            "_________________________________________________________________\n"
          ],
          "name": "stdout"
        }
      ]
    },
    {
      "cell_type": "markdown",
      "metadata": {
        "colab_type": "text",
        "id": "goORZyuO3M5Z"
      },
      "source": [
        "Training"
      ]
    },
    {
      "cell_type": "code",
      "metadata": {
        "colab_type": "code",
        "id": "kl8QU2uSdQhM",
        "outputId": "f5769b19-8c56-4874-a1e7-31861fe59dbe",
        "colab": {
          "base_uri": "https://localhost:8080/",
          "height": 1000
        }
      },
      "source": [
        "# initializing the model\n",
        "model_tinynet = build(input_shape, num_classes)\n",
        "model_tinynet.compile(optimizer=tfa.optimizers.weight_decay_optimizers.SGDW(\n",
        "                        learning_rate=learning_rate, momentum=momentum, \n",
        "                        weight_decay=weight_decay, nesterov=True, name='SGDW'),\n",
        "                        loss='categorical_crossentropy', \n",
        "                        metrics=['categorical_accuracy', 'top_k_categorical_accuracy'])\n",
        "\n",
        "# traing the model\n",
        "history = model_tinynet.fit(train_data_gen, epochs = total_epochs,\n",
        "                            validation_data=val_data_gen, verbose=1, \n",
        "                            callbacks=model_callbacks(checkpoint_path))\n",
        "\n",
        "# plotting the results\n",
        "plot_graph(history, total_epochs)"
      ],
      "execution_count": 18,
      "outputs": [
        {
          "output_type": "stream",
          "text": [
            "WARNING:tensorflow:sample_weight modes were coerced from\n",
            "  ...\n",
            "    to  \n",
            "  ['...']\n",
            "WARNING:tensorflow:sample_weight modes were coerced from\n",
            "  ...\n",
            "    to  \n",
            "  ['...']\n",
            "Train for 313 steps, validate for 79 steps\n",
            "Epoch 1/50\n",
            "312/313 [============================>.] - ETA: 0s - loss: 5.4152 - categorical_accuracy: 0.0114 - top_k_categorical_accuracy: 0.0481\n",
            "Epoch 00001: val_categorical_accuracy improved from -inf to 0.02785, saving model to tinynet.h5\n",
            "313/313 [==============================] - 73s 233ms/step - loss: 5.4138 - categorical_accuracy: 0.0114 - top_k_categorical_accuracy: 0.0482 - val_loss: 4.9711 - val_categorical_accuracy: 0.0279 - val_top_k_categorical_accuracy: 0.1040\n",
            "Epoch 2/50\n",
            "312/313 [============================>.] - ETA: 0s - loss: 4.7166 - categorical_accuracy: 0.0413 - top_k_categorical_accuracy: 0.1519\n",
            "Epoch 00002: val_categorical_accuracy improved from 0.02785 to 0.08760, saving model to tinynet.h5\n",
            "313/313 [==============================] - 63s 203ms/step - loss: 4.7157 - categorical_accuracy: 0.0414 - top_k_categorical_accuracy: 0.1521 - val_loss: 4.3516 - val_categorical_accuracy: 0.0876 - val_top_k_categorical_accuracy: 0.2614\n",
            "Epoch 3/50\n",
            "312/313 [============================>.] - ETA: 0s - loss: 4.2304 - categorical_accuracy: 0.0909 - top_k_categorical_accuracy: 0.2785\n",
            "Epoch 00003: val_categorical_accuracy improved from 0.08760 to 0.12435, saving model to tinynet.h5\n",
            "313/313 [==============================] - 63s 201ms/step - loss: 4.2298 - categorical_accuracy: 0.0910 - top_k_categorical_accuracy: 0.2786 - val_loss: 4.0719 - val_categorical_accuracy: 0.1243 - val_top_k_categorical_accuracy: 0.3326\n",
            "Epoch 4/50\n",
            "312/313 [============================>.] - ETA: 0s - loss: 3.8850 - categorical_accuracy: 0.1399 - top_k_categorical_accuracy: 0.3743\n",
            "Epoch 00004: val_categorical_accuracy improved from 0.12435 to 0.14510, saving model to tinynet.h5\n",
            "313/313 [==============================] - 63s 201ms/step - loss: 3.8849 - categorical_accuracy: 0.1400 - top_k_categorical_accuracy: 0.3744 - val_loss: 3.8989 - val_categorical_accuracy: 0.1451 - val_top_k_categorical_accuracy: 0.3679\n",
            "Epoch 5/50\n",
            "312/313 [============================>.] - ETA: 0s - loss: 3.6672 - categorical_accuracy: 0.1781 - top_k_categorical_accuracy: 0.4351\n",
            "Epoch 00005: val_categorical_accuracy improved from 0.14510 to 0.17730, saving model to tinynet.h5\n",
            "313/313 [==============================] - 62s 199ms/step - loss: 3.6669 - categorical_accuracy: 0.1781 - top_k_categorical_accuracy: 0.4352 - val_loss: 3.6949 - val_categorical_accuracy: 0.1773 - val_top_k_categorical_accuracy: 0.4230\n",
            "Epoch 6/50\n",
            "312/313 [============================>.] - ETA: 0s - loss: 3.5099 - categorical_accuracy: 0.2051 - top_k_categorical_accuracy: 0.4754\n",
            "Epoch 00006: val_categorical_accuracy improved from 0.17730 to 0.22310, saving model to tinynet.h5\n",
            "313/313 [==============================] - 62s 198ms/step - loss: 3.5096 - categorical_accuracy: 0.2050 - top_k_categorical_accuracy: 0.4755 - val_loss: 3.4503 - val_categorical_accuracy: 0.2231 - val_top_k_categorical_accuracy: 0.4897\n",
            "Epoch 7/50\n",
            "312/313 [============================>.] - ETA: 0s - loss: 3.3879 - categorical_accuracy: 0.2279 - top_k_categorical_accuracy: 0.5067\n",
            "Epoch 00007: val_categorical_accuracy improved from 0.22310 to 0.22710, saving model to tinynet.h5\n",
            "313/313 [==============================] - 63s 202ms/step - loss: 3.3877 - categorical_accuracy: 0.2280 - top_k_categorical_accuracy: 0.5067 - val_loss: 3.4095 - val_categorical_accuracy: 0.2271 - val_top_k_categorical_accuracy: 0.5002\n",
            "Epoch 8/50\n",
            "312/313 [============================>.] - ETA: 0s - loss: 3.2840 - categorical_accuracy: 0.2495 - top_k_categorical_accuracy: 0.5346\n",
            "Epoch 00008: val_categorical_accuracy did not improve from 0.22710\n",
            "313/313 [==============================] - 63s 201ms/step - loss: 3.2839 - categorical_accuracy: 0.2495 - top_k_categorical_accuracy: 0.5346 - val_loss: 3.4003 - val_categorical_accuracy: 0.2259 - val_top_k_categorical_accuracy: 0.4993\n",
            "Epoch 9/50\n",
            "312/313 [============================>.] - ETA: 0s - loss: 3.1826 - categorical_accuracy: 0.2686 - top_k_categorical_accuracy: 0.5589\n",
            "Epoch 00009: val_categorical_accuracy improved from 0.22710 to 0.24040, saving model to tinynet.h5\n",
            "313/313 [==============================] - 63s 203ms/step - loss: 3.1823 - categorical_accuracy: 0.2687 - top_k_categorical_accuracy: 0.5590 - val_loss: 3.3539 - val_categorical_accuracy: 0.2404 - val_top_k_categorical_accuracy: 0.5122\n",
            "Epoch 10/50\n",
            "312/313 [============================>.] - ETA: 0s - loss: 3.0956 - categorical_accuracy: 0.2871 - top_k_categorical_accuracy: 0.5802\n",
            "Epoch 00010: val_categorical_accuracy improved from 0.24040 to 0.26265, saving model to tinynet.h5\n",
            "313/313 [==============================] - 64s 204ms/step - loss: 3.0956 - categorical_accuracy: 0.2872 - top_k_categorical_accuracy: 0.5802 - val_loss: 3.2512 - val_categorical_accuracy: 0.2627 - val_top_k_categorical_accuracy: 0.5369\n",
            "Epoch 11/50\n",
            "312/313 [============================>.] - ETA: 0s - loss: 3.0138 - categorical_accuracy: 0.3048 - top_k_categorical_accuracy: 0.5991\n",
            "Epoch 00011: val_categorical_accuracy did not improve from 0.26265\n",
            "313/313 [==============================] - 64s 204ms/step - loss: 3.0141 - categorical_accuracy: 0.3049 - top_k_categorical_accuracy: 0.5990 - val_loss: 3.2976 - val_categorical_accuracy: 0.2571 - val_top_k_categorical_accuracy: 0.5241\n",
            "Epoch 12/50\n",
            "312/313 [============================>.] - ETA: 0s - loss: 2.9462 - categorical_accuracy: 0.3183 - top_k_categorical_accuracy: 0.6132\n",
            "Epoch 00012: val_categorical_accuracy improved from 0.26265 to 0.26350, saving model to tinynet.h5\n",
            "313/313 [==============================] - 64s 205ms/step - loss: 2.9463 - categorical_accuracy: 0.3183 - top_k_categorical_accuracy: 0.6131 - val_loss: 3.2679 - val_categorical_accuracy: 0.2635 - val_top_k_categorical_accuracy: 0.5307\n",
            "Epoch 13/50\n",
            "312/313 [============================>.] - ETA: 0s - loss: 2.8616 - categorical_accuracy: 0.3364 - top_k_categorical_accuracy: 0.6340\n",
            "Epoch 00013: val_categorical_accuracy improved from 0.26350 to 0.28145, saving model to tinynet.h5\n",
            "313/313 [==============================] - 64s 204ms/step - loss: 2.8623 - categorical_accuracy: 0.3363 - top_k_categorical_accuracy: 0.6339 - val_loss: 3.1632 - val_categorical_accuracy: 0.2815 - val_top_k_categorical_accuracy: 0.5509\n",
            "Epoch 14/50\n",
            "312/313 [============================>.] - ETA: 0s - loss: 2.7937 - categorical_accuracy: 0.3530 - top_k_categorical_accuracy: 0.6456\n",
            "Epoch 00014: val_categorical_accuracy improved from 0.28145 to 0.29455, saving model to tinynet.h5\n",
            "313/313 [==============================] - 64s 205ms/step - loss: 2.7938 - categorical_accuracy: 0.3530 - top_k_categorical_accuracy: 0.6456 - val_loss: 3.0870 - val_categorical_accuracy: 0.2946 - val_top_k_categorical_accuracy: 0.5695\n",
            "Epoch 15/50\n",
            "312/313 [============================>.] - ETA: 0s - loss: 2.7281 - categorical_accuracy: 0.3659 - top_k_categorical_accuracy: 0.6601\n",
            "Epoch 00015: val_categorical_accuracy did not improve from 0.29455\n",
            "313/313 [==============================] - 64s 204ms/step - loss: 2.7283 - categorical_accuracy: 0.3656 - top_k_categorical_accuracy: 0.6600 - val_loss: 3.2451 - val_categorical_accuracy: 0.2713 - val_top_k_categorical_accuracy: 0.5294\n",
            "Epoch 16/50\n",
            "312/313 [============================>.] - ETA: 0s - loss: 2.6646 - categorical_accuracy: 0.3806 - top_k_categorical_accuracy: 0.6723\n",
            "Epoch 00016: val_categorical_accuracy improved from 0.29455 to 0.29500, saving model to tinynet.h5\n",
            "313/313 [==============================] - 64s 204ms/step - loss: 2.6649 - categorical_accuracy: 0.3806 - top_k_categorical_accuracy: 0.6723 - val_loss: 3.1333 - val_categorical_accuracy: 0.2950 - val_top_k_categorical_accuracy: 0.5561\n",
            "Epoch 17/50\n",
            "312/313 [============================>.] - ETA: 0s - loss: 2.6134 - categorical_accuracy: 0.3907 - top_k_categorical_accuracy: 0.6842\n",
            "Epoch 00017: val_categorical_accuracy improved from 0.29500 to 0.29765, saving model to tinynet.h5\n",
            "313/313 [==============================] - 64s 203ms/step - loss: 2.6127 - categorical_accuracy: 0.3910 - top_k_categorical_accuracy: 0.6844 - val_loss: 3.0812 - val_categorical_accuracy: 0.2977 - val_top_k_categorical_accuracy: 0.5678\n",
            "Epoch 18/50\n",
            "312/313 [============================>.] - ETA: 0s - loss: 2.5682 - categorical_accuracy: 0.4016 - top_k_categorical_accuracy: 0.6920\n",
            "Epoch 00018: val_categorical_accuracy improved from 0.29765 to 0.32350, saving model to tinynet.h5\n",
            "313/313 [==============================] - 64s 204ms/step - loss: 2.5682 - categorical_accuracy: 0.4016 - top_k_categorical_accuracy: 0.6920 - val_loss: 2.9530 - val_categorical_accuracy: 0.3235 - val_top_k_categorical_accuracy: 0.5978\n",
            "Epoch 19/50\n",
            "312/313 [============================>.] - ETA: 0s - loss: 2.5137 - categorical_accuracy: 0.4135 - top_k_categorical_accuracy: 0.7030\n",
            "Epoch 00019: val_categorical_accuracy did not improve from 0.32350\n",
            "313/313 [==============================] - 63s 201ms/step - loss: 2.5145 - categorical_accuracy: 0.4133 - top_k_categorical_accuracy: 0.7028 - val_loss: 3.1950 - val_categorical_accuracy: 0.2853 - val_top_k_categorical_accuracy: 0.5441\n",
            "Epoch 20/50\n",
            "312/313 [============================>.] - ETA: 0s - loss: 2.4698 - categorical_accuracy: 0.4232 - top_k_categorical_accuracy: 0.7120\n",
            "Epoch 00020: val_categorical_accuracy did not improve from 0.32350\n",
            "313/313 [==============================] - 63s 201ms/step - loss: 2.4702 - categorical_accuracy: 0.4230 - top_k_categorical_accuracy: 0.7119 - val_loss: 3.0590 - val_categorical_accuracy: 0.3119 - val_top_k_categorical_accuracy: 0.5726\n",
            "Epoch 21/50\n",
            "312/313 [============================>.] - ETA: 0s - loss: 2.4252 - categorical_accuracy: 0.4326 - top_k_categorical_accuracy: 0.7206\n",
            "Epoch 00021: val_categorical_accuracy did not improve from 0.32350\n",
            "313/313 [==============================] - 63s 201ms/step - loss: 2.4253 - categorical_accuracy: 0.4327 - top_k_categorical_accuracy: 0.7206 - val_loss: 2.9761 - val_categorical_accuracy: 0.3221 - val_top_k_categorical_accuracy: 0.5912\n",
            "Epoch 22/50\n",
            "312/313 [============================>.] - ETA: 0s - loss: 2.3804 - categorical_accuracy: 0.4421 - top_k_categorical_accuracy: 0.7289\n",
            "Epoch 00022: val_categorical_accuracy did not improve from 0.32350\n",
            "313/313 [==============================] - 63s 200ms/step - loss: 2.3807 - categorical_accuracy: 0.4420 - top_k_categorical_accuracy: 0.7289 - val_loss: 3.0996 - val_categorical_accuracy: 0.3020 - val_top_k_categorical_accuracy: 0.5651\n",
            "Epoch 23/50\n",
            "312/313 [============================>.] - ETA: 0s - loss: 2.3541 - categorical_accuracy: 0.4493 - top_k_categorical_accuracy: 0.7330\n",
            "Epoch 00023: val_categorical_accuracy improved from 0.32350 to 0.33415, saving model to tinynet.h5\n",
            "313/313 [==============================] - 63s 202ms/step - loss: 2.3549 - categorical_accuracy: 0.4492 - top_k_categorical_accuracy: 0.7329 - val_loss: 2.9386 - val_categorical_accuracy: 0.3341 - val_top_k_categorical_accuracy: 0.5993\n",
            "Epoch 24/50\n",
            "312/313 [============================>.] - ETA: 0s - loss: 2.3231 - categorical_accuracy: 0.4564 - top_k_categorical_accuracy: 0.7395\n",
            "Epoch 00024: val_categorical_accuracy improved from 0.33415 to 0.34085, saving model to tinynet.h5\n",
            "313/313 [==============================] - 63s 200ms/step - loss: 2.3237 - categorical_accuracy: 0.4562 - top_k_categorical_accuracy: 0.7394 - val_loss: 2.8916 - val_categorical_accuracy: 0.3408 - val_top_k_categorical_accuracy: 0.6097\n",
            "Epoch 25/50\n",
            "312/313 [============================>.] - ETA: 0s - loss: 2.2924 - categorical_accuracy: 0.4637 - top_k_categorical_accuracy: 0.7442\n",
            "Epoch 00025: val_categorical_accuracy did not improve from 0.34085\n",
            "313/313 [==============================] - 62s 199ms/step - loss: 2.2926 - categorical_accuracy: 0.4637 - top_k_categorical_accuracy: 0.7441 - val_loss: 3.0102 - val_categorical_accuracy: 0.3194 - val_top_k_categorical_accuracy: 0.5831\n",
            "Epoch 26/50\n",
            "312/313 [============================>.] - ETA: 0s - loss: 2.2555 - categorical_accuracy: 0.4717 - top_k_categorical_accuracy: 0.7511\n",
            "Epoch 00026: val_categorical_accuracy improved from 0.34085 to 0.34205, saving model to tinynet.h5\n",
            "313/313 [==============================] - 62s 200ms/step - loss: 2.2554 - categorical_accuracy: 0.4717 - top_k_categorical_accuracy: 0.7511 - val_loss: 2.9065 - val_categorical_accuracy: 0.3420 - val_top_k_categorical_accuracy: 0.6040\n",
            "Epoch 27/50\n",
            "312/313 [============================>.] - ETA: 0s - loss: 2.2327 - categorical_accuracy: 0.4774 - top_k_categorical_accuracy: 0.7556\n",
            "Epoch 00027: val_categorical_accuracy did not improve from 0.34205\n",
            "313/313 [==============================] - 63s 200ms/step - loss: 2.2328 - categorical_accuracy: 0.4773 - top_k_categorical_accuracy: 0.7555 - val_loss: 2.9185 - val_categorical_accuracy: 0.3353 - val_top_k_categorical_accuracy: 0.6058\n",
            "Epoch 28/50\n",
            "312/313 [============================>.] - ETA: 0s - loss: 2.2071 - categorical_accuracy: 0.4827 - top_k_categorical_accuracy: 0.7611\n",
            "Epoch 00028: val_categorical_accuracy improved from 0.34205 to 0.35280, saving model to tinynet.h5\n",
            "313/313 [==============================] - 63s 200ms/step - loss: 2.2076 - categorical_accuracy: 0.4826 - top_k_categorical_accuracy: 0.7610 - val_loss: 2.8612 - val_categorical_accuracy: 0.3528 - val_top_k_categorical_accuracy: 0.6172\n",
            "Epoch 29/50\n",
            "312/313 [============================>.] - ETA: 0s - loss: 2.1833 - categorical_accuracy: 0.4883 - top_k_categorical_accuracy: 0.7636\n",
            "Epoch 00029: val_categorical_accuracy did not improve from 0.35280\n",
            "313/313 [==============================] - 63s 200ms/step - loss: 2.1833 - categorical_accuracy: 0.4883 - top_k_categorical_accuracy: 0.7637 - val_loss: 2.8697 - val_categorical_accuracy: 0.3482 - val_top_k_categorical_accuracy: 0.6151\n",
            "Epoch 30/50\n",
            "312/313 [============================>.] - ETA: 0s - loss: 2.1509 - categorical_accuracy: 0.4944 - top_k_categorical_accuracy: 0.7716\n",
            "Epoch 00030: val_categorical_accuracy did not improve from 0.35280\n",
            "313/313 [==============================] - 62s 199ms/step - loss: 2.1513 - categorical_accuracy: 0.4943 - top_k_categorical_accuracy: 0.7716 - val_loss: 2.9841 - val_categorical_accuracy: 0.3323 - val_top_k_categorical_accuracy: 0.5903\n",
            "Epoch 31/50\n",
            "312/313 [============================>.] - ETA: 0s - loss: 2.1355 - categorical_accuracy: 0.4986 - top_k_categorical_accuracy: 0.7736\n",
            "Epoch 00031: val_categorical_accuracy did not improve from 0.35280\n",
            "313/313 [==============================] - 63s 200ms/step - loss: 2.1355 - categorical_accuracy: 0.4986 - top_k_categorical_accuracy: 0.7735 - val_loss: 2.9133 - val_categorical_accuracy: 0.3419 - val_top_k_categorical_accuracy: 0.6038\n",
            "Epoch 32/50\n",
            "312/313 [============================>.] - ETA: 0s - loss: 2.1159 - categorical_accuracy: 0.5023 - top_k_categorical_accuracy: 0.7762\n",
            "Epoch 00032: val_categorical_accuracy did not improve from 0.35280\n",
            "313/313 [==============================] - 66s 210ms/step - loss: 2.1164 - categorical_accuracy: 0.5022 - top_k_categorical_accuracy: 0.7760 - val_loss: 2.9394 - val_categorical_accuracy: 0.3411 - val_top_k_categorical_accuracy: 0.6026\n",
            "Epoch 33/50\n",
            "312/313 [============================>.] - ETA: 0s - loss: 2.0936 - categorical_accuracy: 0.5097 - top_k_categorical_accuracy: 0.7800\n",
            "Epoch 00033: val_categorical_accuracy improved from 0.35280 to 0.36130, saving model to tinynet.h5\n",
            "313/313 [==============================] - 64s 206ms/step - loss: 2.0942 - categorical_accuracy: 0.5095 - top_k_categorical_accuracy: 0.7800 - val_loss: 2.8034 - val_categorical_accuracy: 0.3613 - val_top_k_categorical_accuracy: 0.6263\n",
            "Epoch 34/50\n",
            "312/313 [============================>.] - ETA: 0s - loss: 2.0746 - categorical_accuracy: 0.5108 - top_k_categorical_accuracy: 0.7830\n",
            "Epoch 00034: val_categorical_accuracy did not improve from 0.36130\n",
            "313/313 [==============================] - 64s 203ms/step - loss: 2.0754 - categorical_accuracy: 0.5107 - top_k_categorical_accuracy: 0.7829 - val_loss: 2.8539 - val_categorical_accuracy: 0.3519 - val_top_k_categorical_accuracy: 0.6180\n",
            "Epoch 35/50\n",
            "312/313 [============================>.] - ETA: 0s - loss: 2.0599 - categorical_accuracy: 0.5155 - top_k_categorical_accuracy: 0.7859\n",
            "Epoch 00035: val_categorical_accuracy did not improve from 0.36130\n",
            "313/313 [==============================] - 63s 202ms/step - loss: 2.0600 - categorical_accuracy: 0.5155 - top_k_categorical_accuracy: 0.7859 - val_loss: 2.8974 - val_categorical_accuracy: 0.3505 - val_top_k_categorical_accuracy: 0.6066\n",
            "Epoch 36/50\n",
            "312/313 [============================>.] - ETA: 0s - loss: 2.0368 - categorical_accuracy: 0.5235 - top_k_categorical_accuracy: 0.7906\n",
            "Epoch 00036: val_categorical_accuracy improved from 0.36130 to 0.36640, saving model to tinynet.h5\n",
            "313/313 [==============================] - 63s 202ms/step - loss: 2.0368 - categorical_accuracy: 0.5234 - top_k_categorical_accuracy: 0.7905 - val_loss: 2.7922 - val_categorical_accuracy: 0.3664 - val_top_k_categorical_accuracy: 0.6251\n",
            "Epoch 37/50\n",
            "312/313 [============================>.] - ETA: 0s - loss: 2.0285 - categorical_accuracy: 0.5221 - top_k_categorical_accuracy: 0.7910\n",
            "Epoch 00037: val_categorical_accuracy did not improve from 0.36640\n",
            "313/313 [==============================] - 63s 201ms/step - loss: 2.0283 - categorical_accuracy: 0.5222 - top_k_categorical_accuracy: 0.7911 - val_loss: 3.0031 - val_categorical_accuracy: 0.3329 - val_top_k_categorical_accuracy: 0.5852\n",
            "Epoch 38/50\n",
            "312/313 [============================>.] - ETA: 0s - loss: 2.0050 - categorical_accuracy: 0.5284 - top_k_categorical_accuracy: 0.7968\n",
            "Epoch 00038: val_categorical_accuracy did not improve from 0.36640\n",
            "313/313 [==============================] - 63s 201ms/step - loss: 2.0049 - categorical_accuracy: 0.5285 - top_k_categorical_accuracy: 0.7969 - val_loss: 2.9459 - val_categorical_accuracy: 0.3410 - val_top_k_categorical_accuracy: 0.5979\n",
            "Epoch 39/50\n",
            "312/313 [============================>.] - ETA: 0s - loss: 1.9976 - categorical_accuracy: 0.5310 - top_k_categorical_accuracy: 0.7974\n",
            "Epoch 00039: val_categorical_accuracy did not improve from 0.36640\n",
            "313/313 [==============================] - 63s 202ms/step - loss: 1.9987 - categorical_accuracy: 0.5308 - top_k_categorical_accuracy: 0.7972 - val_loss: 2.8688 - val_categorical_accuracy: 0.3546 - val_top_k_categorical_accuracy: 0.6179\n",
            "Epoch 40/50\n",
            "312/313 [============================>.] - ETA: 0s - loss: 1.9834 - categorical_accuracy: 0.5339 - top_k_categorical_accuracy: 0.7989\n",
            "Epoch 00040: val_categorical_accuracy did not improve from 0.36640\n",
            "313/313 [==============================] - 63s 203ms/step - loss: 1.9843 - categorical_accuracy: 0.5338 - top_k_categorical_accuracy: 0.7987 - val_loss: 2.9587 - val_categorical_accuracy: 0.3408 - val_top_k_categorical_accuracy: 0.5943\n",
            "Epoch 41/50\n",
            "312/313 [============================>.] - ETA: 0s - loss: 1.9786 - categorical_accuracy: 0.5360 - top_k_categorical_accuracy: 0.8012\n",
            "Epoch 00041: val_categorical_accuracy did not improve from 0.36640\n",
            "313/313 [==============================] - 63s 202ms/step - loss: 1.9788 - categorical_accuracy: 0.5361 - top_k_categorical_accuracy: 0.8012 - val_loss: 2.9534 - val_categorical_accuracy: 0.3402 - val_top_k_categorical_accuracy: 0.5954\n",
            "Epoch 42/50\n",
            "312/313 [============================>.] - ETA: 0s - loss: 1.9583 - categorical_accuracy: 0.5403 - top_k_categorical_accuracy: 0.8039\n",
            "Epoch 00042: val_categorical_accuracy did not improve from 0.36640\n",
            "313/313 [==============================] - 63s 201ms/step - loss: 1.9591 - categorical_accuracy: 0.5401 - top_k_categorical_accuracy: 0.8037 - val_loss: 2.8556 - val_categorical_accuracy: 0.3598 - val_top_k_categorical_accuracy: 0.6136\n",
            "Epoch 43/50\n",
            "312/313 [============================>.] - ETA: 0s - loss: 1.9438 - categorical_accuracy: 0.5449 - top_k_categorical_accuracy: 0.8064\n",
            "Epoch 00043: val_categorical_accuracy did not improve from 0.36640\n",
            "313/313 [==============================] - 63s 202ms/step - loss: 1.9444 - categorical_accuracy: 0.5446 - top_k_categorical_accuracy: 0.8062 - val_loss: 2.9990 - val_categorical_accuracy: 0.3340 - val_top_k_categorical_accuracy: 0.5885\n",
            "Epoch 44/50\n",
            "312/313 [============================>.] - ETA: 0s - loss: 1.9337 - categorical_accuracy: 0.5461 - top_k_categorical_accuracy: 0.8074\n",
            "Epoch 00044: val_categorical_accuracy did not improve from 0.36640\n",
            "\n",
            "Epoch 00044: ReduceLROnPlateau reducing learning rate to 0.0009999999776482583.\n",
            "313/313 [==============================] - 63s 201ms/step - loss: 1.9344 - categorical_accuracy: 0.5459 - top_k_categorical_accuracy: 0.8073 - val_loss: 2.9376 - val_categorical_accuracy: 0.3437 - val_top_k_categorical_accuracy: 0.5950\n",
            "Epoch 45/50\n",
            "312/313 [============================>.] - ETA: 0s - loss: 1.7957 - categorical_accuracy: 0.6415 - top_k_categorical_accuracy: 0.8712\n",
            "Epoch 00045: val_categorical_accuracy improved from 0.36640 to 0.44145, saving model to tinynet.h5\n",
            "313/313 [==============================] - 63s 202ms/step - loss: 1.7961 - categorical_accuracy: 0.6414 - top_k_categorical_accuracy: 0.8712 - val_loss: 2.6671 - val_categorical_accuracy: 0.4414 - val_top_k_categorical_accuracy: 0.7017\n",
            "Epoch 46/50\n",
            "312/313 [============================>.] - ETA: 0s - loss: 2.1122 - categorical_accuracy: 0.6782 - top_k_categorical_accuracy: 0.8936\n",
            "Epoch 00046: val_categorical_accuracy improved from 0.44145 to 0.44415, saving model to tinynet.h5\n",
            "313/313 [==============================] - 63s 203ms/step - loss: 2.1129 - categorical_accuracy: 0.6783 - top_k_categorical_accuracy: 0.8936 - val_loss: 2.9393 - val_categorical_accuracy: 0.4442 - val_top_k_categorical_accuracy: 0.7039\n",
            "Epoch 47/50\n",
            "312/313 [============================>.] - ETA: 0s - loss: 2.5525 - categorical_accuracy: 0.6591 - top_k_categorical_accuracy: 0.8860\n",
            "Epoch 00047: val_categorical_accuracy improved from 0.44415 to 0.44470, saving model to tinynet.h5\n",
            "313/313 [==============================] - 63s 203ms/step - loss: 2.5527 - categorical_accuracy: 0.6592 - top_k_categorical_accuracy: 0.8861 - val_loss: 3.2154 - val_categorical_accuracy: 0.4447 - val_top_k_categorical_accuracy: 0.7058\n",
            "Epoch 48/50\n",
            "312/313 [============================>.] - ETA: 0s - loss: 2.9599 - categorical_accuracy: 0.6241 - top_k_categorical_accuracy: 0.8683\n",
            "Epoch 00048: val_categorical_accuracy did not improve from 0.44470\n",
            "313/313 [==============================] - 63s 201ms/step - loss: 2.9604 - categorical_accuracy: 0.6241 - top_k_categorical_accuracy: 0.8683 - val_loss: 3.4697 - val_categorical_accuracy: 0.4349 - val_top_k_categorical_accuracy: 0.6996\n",
            "Epoch 49/50\n",
            "312/313 [============================>.] - ETA: 0s - loss: 3.3195 - categorical_accuracy: 0.5714 - top_k_categorical_accuracy: 0.8402\n",
            "Epoch 00049: val_categorical_accuracy did not improve from 0.44470\n",
            "313/313 [==============================] - 64s 204ms/step - loss: 3.3201 - categorical_accuracy: 0.5711 - top_k_categorical_accuracy: 0.8401 - val_loss: 3.7158 - val_categorical_accuracy: 0.4171 - val_top_k_categorical_accuracy: 0.6891\n",
            "Epoch 50/50\n",
            "312/313 [============================>.] - ETA: 0s - loss: 3.6412 - categorical_accuracy: 0.5129 - top_k_categorical_accuracy: 0.8028\n",
            "Epoch 00050: val_categorical_accuracy did not improve from 0.44470\n",
            "313/313 [==============================] - 63s 200ms/step - loss: 3.6416 - categorical_accuracy: 0.5130 - top_k_categorical_accuracy: 0.8028 - val_loss: 3.9418 - val_categorical_accuracy: 0.3932 - val_top_k_categorical_accuracy: 0.6755\n"
          ],
          "name": "stdout"
        },
        {
          "output_type": "display_data",
          "data": {
            "image/png": "[encoded data removed]",
            "text/plain": [
              "<Figure size 432x288 with 1 Axes>"
            ]
          },
          "metadata": {
            "tags": [],
            "needs_background": "light"
          }
        },
        {
          "output_type": "display_data",
          "data": {
            "image/png": "[encoded data removed]",
            "text/plain": [
              "<Figure size 432x288 with 1 Axes>"
            ]
          },
          "metadata": {
            "tags": [],
            "needs_background": "light"
          }
        },
        {
          "output_type": "display_data",
          "data": {
            "image/png": "[encoded data removed]",
            "text/plain": [
              "<Figure size 432x288 with 1 Axes>"
            ]
          },
          "metadata": {
            "tags": [],
            "needs_background": "light"
          }
        }
      ]
    }
  ]
}
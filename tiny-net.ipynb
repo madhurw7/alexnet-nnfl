{
 "cells": [
  {
   "cell_type": "markdown",
   "metadata": {
    "colab_type": "text",
    "id": "A0DpCtCwn9_0"
   },
   "source": [
    "This implementation requires Tensorflow 2.1.0, if you set up the environment using the `environment.yml` file, you should be good."
   ]
  },
  {
   "cell_type": "code",
   "execution_count": 0,
   "metadata": {
    "colab": {},
    "colab_type": "code",
    "id": "ZDEM2K_uf9u9"
   },
   "outputs": [],
   "source": [
    "# Run only if you are using Google Colab\n",
    "%pip install tensorflow==2.1.0\n",
    "!pip install pyyaml h5py"
   ]
  },
  {
   "cell_type": "code",
   "execution_count": 0,
   "metadata": {
    "colab": {},
    "colab_type": "code",
    "id": "gTApzs6odQgd"
   },
   "outputs": [],
   "source": [
    "import os\n",
    "import numpy as np\n",
    "import tensorflow as tf\n",
    "import matplotlib.pyplot as plt\n",
    "import tensorflow_addons as tfa"
   ]
  },
  {
   "cell_type": "markdown",
   "metadata": {
    "colab_type": "text",
    "id": "r30TvsDm0SHO"
   },
   "source": [
    "Getting Dataset\n"
   ]
  },
  {
   "cell_type": "code",
   "execution_count": 1,
   "metadata": {},
   "outputs": [],
   "source": [
    "downloadDataSet = False"
   ]
  },
  {
   "cell_type": "code",
   "execution_count": 0,
   "metadata": {
    "colab": {},
    "colab_type": "code",
    "id": "b2DboYm4dQgm"
   },
   "outputs": [],
   "source": [
    "# Ensuring dataset is available\n",
    "if downloadDataset:\n",
    "    _URL = \"http://cs231n.stanford.edu/tiny-imagenet-200.zip\"\n",
    "    path_to_zip = tf.keras.utils.get_file('tiny-imagenet-200.zip', origin=_URL, extract=True)\n",
    "    PATH = os.path.join(os.path.dirname(path_to_zip), 'tiny-imagenet-200')\n",
    "else:\n",
    "    PATH = \"./tiny-imagenet-200\""
   ]
  },
  {
   "cell_type": "code",
   "execution_count": 0,
   "metadata": {
    "colab": {},
    "colab_type": "code",
    "id": "KBpT6DtKdQgr"
   },
   "outputs": [],
   "source": [
    "# to access the dataset\n",
    "train_dir = os.path.join(PATH, 'train')\n",
    "val_dir = os.path.join(PATH, 'val')"
   ]
  },
  {
   "cell_type": "code",
   "execution_count": 0,
   "metadata": {
    "colab": {},
    "colab_type": "code",
    "id": "ItYOPVmjLCb2"
   },
   "outputs": [],
   "source": [
    "# to save the model\n",
    "checkpoint_path = \"tinynet.h5\"\n",
    "checkpoint_dir = os.path.dirname(checkpoint_path)"
   ]
  },
  {
   "cell_type": "markdown",
   "metadata": {
    "colab_type": "text",
    "id": "O1THvKkw4lFU"
   },
   "source": [
    "Parameters"
   ]
  },
  {
   "cell_type": "code",
   "execution_count": 0,
   "metadata": {
    "colab": {},
    "colab_type": "code",
    "id": "9lLDkQW84iDJ"
   },
   "outputs": [],
   "source": [
    "learning_rate = 0.01\n",
    "momentum = 0.9\n",
    "weight_decay = 0.0005\n",
    "total_epochs = 60\n",
    "batch_size = 256\n",
    "input_shape = (64, 64, 3)\n",
    "num_classes = 200"
   ]
  },
  {
   "cell_type": "markdown",
   "metadata": {
    "colab_type": "text",
    "id": "c6UwCF800ii0"
   },
   "source": [
    "Utilities"
   ]
  },
  {
   "cell_type": "code",
   "execution_count": 0,
   "metadata": {
    "colab": {},
    "colab_type": "code",
    "id": "8DU9CRex2Qhw"
   },
   "outputs": [],
   "source": [
    "# callback function to be used during training\n",
    "def model_callbacks(path):\n",
    "    # saving the model when validation accuracy increases after an epoch\n",
    "    checkpoint = tf.keras.callbacks.ModelCheckpoint(path, monitor = 'val_categorical_accuracy',\n",
    "                                mode = 'max', save_best_only = True, verbose = 1)\n",
    "    \n",
    "    # reducing the learning rate when validation loss saturates or starts increasing \n",
    "    reduce_lr = tf.keras.callbacks.ReduceLROnPlateau(monitor = 'val_loss', mode = 'min', factor = 0.1,    \n",
    "                                  patience = 8, verbose = 1, min_lr = 0.0001)\n",
    "    \n",
    "    return [checkpoint, reduce_lr]"
   ]
  },
  {
   "cell_type": "code",
   "execution_count": 0,
   "metadata": {
    "colab": {},
    "colab_type": "code",
    "id": "JdclzdxD0bqh"
   },
   "outputs": [],
   "source": [
    "# to print 5 of the augmented images\n",
    "def plotImages(images_arr):\n",
    "    fig, axes = plt.subplots(1, 5, figsize=(20,20))\n",
    "    axes = axes.flatten()\n",
    "    for img, ax in zip(images_arr, axes):\n",
    "        ax.imshow(img)\n",
    "        ax.axis('off')\n",
    "    plt.tight_layout()\n",
    "    plt.show()"
   ]
  },
  {
   "cell_type": "code",
   "execution_count": 0,
   "metadata": {
    "colab": {},
    "colab_type": "code",
    "id": "Sbib2OHd2RY_"
   },
   "outputs": [],
   "source": [
    "# to plot the results of training - loss, top 1 accuracy and top 5 accuracy\n",
    "def plot_graph(model, N):\n",
    "    # loss plot\n",
    "    plt.figure(0)\n",
    "    plt.plot(np.arange(0, N), model.history['loss'], label='Training loss')\n",
    "    plt.plot(np.arange(0, N), model.history['val_loss'], label='Testing loss')\n",
    "    plt.title('Training vs Testing Loss')\n",
    "    plt.xlabel('Epochs')\n",
    "    plt.ylabel('Loss')\n",
    "    plt.legend()\n",
    "    \n",
    "    # top 1 accuracy plot\n",
    "    plt.figure(1)\n",
    "    plt.plot(np.arange(0, N), model.history['categorical_accuracy'], label='Top 1 Training Accuracy')\n",
    "    plt.plot(np.arange(0, N), model.history['val_categorical_accuracy'], label='Top 1 Testing Accuracy')\n",
    "    plt.title('Top 1 Training vs Testing Accuracy')\n",
    "    plt.xlabel('Epochs')\n",
    "    plt.ylabel('Accuracy')\n",
    "    plt.legend()\n",
    "    \n",
    "    # top 5 accuracy plot\n",
    "    plt.figure(2)\n",
    "    plt.plot(np.arange(0, N), model.history['top_k_categorical_accuracy'], label='Top 5 Training Accuracy')\n",
    "    plt.plot(np.arange(0, N), model.history['val_top_k_categorical_accuracy'], label='Top 5 Testing Accuracy')\n",
    "    plt.title('Top 5 Training vs Testing Acuracy')\n",
    "    plt.xlabel('Epochs')\n",
    "    plt.ylabel('Accuracy')\n",
    "    plt.legend()"
   ]
  },
  {
   "cell_type": "markdown",
   "metadata": {
    "colab_type": "text",
    "id": "IZA2VrXB1_B6"
   },
   "source": [
    "Augmentation"
   ]
  },
  {
   "cell_type": "code",
   "execution_count": 0,
   "metadata": {
    "colab": {},
    "colab_type": "code",
    "id": "M8Ha9DBMdQgx"
   },
   "outputs": [],
   "source": [
    "# augmenting function with a validation split of 20.00 %\n",
    "augment = tf.keras.preprocessing.image.ImageDataGenerator(zca_whitening=True, horizontal_flip=True, validation_split = 0.2)\n",
    "\n",
    "# zca_whitening parameters\n",
    "augment.mean = 112.69858580973307\n",
    "augment.std = 70.93752549462194\n",
    "augment.principal_components = 40"
   ]
  },
  {
   "cell_type": "code",
   "execution_count": 0,
   "metadata": {
    "colab": {
     "base_uri": "https://localhost:8080/",
     "height": 51
    },
    "colab_type": "code",
    "id": "UvNH3gyqdQg0",
    "outputId": "6b09baa6-71bd-4411-9b24-702e4682d37f"
   },
   "outputs": [
    {
     "name": "stdout",
     "output_type": "stream",
     "text": [
      "Found 80000 images belonging to 200 classes.\n",
      "Found 20000 images belonging to 200 classes.\n"
     ]
    }
   ],
   "source": [
    "# generating augmented train data\n",
    "train_data_gen = augment.flow_from_directory(batch_size=batch_size, directory=train_dir,\n",
    "                                             shuffle=True, target_size=(64, 64),\n",
    "                                             class_mode='categorical', subset='training')\n",
    "\n",
    "# generating augmented validation data\n",
    "val_data_gen = augment.flow_from_directory(batch_size=batch_size, directory = train_dir,\n",
    "                                              shuffle=True, target_size=(64, 64),\n",
    "                                              class_mode='categorical', subset = 'validation')"
   ]
  },
  {
   "cell_type": "code",
   "execution_count": 0,
   "metadata": {
    "colab": {
     "base_uri": "https://localhost:8080/",
     "height": 353
    },
    "colab_type": "code",
    "id": "-e0OGtTWdQg5",
    "outputId": "eed675bc-20a3-4eec-a9c4-cd9f18d69653"
   },
   "outputs": [
    {
     "name": "stderr",
     "output_type": "stream",
     "text": [
      "Clipping input data to the valid range for imshow with RGB data ([0..1] for floats or [0..255] for integers).\n",
      "Clipping input data to the valid range for imshow with RGB data ([0..1] for floats or [0..255] for integers).\n",
      "Clipping input data to the valid range for imshow with RGB data ([0..1] for floats or [0..255] for integers).\n",
      "Clipping input data to the valid range for imshow with RGB data ([0..1] for floats or [0..255] for integers).\n",
      "Clipping input data to the valid range for imshow with RGB data ([0..1] for floats or [0..255] for integers).\n"
     ]
    },
    {
     "data": {
      "image/png": "[encoded data removed]",
      "text/plain": [
       "<Figure size 1440x1440 with 5 Axes>"
      ]
     },
     "metadata": {
      "needs_background": "light",
      "tags": []
     },
     "output_type": "display_data"
    }
   ],
   "source": [
    "# printing 5 augmented images from training set\n",
    "sample_training_images, _ = next(train_data_gen)\n",
    "plotImages(sample_training_images[:5])"
   ]
  },
  {
   "cell_type": "markdown",
   "metadata": {
    "colab_type": "text",
    "id": "QWXbeH5L2Edm"
   },
   "source": [
    "Model"
   ]
  },
  {
   "cell_type": "code",
   "execution_count": 0,
   "metadata": {
    "colab": {},
    "colab_type": "code",
    "id": "btdUbcP-J8EU"
   },
   "outputs": [],
   "source": [
    "# tinynet architecture\n",
    "def build(input_shape, num_classes):\n",
    "    model = tf.keras.Sequential()\n",
    "    \n",
    "    # convolution layer 1\n",
    "    model.add(tf.keras.layers.Convolution2D(64, (5, 5), strides=(1, 1), padding='same', input_shape=input_shape))\n",
    "    model.add(tf.keras.layers.BatchNormalization(momentum=0.9))\n",
    "    model.add(tf.keras.layers.Activation('relu'))\n",
    "    model.add(tf.keras.layers.ZeroPadding2D((1,1)))\n",
    "    model.add(tf.keras.layers.MaxPooling2D(pool_size=(3, 3), strides=(3, 3)))\n",
    "    \n",
    "    # convolution layer 2\n",
    "    model.add(tf.keras.layers.Convolution2D(128, (3, 3), strides=(1, 1), padding='same'))\n",
    "    model.add(tf.keras.layers.BatchNormalization(momentum=0.9))\n",
    "    model.add(tf.keras.layers.Activation('relu'))\n",
    "    model.add(tf.keras.layers.ZeroPadding2D((1,1)))\n",
    "    model.add(tf.keras.layers.MaxPooling2D(pool_size=(3, 3), strides=(3, 3)))\n",
    "    \n",
    "    # convolution layer 3\n",
    "    model.add(tf.keras.layers.Convolution2D(128, (3, 3), strides=(1, 1), padding='same'))\n",
    "    model.add(tf.keras.layers.BatchNormalization(momentum=0.9))\n",
    "    model.add(tf.keras.layers.Activation('relu'))\n",
    "\n",
    "    # convolution layer 4\n",
    "    model.add(tf.keras.layers.Convolution2D(256, (3, 3), strides=(1, 1), padding='same'))\n",
    "    model.add(tf.keras.layers.BatchNormalization(momentum=0.9))\n",
    "    model.add(tf.keras.layers.Activation('relu'))\n",
    "    model.add(tf.keras.layers.ZeroPadding2D((1,1)))\n",
    "    model.add(tf.keras.layers.MaxPooling2D(pool_size=(3, 3), strides=(3, 3)))\n",
    "\n",
    "    # convolution layer 5\n",
    "    model.add(tf.keras.layers.Convolution2D(256, (3, 3), strides=(1, 1), padding='same'))\n",
    "    model.add(tf.keras.layers.BatchNormalization(momentum=0.9))\n",
    "    model.add(tf.keras.layers.Activation('relu'))\n",
    "\n",
    "    # convolution layer 6\n",
    "    model.add(tf.keras.layers.Convolution2D(512, (3, 3), strides=(1, 1), padding='same'))\n",
    "    model.add(tf.keras.layers.BatchNormalization(momentum=0.9))\n",
    "    model.add(tf.keras.layers.Activation('relu'))\n",
    "\n",
    "    # convolution layer 7\n",
    "    model.add(tf.keras.layers.Convolution2D(512, (3, 3), strides=(1, 1), padding='same'))\n",
    "    model.add(tf.keras.layers.BatchNormalization(momentum=0.9))\n",
    "    model.add(tf.keras.layers.Activation('relu'))\n",
    "\n",
    "    # flattening\n",
    "    model.add(tf.keras.layers.Flatten())\n",
    "    model.add(tf.keras.layers.Dropout(0.5))\n",
    "\n",
    "    # fully connected layer 1\n",
    "    model.add(tf.keras.layers.Dense(1024))\n",
    "    model.add(tf.keras.layers.BatchNormalization(momentum=0.9))\n",
    "    model.add(tf.keras.layers.Activation('relu')) \n",
    "    model.add(tf.keras.layers.Dropout(0.5))\n",
    "    \n",
    "    # fully connected layer 2\n",
    "    model.add(tf.keras.layers.Dense(1024))\n",
    "    model.add(tf.keras.layers.BatchNormalization(momentum=0.9))\n",
    "    model.add(tf.keras.layers.Activation('relu'))\n",
    "    model.add(tf.keras.layers.Dropout(0.5))\n",
    "    \n",
    "    # output layer\n",
    "    model.add(tf.keras.layers.Dense(num_classes, activation='softmax'))\n",
    "    \n",
    "    return model"
   ]
  },
  {
   "cell_type": "code",
   "execution_count": 0,
   "metadata": {
    "colab": {
     "base_uri": "https://localhost:8080/",
     "height": 1000
    },
    "colab_type": "code",
    "id": "QKP387OC1G2S",
    "outputId": "3cdd8d75-1516-484c-8805-013b630da09f"
   },
   "outputs": [
    {
     "name": "stdout",
     "output_type": "stream",
     "text": [
      "Model: \"sequential_20\"\n",
      "_________________________________________________________________\n",
      "Layer (type)                 Output Shape              Param #   \n",
      "=================================================================\n",
      "conv2d_140 (Conv2D)          (None, 64, 64, 64)        4864      \n",
      "_________________________________________________________________\n",
      "batch_normalization_180 (Bat (None, 64, 64, 64)        256       \n",
      "_________________________________________________________________\n",
      "activation_180 (Activation)  (None, 64, 64, 64)        0         \n",
      "_________________________________________________________________\n",
      "zero_padding2d_60 (ZeroPaddi (None, 66, 66, 64)        0         \n",
      "_________________________________________________________________\n",
      "max_pooling2d_60 (MaxPooling (None, 22, 22, 64)        0         \n",
      "_________________________________________________________________\n",
      "conv2d_141 (Conv2D)          (None, 22, 22, 128)       73856     \n",
      "_________________________________________________________________\n",
      "batch_normalization_181 (Bat (None, 22, 22, 128)       512       \n",
      "_________________________________________________________________\n",
      "activation_181 (Activation)  (None, 22, 22, 128)       0         \n",
      "_________________________________________________________________\n",
      "zero_padding2d_61 (ZeroPaddi (None, 24, 24, 128)       0         \n",
      "_________________________________________________________________\n",
      "max_pooling2d_61 (MaxPooling (None, 8, 8, 128)         0         \n",
      "_________________________________________________________________\n",
      "conv2d_142 (Conv2D)          (None, 8, 8, 128)         147584    \n",
      "_________________________________________________________________\n",
      "batch_normalization_182 (Bat (None, 8, 8, 128)         512       \n",
      "_________________________________________________________________\n",
      "activation_182 (Activation)  (None, 8, 8, 128)         0         \n",
      "_________________________________________________________________\n",
      "conv2d_143 (Conv2D)          (None, 8, 8, 256)         295168    \n",
      "_________________________________________________________________\n",
      "batch_normalization_183 (Bat (None, 8, 8, 256)         1024      \n",
      "_________________________________________________________________\n",
      "activation_183 (Activation)  (None, 8, 8, 256)         0         \n",
      "_________________________________________________________________\n",
      "zero_padding2d_62 (ZeroPaddi (None, 10, 10, 256)       0         \n",
      "_________________________________________________________________\n",
      "max_pooling2d_62 (MaxPooling (None, 3, 3, 256)         0         \n",
      "_________________________________________________________________\n",
      "conv2d_144 (Conv2D)          (None, 3, 3, 256)         590080    \n",
      "_________________________________________________________________\n",
      "batch_normalization_184 (Bat (None, 3, 3, 256)         1024      \n",
      "_________________________________________________________________\n",
      "activation_184 (Activation)  (None, 3, 3, 256)         0         \n",
      "_________________________________________________________________\n",
      "conv2d_145 (Conv2D)          (None, 3, 3, 512)         1180160   \n",
      "_________________________________________________________________\n",
      "batch_normalization_185 (Bat (None, 3, 3, 512)         2048      \n",
      "_________________________________________________________________\n",
      "activation_185 (Activation)  (None, 3, 3, 512)         0         \n",
      "_________________________________________________________________\n",
      "conv2d_146 (Conv2D)          (None, 3, 3, 512)         2359808   \n",
      "_________________________________________________________________\n",
      "batch_normalization_186 (Bat (None, 3, 3, 512)         2048      \n",
      "_________________________________________________________________\n",
      "activation_186 (Activation)  (None, 3, 3, 512)         0         \n",
      "_________________________________________________________________\n",
      "flatten_20 (Flatten)         (None, 4608)              0         \n",
      "_________________________________________________________________\n",
      "dropout_60 (Dropout)         (None, 4608)              0         \n",
      "_________________________________________________________________\n",
      "dense_60 (Dense)             (None, 1024)              4719616   \n",
      "_________________________________________________________________\n",
      "batch_normalization_187 (Bat (None, 1024)              4096      \n",
      "_________________________________________________________________\n",
      "activation_187 (Activation)  (None, 1024)              0         \n",
      "_________________________________________________________________\n",
      "dropout_61 (Dropout)         (None, 1024)              0         \n",
      "_________________________________________________________________\n",
      "dense_61 (Dense)             (None, 1024)              1049600   \n",
      "_________________________________________________________________\n",
      "batch_normalization_188 (Bat (None, 1024)              4096      \n",
      "_________________________________________________________________\n",
      "activation_188 (Activation)  (None, 1024)              0         \n",
      "_________________________________________________________________\n",
      "dropout_62 (Dropout)         (None, 1024)              0         \n",
      "_________________________________________________________________\n",
      "dense_62 (Dense)             (None, 200)               205000    \n",
      "=================================================================\n",
      "Total params: 10,641,352\n",
      "Trainable params: 10,633,544\n",
      "Non-trainable params: 7,808\n",
      "_________________________________________________________________\n"
     ]
    }
   ],
   "source": [
    "# summary of the architecture\n",
    "build(input_shape, num_classes).summary()"
   ]
  },
  {
   "cell_type": "markdown",
   "metadata": {
    "colab_type": "text",
    "id": "goORZyuO3M5Z"
   },
   "source": [
    "Training"
   ]
  },
  {
   "cell_type": "code",
   "execution_count": 0,
   "metadata": {
    "colab": {
     "base_uri": "https://localhost:8080/",
     "height": 1000
    },
    "colab_type": "code",
    "id": "kl8QU2uSdQhM",
    "outputId": "227ac77c-341f-43eb-f609-c91641cce7b8"
   },
   "outputs": [
    {
     "name": "stdout",
     "output_type": "stream",
     "text": [
      "Model: \"sequential_9\"\n",
      "_________________________________________________________________\n",
      "Layer (type)                 Output Shape              Param #   \n",
      "=================================================================\n",
      "conv2d_63 (Conv2D)           (None, 64, 64, 64)        4864      \n",
      "_________________________________________________________________\n",
      "batch_normalization_81 (Batc (None, 64, 64, 64)        256       \n",
      "_________________________________________________________________\n",
      "activation_81 (Activation)   (None, 64, 64, 64)        0         \n",
      "_________________________________________________________________\n",
      "zero_padding2d_27 (ZeroPaddi (None, 66, 66, 64)        0         \n",
      "_________________________________________________________________\n",
      "max_pooling2d_27 (MaxPooling (None, 22, 22, 64)        0         \n",
      "_________________________________________________________________\n",
      "conv2d_64 (Conv2D)           (None, 22, 22, 128)       73856     \n",
      "_________________________________________________________________\n",
      "batch_normalization_82 (Batc (None, 22, 22, 128)       512       \n",
      "_________________________________________________________________\n",
      "activation_82 (Activation)   (None, 22, 22, 128)       0         \n",
      "_________________________________________________________________\n",
      "zero_padding2d_28 (ZeroPaddi (None, 24, 24, 128)       0         \n",
      "_________________________________________________________________\n",
      "max_pooling2d_28 (MaxPooling (None, 8, 8, 128)         0         \n",
      "_________________________________________________________________\n",
      "conv2d_65 (Conv2D)           (None, 8, 8, 128)         147584    \n",
      "_________________________________________________________________\n",
      "batch_normalization_83 (Batc (None, 8, 8, 128)         512       \n",
      "_________________________________________________________________\n",
      "activation_83 (Activation)   (None, 8, 8, 128)         0         \n",
      "_________________________________________________________________\n",
      "conv2d_66 (Conv2D)           (None, 8, 8, 256)         295168    \n",
      "_________________________________________________________________\n",
      "batch_normalization_84 (Batc (None, 8, 8, 256)         1024      \n",
      "_________________________________________________________________\n",
      "activation_84 (Activation)   (None, 8, 8, 256)         0         \n",
      "_________________________________________________________________\n",
      "zero_padding2d_29 (ZeroPaddi (None, 10, 10, 256)       0         \n",
      "_________________________________________________________________\n",
      "max_pooling2d_29 (MaxPooling (None, 3, 3, 256)         0         \n",
      "_________________________________________________________________\n",
      "conv2d_67 (Conv2D)           (None, 3, 3, 256)         590080    \n",
      "_________________________________________________________________\n",
      "batch_normalization_85 (Batc (None, 3, 3, 256)         1024      \n",
      "_________________________________________________________________\n",
      "activation_85 (Activation)   (None, 3, 3, 256)         0         \n",
      "_________________________________________________________________\n",
      "conv2d_68 (Conv2D)           (None, 3, 3, 512)         1180160   \n",
      "_________________________________________________________________\n",
      "batch_normalization_86 (Batc (None, 3, 3, 512)         2048      \n",
      "_________________________________________________________________\n",
      "activation_86 (Activation)   (None, 3, 3, 512)         0         \n",
      "_________________________________________________________________\n",
      "conv2d_69 (Conv2D)           (None, 3, 3, 512)         2359808   \n",
      "_________________________________________________________________\n",
      "batch_normalization_87 (Batc (None, 3, 3, 512)         2048      \n",
      "_________________________________________________________________\n",
      "activation_87 (Activation)   (None, 3, 3, 512)         0         \n",
      "_________________________________________________________________\n",
      "flatten_9 (Flatten)          (None, 4608)              0         \n",
      "_________________________________________________________________\n",
      "dropout_27 (Dropout)         (None, 4608)              0         \n",
      "_________________________________________________________________\n",
      "dense_27 (Dense)             (None, 1024)              4719616   \n",
      "_________________________________________________________________\n",
      "batch_normalization_88 (Batc (None, 1024)              4096      \n",
      "_________________________________________________________________\n",
      "activation_88 (Activation)   (None, 1024)              0         \n",
      "_________________________________________________________________\n",
      "dropout_28 (Dropout)         (None, 1024)              0         \n",
      "_________________________________________________________________\n",
      "dense_28 (Dense)             (None, 1024)              1049600   \n",
      "_________________________________________________________________\n",
      "batch_normalization_89 (Batc (None, 1024)              4096      \n",
      "_________________________________________________________________\n",
      "activation_89 (Activation)   (None, 1024)              0         \n",
      "_________________________________________________________________\n",
      "dropout_29 (Dropout)         (None, 1024)              0         \n",
      "_________________________________________________________________\n",
      "dense_29 (Dense)             (None, 200)               205000    \n",
      "=================================================================\n",
      "Total params: 10,641,352\n",
      "Trainable params: 10,633,544\n",
      "Non-trainable params: 7,808\n",
      "_________________________________________________________________\n",
      "WARNING:tensorflow:sample_weight modes were coerced from\n",
      "  ...\n",
      "    to  \n",
      "  ['...']\n",
      "WARNING:tensorflow:sample_weight modes were coerced from\n",
      "  ...\n",
      "    to  \n",
      "  ['...']\n",
      "Train for 313 steps, validate for 79 steps\n",
      "Epoch 1/60\n",
      "312/313 [============================>.] - ETA: 0s - loss: 5.3740 - categorical_accuracy: 0.0133 - top_k_categorical_accuracy: 0.0585\n",
      "Epoch 00001: val_categorical_accuracy improved from -inf to 0.03740, saving model to tinynet.h5\n",
      "313/313 [==============================] - 109s 349ms/step - loss: 5.3731 - categorical_accuracy: 0.0133 - top_k_categorical_accuracy: 0.0585 - val_loss: 4.8038 - val_categorical_accuracy: 0.0374 - val_top_k_categorical_accuracy: 0.1426\n",
      "Epoch 2/60\n",
      "312/313 [============================>.] - ETA: 0s - loss: 4.6665 - categorical_accuracy: 0.0434 - top_k_categorical_accuracy: 0.1601\n",
      "Epoch 00002: val_categorical_accuracy improved from 0.03740 to 0.08375, saving model to tinynet.h5\n",
      "313/313 [==============================] - 105s 334ms/step - loss: 4.6655 - categorical_accuracy: 0.0435 - top_k_categorical_accuracy: 0.1605 - val_loss: 4.3240 - val_categorical_accuracy: 0.0838 - val_top_k_categorical_accuracy: 0.2620\n",
      "Epoch 3/60\n",
      "312/313 [============================>.] - ETA: 0s - loss: 4.1907 - categorical_accuracy: 0.0968 - top_k_categorical_accuracy: 0.2892\n",
      "Epoch 00003: val_categorical_accuracy improved from 0.08375 to 0.14005, saving model to tinynet.h5\n",
      "313/313 [==============================] - 104s 331ms/step - loss: 4.1900 - categorical_accuracy: 0.0971 - top_k_categorical_accuracy: 0.2893 - val_loss: 3.9362 - val_categorical_accuracy: 0.1400 - val_top_k_categorical_accuracy: 0.3663\n",
      "Epoch 4/60\n",
      "312/313 [============================>.] - ETA: 0s - loss: 3.8564 - categorical_accuracy: 0.1446 - top_k_categorical_accuracy: 0.3812\n",
      "Epoch 00004: val_categorical_accuracy improved from 0.14005 to 0.17300, saving model to tinynet.h5\n",
      "313/313 [==============================] - 105s 334ms/step - loss: 3.8556 - categorical_accuracy: 0.1448 - top_k_categorical_accuracy: 0.3814 - val_loss: 3.7382 - val_categorical_accuracy: 0.1730 - val_top_k_categorical_accuracy: 0.4168\n",
      "Epoch 5/60\n",
      "312/313 [============================>.] - ETA: 0s - loss: 3.6437 - categorical_accuracy: 0.1795 - top_k_categorical_accuracy: 0.4401\n",
      "Epoch 00005: val_categorical_accuracy improved from 0.17300 to 0.20560, saving model to tinynet.h5\n",
      "313/313 [==============================] - 104s 331ms/step - loss: 3.6436 - categorical_accuracy: 0.1795 - top_k_categorical_accuracy: 0.4401 - val_loss: 3.5481 - val_categorical_accuracy: 0.2056 - val_top_k_categorical_accuracy: 0.4604\n",
      "Epoch 6/60\n",
      "312/313 [============================>.] - ETA: 0s - loss: 3.4918 - categorical_accuracy: 0.2067 - top_k_categorical_accuracy: 0.4798\n",
      "Epoch 00006: val_categorical_accuracy did not improve from 0.20560\n",
      "313/313 [==============================] - 103s 329ms/step - loss: 3.4918 - categorical_accuracy: 0.2067 - top_k_categorical_accuracy: 0.4798 - val_loss: 3.5223 - val_categorical_accuracy: 0.2041 - val_top_k_categorical_accuracy: 0.4665\n",
      "Epoch 7/60\n",
      "312/313 [============================>.] - ETA: 0s - loss: 3.3715 - categorical_accuracy: 0.2324 - top_k_categorical_accuracy: 0.5126\n",
      "Epoch 00007: val_categorical_accuracy improved from 0.20560 to 0.22700, saving model to tinynet.h5\n",
      "313/313 [==============================] - 104s 331ms/step - loss: 3.3716 - categorical_accuracy: 0.2324 - top_k_categorical_accuracy: 0.5125 - val_loss: 3.4249 - val_categorical_accuracy: 0.2270 - val_top_k_categorical_accuracy: 0.4931\n",
      "Epoch 8/60\n",
      "312/313 [============================>.] - ETA: 0s - loss: 3.2680 - categorical_accuracy: 0.2506 - top_k_categorical_accuracy: 0.5371\n",
      "Epoch 00008: val_categorical_accuracy improved from 0.22700 to 0.24725, saving model to tinynet.h5\n",
      "313/313 [==============================] - 103s 328ms/step - loss: 3.2675 - categorical_accuracy: 0.2507 - top_k_categorical_accuracy: 0.5373 - val_loss: 3.3125 - val_categorical_accuracy: 0.2473 - val_top_k_categorical_accuracy: 0.5242\n",
      "Epoch 9/60\n",
      "312/313 [============================>.] - ETA: 0s - loss: 3.1739 - categorical_accuracy: 0.2702 - top_k_categorical_accuracy: 0.5611\n",
      "Epoch 00009: val_categorical_accuracy improved from 0.24725 to 0.25340, saving model to tinynet.h5\n",
      "313/313 [==============================] - 104s 332ms/step - loss: 3.1740 - categorical_accuracy: 0.2702 - top_k_categorical_accuracy: 0.5610 - val_loss: 3.2860 - val_categorical_accuracy: 0.2534 - val_top_k_categorical_accuracy: 0.5283\n",
      "Epoch 10/60\n",
      "312/313 [============================>.] - ETA: 0s - loss: 3.0883 - categorical_accuracy: 0.2889 - top_k_categorical_accuracy: 0.5807\n",
      "Epoch 00010: val_categorical_accuracy improved from 0.25340 to 0.25880, saving model to tinynet.h5\n",
      "313/313 [==============================] - 104s 332ms/step - loss: 3.0880 - categorical_accuracy: 0.2890 - top_k_categorical_accuracy: 0.5809 - val_loss: 3.2421 - val_categorical_accuracy: 0.2588 - val_top_k_categorical_accuracy: 0.5340\n",
      "Epoch 11/60\n",
      "312/313 [============================>.] - ETA: 0s - loss: 3.0070 - categorical_accuracy: 0.3070 - top_k_categorical_accuracy: 0.5997\n",
      "Epoch 00011: val_categorical_accuracy improved from 0.25880 to 0.26935, saving model to tinynet.h5\n",
      "313/313 [==============================] - 104s 331ms/step - loss: 3.0069 - categorical_accuracy: 0.3070 - top_k_categorical_accuracy: 0.5998 - val_loss: 3.1873 - val_categorical_accuracy: 0.2693 - val_top_k_categorical_accuracy: 0.5475\n",
      "Epoch 12/60\n",
      "312/313 [============================>.] - ETA: 0s - loss: 2.9370 - categorical_accuracy: 0.3218 - top_k_categorical_accuracy: 0.6158\n",
      "Epoch 00012: val_categorical_accuracy improved from 0.26935 to 0.27665, saving model to tinynet.h5\n",
      "313/313 [==============================] - 103s 329ms/step - loss: 2.9364 - categorical_accuracy: 0.3219 - top_k_categorical_accuracy: 0.6160 - val_loss: 3.1834 - val_categorical_accuracy: 0.2767 - val_top_k_categorical_accuracy: 0.5483\n",
      "Epoch 13/60\n",
      "312/313 [============================>.] - ETA: 0s - loss: 2.8650 - categorical_accuracy: 0.3367 - top_k_categorical_accuracy: 0.6325\n",
      "Epoch 00013: val_categorical_accuracy did not improve from 0.27665\n",
      "313/313 [==============================] - 103s 330ms/step - loss: 2.8647 - categorical_accuracy: 0.3368 - top_k_categorical_accuracy: 0.6325 - val_loss: 3.2037 - val_categorical_accuracy: 0.2752 - val_top_k_categorical_accuracy: 0.5412\n",
      "Epoch 14/60\n",
      "312/313 [============================>.] - ETA: 0s - loss: 2.7896 - categorical_accuracy: 0.3549 - top_k_categorical_accuracy: 0.6476\n",
      "Epoch 00014: val_categorical_accuracy improved from 0.27665 to 0.29535, saving model to tinynet.h5\n",
      "313/313 [==============================] - 102s 327ms/step - loss: 2.7899 - categorical_accuracy: 0.3549 - top_k_categorical_accuracy: 0.6476 - val_loss: 3.0862 - val_categorical_accuracy: 0.2953 - val_top_k_categorical_accuracy: 0.5655\n",
      "Epoch 15/60\n",
      "312/313 [============================>.] - ETA: 0s - loss: 2.7274 - categorical_accuracy: 0.3665 - top_k_categorical_accuracy: 0.6594\n",
      "Epoch 00015: val_categorical_accuracy improved from 0.29535 to 0.30265, saving model to tinynet.h5\n",
      "313/313 [==============================] - 102s 325ms/step - loss: 2.7278 - categorical_accuracy: 0.3665 - top_k_categorical_accuracy: 0.6593 - val_loss: 3.0292 - val_categorical_accuracy: 0.3027 - val_top_k_categorical_accuracy: 0.5784\n",
      "Epoch 16/60\n",
      "312/313 [============================>.] - ETA: 0s - loss: 2.6667 - categorical_accuracy: 0.3792 - top_k_categorical_accuracy: 0.6701\n",
      "Epoch 00016: val_categorical_accuracy did not improve from 0.30265\n",
      "313/313 [==============================] - 102s 324ms/step - loss: 2.6666 - categorical_accuracy: 0.3791 - top_k_categorical_accuracy: 0.6702 - val_loss: 3.1108 - val_categorical_accuracy: 0.2957 - val_top_k_categorical_accuracy: 0.5620\n",
      "Epoch 17/60\n",
      "312/313 [============================>.] - ETA: 0s - loss: 2.6132 - categorical_accuracy: 0.3912 - top_k_categorical_accuracy: 0.6846\n",
      "Epoch 00017: val_categorical_accuracy improved from 0.30265 to 0.30990, saving model to tinynet.h5\n",
      "313/313 [==============================] - 101s 323ms/step - loss: 2.6130 - categorical_accuracy: 0.3911 - top_k_categorical_accuracy: 0.6847 - val_loss: 3.0409 - val_categorical_accuracy: 0.3099 - val_top_k_categorical_accuracy: 0.5803\n",
      "Epoch 18/60\n",
      "312/313 [============================>.] - ETA: 0s - loss: 2.5599 - categorical_accuracy: 0.4032 - top_k_categorical_accuracy: 0.6942\n",
      "Epoch 00018: val_categorical_accuracy did not improve from 0.30990\n",
      "313/313 [==============================] - 100s 320ms/step - loss: 2.5597 - categorical_accuracy: 0.4032 - top_k_categorical_accuracy: 0.6942 - val_loss: 3.1049 - val_categorical_accuracy: 0.2964 - val_top_k_categorical_accuracy: 0.5613\n",
      "Epoch 19/60\n",
      "312/313 [============================>.] - ETA: 0s - loss: 2.5090 - categorical_accuracy: 0.4142 - top_k_categorical_accuracy: 0.7030\n",
      "Epoch 00019: val_categorical_accuracy improved from 0.30990 to 0.31380, saving model to tinynet.h5\n",
      "313/313 [==============================] - 100s 320ms/step - loss: 2.5096 - categorical_accuracy: 0.4140 - top_k_categorical_accuracy: 0.7029 - val_loss: 3.0297 - val_categorical_accuracy: 0.3138 - val_top_k_categorical_accuracy: 0.5768\n",
      "Epoch 20/60\n",
      "312/313 [============================>.] - ETA: 0s - loss: 2.4672 - categorical_accuracy: 0.4233 - top_k_categorical_accuracy: 0.7117\n",
      "Epoch 00020: val_categorical_accuracy improved from 0.31380 to 0.32090, saving model to tinynet.h5\n",
      "313/313 [==============================] - 101s 322ms/step - loss: 2.4675 - categorical_accuracy: 0.4232 - top_k_categorical_accuracy: 0.7117 - val_loss: 3.0002 - val_categorical_accuracy: 0.3209 - val_top_k_categorical_accuracy: 0.5834\n",
      "Epoch 21/60\n",
      "312/313 [============================>.] - ETA: 0s - loss: 2.4299 - categorical_accuracy: 0.4321 - top_k_categorical_accuracy: 0.7183\n",
      "Epoch 00021: val_categorical_accuracy improved from 0.32090 to 0.32965, saving model to tinynet.h5\n",
      "313/313 [==============================] - 101s 324ms/step - loss: 2.4298 - categorical_accuracy: 0.4321 - top_k_categorical_accuracy: 0.7184 - val_loss: 2.9383 - val_categorical_accuracy: 0.3297 - val_top_k_categorical_accuracy: 0.5971\n",
      "Epoch 22/60\n",
      "312/313 [============================>.] - ETA: 0s - loss: 2.3885 - categorical_accuracy: 0.4407 - top_k_categorical_accuracy: 0.7262\n",
      "Epoch 00022: val_categorical_accuracy improved from 0.32965 to 0.33065, saving model to tinynet.h5\n",
      "313/313 [==============================] - 100s 321ms/step - loss: 2.3891 - categorical_accuracy: 0.4405 - top_k_categorical_accuracy: 0.7262 - val_loss: 2.9318 - val_categorical_accuracy: 0.3307 - val_top_k_categorical_accuracy: 0.5994\n",
      "Epoch 23/60\n",
      "312/313 [============================>.] - ETA: 0s - loss: 2.3509 - categorical_accuracy: 0.4500 - top_k_categorical_accuracy: 0.7336\n",
      "Epoch 00023: val_categorical_accuracy did not improve from 0.33065\n",
      "313/313 [==============================] - 101s 322ms/step - loss: 2.3512 - categorical_accuracy: 0.4500 - top_k_categorical_accuracy: 0.7336 - val_loss: 2.9429 - val_categorical_accuracy: 0.3289 - val_top_k_categorical_accuracy: 0.6005\n",
      "Epoch 24/60\n",
      "312/313 [============================>.] - ETA: 0s - loss: 2.3226 - categorical_accuracy: 0.4557 - top_k_categorical_accuracy: 0.7399\n",
      "Epoch 00024: val_categorical_accuracy did not improve from 0.33065\n",
      "313/313 [==============================] - 100s 320ms/step - loss: 2.3225 - categorical_accuracy: 0.4556 - top_k_categorical_accuracy: 0.7399 - val_loss: 2.9908 - val_categorical_accuracy: 0.3279 - val_top_k_categorical_accuracy: 0.5867\n",
      "Epoch 25/60\n",
      "312/313 [============================>.] - ETA: 0s - loss: 2.2876 - categorical_accuracy: 0.4631 - top_k_categorical_accuracy: 0.7454\n",
      "Epoch 00025: val_categorical_accuracy improved from 0.33065 to 0.34465, saving model to tinynet.h5\n",
      "313/313 [==============================] - 102s 326ms/step - loss: 2.2879 - categorical_accuracy: 0.4631 - top_k_categorical_accuracy: 0.7453 - val_loss: 2.8678 - val_categorical_accuracy: 0.3447 - val_top_k_categorical_accuracy: 0.6116\n",
      "Epoch 26/60\n",
      "312/313 [============================>.] - ETA: 0s - loss: 2.2584 - categorical_accuracy: 0.4714 - top_k_categorical_accuracy: 0.7509\n",
      "Epoch 00026: val_categorical_accuracy did not improve from 0.34465\n",
      "313/313 [==============================] - 102s 326ms/step - loss: 2.2586 - categorical_accuracy: 0.4715 - top_k_categorical_accuracy: 0.7509 - val_loss: 3.0254 - val_categorical_accuracy: 0.3250 - val_top_k_categorical_accuracy: 0.5796\n",
      "Epoch 27/60\n",
      "312/313 [============================>.] - ETA: 0s - loss: 2.2249 - categorical_accuracy: 0.4776 - top_k_categorical_accuracy: 0.7566\n",
      "Epoch 00027: val_categorical_accuracy did not improve from 0.34465\n",
      "313/313 [==============================] - 103s 328ms/step - loss: 2.2253 - categorical_accuracy: 0.4775 - top_k_categorical_accuracy: 0.7565 - val_loss: 2.9354 - val_categorical_accuracy: 0.3331 - val_top_k_categorical_accuracy: 0.5975\n",
      "Epoch 28/60\n",
      "312/313 [============================>.] - ETA: 0s - loss: 2.2119 - categorical_accuracy: 0.4817 - top_k_categorical_accuracy: 0.7587\n",
      "Epoch 00028: val_categorical_accuracy did not improve from 0.34465\n",
      "313/313 [==============================] - 102s 326ms/step - loss: 2.2126 - categorical_accuracy: 0.4815 - top_k_categorical_accuracy: 0.7585 - val_loss: 2.9763 - val_categorical_accuracy: 0.3269 - val_top_k_categorical_accuracy: 0.5876\n",
      "Epoch 29/60\n",
      "312/313 [============================>.] - ETA: 0s - loss: 2.1823 - categorical_accuracy: 0.4899 - top_k_categorical_accuracy: 0.7649\n",
      "Epoch 00029: val_categorical_accuracy improved from 0.34465 to 0.35315, saving model to tinynet.h5\n",
      "313/313 [==============================] - 103s 329ms/step - loss: 2.1825 - categorical_accuracy: 0.4897 - top_k_categorical_accuracy: 0.7648 - val_loss: 2.8287 - val_categorical_accuracy: 0.3532 - val_top_k_categorical_accuracy: 0.6155\n",
      "Epoch 30/60\n",
      "312/313 [============================>.] - ETA: 0s - loss: 2.1532 - categorical_accuracy: 0.4930 - top_k_categorical_accuracy: 0.7693\n",
      "Epoch 00030: val_categorical_accuracy improved from 0.35315 to 0.35380, saving model to tinynet.h5\n",
      "313/313 [==============================] - 103s 330ms/step - loss: 2.1541 - categorical_accuracy: 0.4928 - top_k_categorical_accuracy: 0.7691 - val_loss: 2.8686 - val_categorical_accuracy: 0.3538 - val_top_k_categorical_accuracy: 0.6075\n",
      "Epoch 31/60\n",
      "312/313 [============================>.] - ETA: 0s - loss: 2.1360 - categorical_accuracy: 0.4979 - top_k_categorical_accuracy: 0.7722\n",
      "Epoch 00031: val_categorical_accuracy did not improve from 0.35380\n",
      "313/313 [==============================] - 103s 330ms/step - loss: 2.1362 - categorical_accuracy: 0.4979 - top_k_categorical_accuracy: 0.7722 - val_loss: 2.9775 - val_categorical_accuracy: 0.3300 - val_top_k_categorical_accuracy: 0.5876\n",
      "Epoch 32/60\n",
      "312/313 [============================>.] - ETA: 0s - loss: 2.1146 - categorical_accuracy: 0.5037 - top_k_categorical_accuracy: 0.7773\n",
      "Epoch 00032: val_categorical_accuracy did not improve from 0.35380\n",
      "313/313 [==============================] - 103s 330ms/step - loss: 2.1144 - categorical_accuracy: 0.5039 - top_k_categorical_accuracy: 0.7774 - val_loss: 2.8887 - val_categorical_accuracy: 0.3483 - val_top_k_categorical_accuracy: 0.6098\n",
      "Epoch 33/60\n",
      "312/313 [============================>.] - ETA: 0s - loss: 2.0986 - categorical_accuracy: 0.5079 - top_k_categorical_accuracy: 0.7797\n",
      "Epoch 00033: val_categorical_accuracy improved from 0.35380 to 0.35540, saving model to tinynet.h5\n",
      "313/313 [==============================] - 104s 334ms/step - loss: 2.0989 - categorical_accuracy: 0.5078 - top_k_categorical_accuracy: 0.7797 - val_loss: 2.8368 - val_categorical_accuracy: 0.3554 - val_top_k_categorical_accuracy: 0.6161\n",
      "Epoch 34/60\n",
      "312/313 [============================>.] - ETA: 0s - loss: 2.0798 - categorical_accuracy: 0.5135 - top_k_categorical_accuracy: 0.7813\n",
      "Epoch 00034: val_categorical_accuracy did not improve from 0.35540\n",
      "313/313 [==============================] - 105s 335ms/step - loss: 2.0803 - categorical_accuracy: 0.5135 - top_k_categorical_accuracy: 0.7813 - val_loss: 2.9036 - val_categorical_accuracy: 0.3456 - val_top_k_categorical_accuracy: 0.6003\n",
      "Epoch 35/60\n",
      "312/313 [============================>.] - ETA: 0s - loss: 2.0554 - categorical_accuracy: 0.5169 - top_k_categorical_accuracy: 0.7872\n",
      "Epoch 00035: val_categorical_accuracy did not improve from 0.35540\n",
      "313/313 [==============================] - 105s 335ms/step - loss: 2.0562 - categorical_accuracy: 0.5167 - top_k_categorical_accuracy: 0.7870 - val_loss: 2.8953 - val_categorical_accuracy: 0.3516 - val_top_k_categorical_accuracy: 0.6061\n",
      "Epoch 36/60\n",
      "312/313 [============================>.] - ETA: 0s - loss: 2.0468 - categorical_accuracy: 0.5180 - top_k_categorical_accuracy: 0.7885\n",
      "Epoch 00036: val_categorical_accuracy improved from 0.35540 to 0.35715, saving model to tinynet.h5\n",
      "313/313 [==============================] - 105s 334ms/step - loss: 2.0470 - categorical_accuracy: 0.5181 - top_k_categorical_accuracy: 0.7885 - val_loss: 2.8485 - val_categorical_accuracy: 0.3571 - val_top_k_categorical_accuracy: 0.6144\n",
      "Epoch 37/60\n",
      "312/313 [============================>.] - ETA: 0s - loss: 2.0292 - categorical_accuracy: 0.5248 - top_k_categorical_accuracy: 0.7920\n",
      "Epoch 00037: val_categorical_accuracy improved from 0.35715 to 0.36520, saving model to tinynet.h5\n",
      "313/313 [==============================] - 104s 334ms/step - loss: 2.0294 - categorical_accuracy: 0.5247 - top_k_categorical_accuracy: 0.7919 - val_loss: 2.7857 - val_categorical_accuracy: 0.3652 - val_top_k_categorical_accuracy: 0.6290\n",
      "Epoch 38/60\n",
      "312/313 [============================>.] - ETA: 0s - loss: 2.0164 - categorical_accuracy: 0.5262 - top_k_categorical_accuracy: 0.7941\n",
      "Epoch 00038: val_categorical_accuracy did not improve from 0.36520\n",
      "313/313 [==============================] - 105s 335ms/step - loss: 2.0165 - categorical_accuracy: 0.5262 - top_k_categorical_accuracy: 0.7941 - val_loss: 2.9580 - val_categorical_accuracy: 0.3395 - val_top_k_categorical_accuracy: 0.5936\n",
      "Epoch 39/60\n",
      "312/313 [============================>.] - ETA: 0s - loss: 1.9994 - categorical_accuracy: 0.5308 - top_k_categorical_accuracy: 0.7964\n",
      "Epoch 00039: val_categorical_accuracy did not improve from 0.36520\n",
      "313/313 [==============================] - 105s 337ms/step - loss: 1.9991 - categorical_accuracy: 0.5307 - top_k_categorical_accuracy: 0.7964 - val_loss: 2.8507 - val_categorical_accuracy: 0.3559 - val_top_k_categorical_accuracy: 0.6144\n",
      "Epoch 40/60\n",
      "312/313 [============================>.] - ETA: 0s - loss: 1.9822 - categorical_accuracy: 0.5339 - top_k_categorical_accuracy: 0.7987\n",
      "Epoch 00040: val_categorical_accuracy improved from 0.36520 to 0.37005, saving model to tinynet.h5\n",
      "313/313 [==============================] - 105s 334ms/step - loss: 1.9826 - categorical_accuracy: 0.5338 - top_k_categorical_accuracy: 0.7986 - val_loss: 2.7756 - val_categorical_accuracy: 0.3701 - val_top_k_categorical_accuracy: 0.6322\n",
      "Epoch 41/60\n",
      "312/313 [============================>.] - ETA: 0s - loss: 1.9714 - categorical_accuracy: 0.5395 - top_k_categorical_accuracy: 0.8018\n",
      "Epoch 00041: val_categorical_accuracy did not improve from 0.37005\n",
      "313/313 [==============================] - 105s 335ms/step - loss: 1.9721 - categorical_accuracy: 0.5393 - top_k_categorical_accuracy: 0.8016 - val_loss: 2.8794 - val_categorical_accuracy: 0.3516 - val_top_k_categorical_accuracy: 0.6095\n",
      "Epoch 42/60\n",
      "312/313 [============================>.] - ETA: 0s - loss: 1.9595 - categorical_accuracy: 0.5406 - top_k_categorical_accuracy: 0.8029\n",
      "Epoch 00042: val_categorical_accuracy did not improve from 0.37005\n",
      "313/313 [==============================] - 105s 335ms/step - loss: 1.9598 - categorical_accuracy: 0.5404 - top_k_categorical_accuracy: 0.8029 - val_loss: 2.9949 - val_categorical_accuracy: 0.3377 - val_top_k_categorical_accuracy: 0.5846\n",
      "Epoch 43/60\n",
      "312/313 [============================>.] - ETA: 0s - loss: 1.9468 - categorical_accuracy: 0.5445 - top_k_categorical_accuracy: 0.8067\n",
      "Epoch 00043: val_categorical_accuracy did not improve from 0.37005\n",
      "313/313 [==============================] - 105s 335ms/step - loss: 1.9470 - categorical_accuracy: 0.5445 - top_k_categorical_accuracy: 0.8067 - val_loss: 2.8454 - val_categorical_accuracy: 0.3627 - val_top_k_categorical_accuracy: 0.6140\n",
      "Epoch 44/60\n",
      "312/313 [============================>.] - ETA: 0s - loss: 1.9202 - categorical_accuracy: 0.5503 - top_k_categorical_accuracy: 0.8103\n",
      "Epoch 00044: val_categorical_accuracy improved from 0.37005 to 0.37195, saving model to tinynet.h5\n",
      "313/313 [==============================] - 105s 335ms/step - loss: 1.9208 - categorical_accuracy: 0.5502 - top_k_categorical_accuracy: 0.8102 - val_loss: 2.7781 - val_categorical_accuracy: 0.3720 - val_top_k_categorical_accuracy: 0.6310\n",
      "Epoch 45/60\n",
      "312/313 [============================>.] - ETA: 0s - loss: 1.9177 - categorical_accuracy: 0.5502 - top_k_categorical_accuracy: 0.8124\n",
      "Epoch 00045: val_categorical_accuracy did not improve from 0.37195\n",
      "313/313 [==============================] - 104s 334ms/step - loss: 1.9188 - categorical_accuracy: 0.5499 - top_k_categorical_accuracy: 0.8122 - val_loss: 2.9158 - val_categorical_accuracy: 0.3499 - val_top_k_categorical_accuracy: 0.6010\n",
      "Epoch 46/60\n",
      "312/313 [============================>.] - ETA: 0s - loss: 1.9144 - categorical_accuracy: 0.5526 - top_k_categorical_accuracy: 0.8109\n",
      "Epoch 00046: val_categorical_accuracy did not improve from 0.37195\n",
      "313/313 [==============================] - 103s 329ms/step - loss: 1.9145 - categorical_accuracy: 0.5525 - top_k_categorical_accuracy: 0.8108 - val_loss: 2.8956 - val_categorical_accuracy: 0.3536 - val_top_k_categorical_accuracy: 0.6066\n",
      "Epoch 47/60\n",
      "312/313 [============================>.] - ETA: 0s - loss: 1.9019 - categorical_accuracy: 0.5537 - top_k_categorical_accuracy: 0.8139\n",
      "Epoch 00047: val_categorical_accuracy did not improve from 0.37195\n",
      "313/313 [==============================] - 103s 330ms/step - loss: 1.9028 - categorical_accuracy: 0.5534 - top_k_categorical_accuracy: 0.8138 - val_loss: 2.8278 - val_categorical_accuracy: 0.3638 - val_top_k_categorical_accuracy: 0.6198\n",
      "Epoch 48/60\n",
      "312/313 [============================>.] - ETA: 0s - loss: 1.8910 - categorical_accuracy: 0.5552 - top_k_categorical_accuracy: 0.8155\n",
      "Epoch 00048: val_categorical_accuracy did not improve from 0.37195\n",
      "\n",
      "Epoch 00048: ReduceLROnPlateau reducing learning rate to 0.0009999999776482583.\n",
      "313/313 [==============================] - 104s 333ms/step - loss: 1.8917 - categorical_accuracy: 0.5550 - top_k_categorical_accuracy: 0.8153 - val_loss: 2.9747 - val_categorical_accuracy: 0.3461 - val_top_k_categorical_accuracy: 0.5911\n",
      "Epoch 49/60\n",
      "312/313 [============================>.] - ETA: 0s - loss: 1.7623 - categorical_accuracy: 0.6507 - top_k_categorical_accuracy: 0.8750\n",
      "Epoch 00049: val_categorical_accuracy improved from 0.37195 to 0.44880, saving model to tinynet.h5\n",
      "313/313 [==============================] - 104s 333ms/step - loss: 1.7628 - categorical_accuracy: 0.6507 - top_k_categorical_accuracy: 0.8752 - val_loss: 2.6407 - val_categorical_accuracy: 0.4488 - val_top_k_categorical_accuracy: 0.7033\n",
      "Epoch 50/60\n",
      "312/313 [============================>.] - ETA: 0s - loss: 2.0764 - categorical_accuracy: 0.6903 - top_k_categorical_accuracy: 0.8994\n",
      "Epoch 00050: val_categorical_accuracy improved from 0.44880 to 0.45440, saving model to tinynet.h5\n",
      "313/313 [==============================] - 105s 337ms/step - loss: 2.0770 - categorical_accuracy: 0.6902 - top_k_categorical_accuracy: 0.8994 - val_loss: 2.9120 - val_categorical_accuracy: 0.4544 - val_top_k_categorical_accuracy: 0.7081\n",
      "Epoch 51/60\n",
      "312/313 [============================>.] - ETA: 0s - loss: 2.5184 - categorical_accuracy: 0.6739 - top_k_categorical_accuracy: 0.8923\n",
      "Epoch 00051: val_categorical_accuracy did not improve from 0.45440\n",
      "313/313 [==============================] - 105s 336ms/step - loss: 2.5192 - categorical_accuracy: 0.6737 - top_k_categorical_accuracy: 0.8922 - val_loss: 3.1910 - val_categorical_accuracy: 0.4493 - val_top_k_categorical_accuracy: 0.7078\n",
      "Epoch 52/60\n",
      "312/313 [============================>.] - ETA: 0s - loss: 2.9284 - categorical_accuracy: 0.6378 - top_k_categorical_accuracy: 0.8752\n",
      "Epoch 00052: val_categorical_accuracy did not improve from 0.45440\n",
      "313/313 [==============================] - 104s 333ms/step - loss: 2.9290 - categorical_accuracy: 0.6376 - top_k_categorical_accuracy: 0.8751 - val_loss: 3.4483 - val_categorical_accuracy: 0.4414 - val_top_k_categorical_accuracy: 0.7055\n",
      "Epoch 53/60\n",
      "312/313 [============================>.] - ETA: 0s - loss: 3.2944 - categorical_accuracy: 0.5881 - top_k_categorical_accuracy: 0.8488\n",
      "Epoch 00053: val_categorical_accuracy did not improve from 0.45440\n",
      "313/313 [==============================] - 105s 334ms/step - loss: 3.2947 - categorical_accuracy: 0.5882 - top_k_categorical_accuracy: 0.8489 - val_loss: 3.7011 - val_categorical_accuracy: 0.4252 - val_top_k_categorical_accuracy: 0.6945\n",
      "Epoch 54/60\n",
      "312/313 [============================>.] - ETA: 0s - loss: 3.6193 - categorical_accuracy: 0.5262 - top_k_categorical_accuracy: 0.8128\n",
      "Epoch 00054: val_categorical_accuracy did not improve from 0.45440\n",
      "313/313 [==============================] - 106s 339ms/step - loss: 3.6199 - categorical_accuracy: 0.5261 - top_k_categorical_accuracy: 0.8127 - val_loss: 3.9189 - val_categorical_accuracy: 0.4004 - val_top_k_categorical_accuracy: 0.6788\n",
      "Epoch 55/60\n",
      "312/313 [============================>.] - ETA: 0s - loss: 3.9058 - categorical_accuracy: 0.4600 - top_k_categorical_accuracy: 0.7657\n",
      "Epoch 00055: val_categorical_accuracy did not improve from 0.45440\n",
      "313/313 [==============================] - 106s 338ms/step - loss: 3.9063 - categorical_accuracy: 0.4598 - top_k_categorical_accuracy: 0.7654 - val_loss: 4.1268 - val_categorical_accuracy: 0.3708 - val_top_k_categorical_accuracy: 0.6573\n",
      "Epoch 56/60\n",
      "312/313 [============================>.] - ETA: 0s - loss: 4.1577 - categorical_accuracy: 0.3918 - top_k_categorical_accuracy: 0.7084\n",
      "Epoch 00056: val_categorical_accuracy did not improve from 0.45440\n",
      "313/313 [==============================] - 105s 337ms/step - loss: 4.1578 - categorical_accuracy: 0.3918 - top_k_categorical_accuracy: 0.7085 - val_loss: 4.3244 - val_categorical_accuracy: 0.3288 - val_top_k_categorical_accuracy: 0.6207\n",
      "Epoch 57/60\n",
      "312/313 [============================>.] - ETA: 0s - loss: 4.3756 - categorical_accuracy: 0.3234 - top_k_categorical_accuracy: 0.6441\n",
      "Epoch 00057: val_categorical_accuracy did not improve from 0.45440\n",
      "\n",
      "Epoch 00057: ReduceLROnPlateau reducing learning rate to 0.0001.\n",
      "313/313 [==============================] - 105s 336ms/step - loss: 4.3758 - categorical_accuracy: 0.3231 - top_k_categorical_accuracy: 0.6441 - val_loss: 4.5010 - val_categorical_accuracy: 0.2763 - val_top_k_categorical_accuracy: 0.5719\n",
      "Epoch 58/60\n",
      "312/313 [============================>.] - ETA: 0s - loss: 4.7223 - categorical_accuracy: 0.2620 - top_k_categorical_accuracy: 0.5726\n",
      "Epoch 00058: val_categorical_accuracy did not improve from 0.45440\n",
      "313/313 [==============================] - 104s 333ms/step - loss: 4.7231 - categorical_accuracy: 0.2617 - top_k_categorical_accuracy: 0.5723 - val_loss: 4.9544 - val_categorical_accuracy: 0.2319 - val_top_k_categorical_accuracy: 0.5157\n",
      "Epoch 59/60\n",
      "312/313 [============================>.] - ETA: 0s - loss: 5.0971 - categorical_accuracy: 0.1488 - top_k_categorical_accuracy: 0.4056\n",
      "Epoch 00059: val_categorical_accuracy did not improve from 0.45440\n",
      "313/313 [==============================] - 105s 334ms/step - loss: 5.0975 - categorical_accuracy: 0.1487 - top_k_categorical_accuracy: 0.4054 - val_loss: 5.2052 - val_categorical_accuracy: 0.1527 - val_top_k_categorical_accuracy: 0.3830\n",
      "Epoch 60/60\n",
      "312/313 [============================>.] - ETA: 0s - loss: 5.2555 - categorical_accuracy: 0.0519 - top_k_categorical_accuracy: 0.1912\n",
      "Epoch 00060: val_categorical_accuracy did not improve from 0.45440\n",
      "313/313 [==============================] - 104s 332ms/step - loss: 5.2556 - categorical_accuracy: 0.0518 - top_k_categorical_accuracy: 0.1909 - val_loss: 5.2859 - val_categorical_accuracy: 0.0430 - val_top_k_categorical_accuracy: 0.1782\n"
     ]
    },
    {
     "data": {
      "image/png": "[encoded data removed]",
      "text/plain": [
       "<Figure size 432x288 with 1 Axes>"
      ]
     },
     "metadata": {
      "needs_background": "light",
      "tags": []
     },
     "output_type": "display_data"
    },
    {
     "data": {
      "image/png": "[encoded data removed]",
      "text/plain": [
       "<Figure size 432x288 with 1 Axes>"
      ]
     },
     "metadata": {
      "needs_background": "light",
      "tags": []
     },
     "output_type": "display_data"
    },
    {
     "data": {
      "image/png": "[encoded data removed]",
      "text/plain": [
       "<Figure size 432x288 with 1 Axes>"
      ]
     },
     "metadata": {
      "needs_background": "light",
      "tags": []
     },
     "output_type": "display_data"
    }
   ],
   "source": [
    "# initializing the model\n",
    "model_tinynet = build(input_shape, num_classes)\n",
    "model_tinynet.compile(optimizer=tfa.optimizers.weight_decay_optimizers.SGDW(\n",
    "                        learning_rate=learning_rate, momentum=momentum, \n",
    "                        weight_decay=weight_decay, nesterov=True, name='SGDW'),\n",
    "                        loss='categorical_crossentropy', \n",
    "                        metrics=['categorical_accuracy', 'top_k_categorical_accuracy'])\n",
    "\n",
    "# traing the model\n",
    "history = model_tinynet.fit(train_data_gen, epochs = total_epochs,\n",
    "                            validation_data=val_data_gen, verbose=1, \n",
    "                            callbacks=model_callbacks(checkpoint_path))\n",
    "\n",
    "# plotting the results\n",
    "plot_graph(history, total_epochs)"
   ]
  }
 ],
 "metadata": {
  "accelerator": "GPU",
  "colab": {
   "collapsed_sections": [],
   "name": "TinyNet_Train.ipynb",
   "provenance": []
  },
  "kernelspec": {
   "display_name": "Python 3",
   "language": "python",
   "name": "python3"
  },
  "language_info": {
   "codemirror_mode": {
    "name": "ipython",
    "version": 3
   },
   "file_extension": ".py",
   "mimetype": "text/x-python",
   "name": "python",
   "nbconvert_exporter": "python",
   "pygments_lexer": "ipython3",
   "version": "3.7.3"
  }
 },
 "nbformat": 4,
 "nbformat_minor": 1
}

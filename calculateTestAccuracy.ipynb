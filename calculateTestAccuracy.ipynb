{
 "cells": [
  {
   "cell_type": "code",
   "execution_count": 2,
   "metadata": {},
   "outputs": [],
   "source": [
    "import numpy as np"
   ]
  },
  {
   "cell_type": "code",
   "execution_count": 21,
   "metadata": {},
   "outputs": [],
   "source": [
    "def importClasses():\n",
    "    classPath = \"./tiny-imagenet-200/wnids.txt\"\n",
    "    return open(classPath).read().splitlines()\n",
    "\n",
    "trainClasses = importClasses()\n",
    "\n",
    "def createDict(trainClasses):\n",
    "    #Mapping from class name to class Number\n",
    "    classDict = {}\n",
    "    for i in range(len(trainClasses)):\n",
    "        classDict[trainClasses[i]] = i\n",
    "    return classDict\n",
    "\n",
    "classNumDict = createDict(trainClasses)\n",
    "\n",
    "def getOutputArray():\n",
    "    outputArray = []\n",
    "    outputTextPath = \"./tiny-imagenet-200/val/val_annotations.txt\"\n",
    "    textFile = open(outputTextPath).read().split()\n",
    "    for i in range(10000):\n",
    "        outputArray.append(classNumDict[textFile[6*i+1]])\n",
    "    return np.array(outputArray)"
   ]
  },
  {
   "cell_type": "code",
   "execution_count": 80,
   "metadata": {},
   "outputs": [],
   "source": [
    "def getTestAccuracy(predicted):\n",
    "    if predicted.shape[0] != 10000:\n",
    "        return \"Ensure Proper shape of np Array: (10000,)\"\n",
    "    x = predicted == getOutputArray()\n",
    "    return x.sum()/10000   "
   ]
  },
  {
   "cell_type": "code",
   "execution_count": 81,
   "metadata": {},
   "outputs": [
    {
     "data": {
      "text/plain": [
       "'Ensure Proper shape of np Array: (10000,)'"
      ]
     },
     "execution_count": 81,
     "metadata": {},
     "output_type": "execute_result"
    }
   ],
   "source": [
    "a = np.random.randint(200, size = 1000)\n",
    "getTestAccuracy(a)"
   ]
  },
  {
   "cell_type": "code",
   "execution_count": 79,
   "metadata": {},
   "outputs": [
    {
     "data": {
      "text/plain": [
       "(1000,)"
      ]
     },
     "execution_count": 79,
     "metadata": {},
     "output_type": "execute_result"
    }
   ],
   "source": [
    "a.shape"
   ]
  },
  {
   "cell_type": "code",
   "execution_count": null,
   "metadata": {},
   "outputs": [],
   "source": []
  }
 ],
 "metadata": {
  "kernelspec": {
   "display_name": "Python 3",
   "language": "python",
   "name": "python3"
  },
  "language_info": {
   "codemirror_mode": {
    "name": "ipython",
    "version": 3
   },
   "file_extension": ".py",
   "mimetype": "text/x-python",
   "name": "python",
   "nbconvert_exporter": "python",
   "pygments_lexer": "ipython3",
   "version": "3.7.3"
  }
 },
 "nbformat": 4,
 "nbformat_minor": 2
}

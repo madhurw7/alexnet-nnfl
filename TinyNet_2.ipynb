{
  "nbformat": 4,
  "nbformat_minor": 0,
  "metadata": {
    "kernelspec": {
      "display_name": "Python 3",
      "language": "python",
      "name": "python3"
    },
    "language_info": {
      "codemirror_mode": {
        "name": "ipython",
        "version": 3
      },
      "file_extension": ".py",
      "mimetype": "text/x-python",
      "name": "python",
      "nbconvert_exporter": "python",
      "pygments_lexer": "ipython3",
      "version": "3.7.3"
    },
    "colab": {
      "name": "TinyNet_2.ipynb",
      "provenance": [],
      "collapsed_sections": []
    },
    "accelerator": "GPU"
  },
  "cells": [
    {
      "cell_type": "code",
      "metadata": {
        "id": "ZDEM2K_uf9u9",
        "colab_type": "code",
        "outputId": "c2c254f5-12d5-442e-ac21-2e4ae1199adc",
        "colab": {
          "base_uri": "https://localhost:8080/",
          "height": 632
        }
      },
      "source": [
        "%pip install tensorflow==2.1.0"
      ],
      "execution_count": 0,
      "outputs": [
        {
          "output_type": "stream",
          "text": [
            "Requirement already satisfied: tensorflow==2.1.0 in /usr/local/lib/python3.6/dist-packages (2.1.0)\n",
            "Requirement already satisfied: wrapt>=1.11.1 in /usr/local/lib/python3.6/dist-packages (from tensorflow==2.1.0) (1.12.1)\n",
            "Requirement already satisfied: google-pasta>=0.1.6 in /usr/local/lib/python3.6/dist-packages (from tensorflow==2.1.0) (0.2.0)\n",
            "Requirement already satisfied: grpcio>=1.8.6 in /usr/local/lib/python3.6/dist-packages (from tensorflow==2.1.0) (1.28.1)\n",
            "Requirement already satisfied: astor>=0.6.0 in /usr/local/lib/python3.6/dist-packages (from tensorflow==2.1.0) (0.8.1)\n",
            "Requirement already satisfied: termcolor>=1.1.0 in /usr/local/lib/python3.6/dist-packages (from tensorflow==2.1.0) (1.1.0)\n",
            "Requirement already satisfied: scipy==1.4.1; python_version >= \"3\" in /usr/local/lib/python3.6/dist-packages (from tensorflow==2.1.0) (1.4.1)\n",
            "Requirement already satisfied: wheel>=0.26; python_version >= \"3\" in /usr/local/lib/python3.6/dist-packages (from tensorflow==2.1.0) (0.34.2)\n",
            "Requirement already satisfied: absl-py>=0.7.0 in /usr/local/lib/python3.6/dist-packages (from tensorflow==2.1.0) (0.9.0)\n",
            "Requirement already satisfied: keras-preprocessing>=1.1.0 in /usr/local/lib/python3.6/dist-packages (from tensorflow==2.1.0) (1.1.0)\n",
            "Requirement already satisfied: tensorflow-estimator<2.2.0,>=2.1.0rc0 in /usr/local/lib/python3.6/dist-packages (from tensorflow==2.1.0) (2.1.0)\n",
            "Requirement already satisfied: six>=1.12.0 in /usr/local/lib/python3.6/dist-packages (from tensorflow==2.1.0) (1.12.0)\n",
            "Requirement already satisfied: protobuf>=3.8.0 in /usr/local/lib/python3.6/dist-packages (from tensorflow==2.1.0) (3.10.0)\n",
            "Requirement already satisfied: gast==0.2.2 in /usr/local/lib/python3.6/dist-packages (from tensorflow==2.1.0) (0.2.2)\n",
            "Requirement already satisfied: opt-einsum>=2.3.2 in /usr/local/lib/python3.6/dist-packages (from tensorflow==2.1.0) (3.2.1)\n",
            "Requirement already satisfied: numpy<2.0,>=1.16.0 in /usr/local/lib/python3.6/dist-packages (from tensorflow==2.1.0) (1.18.4)\n",
            "Requirement already satisfied: keras-applications>=1.0.8 in /usr/local/lib/python3.6/dist-packages (from tensorflow==2.1.0) (1.0.8)\n",
            "Requirement already satisfied: tensorboard<2.2.0,>=2.1.0 in /usr/local/lib/python3.6/dist-packages (from tensorflow==2.1.0) (2.1.1)\n",
            "Requirement already satisfied: setuptools in /usr/local/lib/python3.6/dist-packages (from protobuf>=3.8.0->tensorflow==2.1.0) (46.3.0)\n",
            "Requirement already satisfied: h5py in /usr/local/lib/python3.6/dist-packages (from keras-applications>=1.0.8->tensorflow==2.1.0) (2.10.0)\n",
            "Requirement already satisfied: werkzeug>=0.11.15 in /usr/local/lib/python3.6/dist-packages (from tensorboard<2.2.0,>=2.1.0->tensorflow==2.1.0) (1.0.1)\n",
            "Requirement already satisfied: markdown>=2.6.8 in /usr/local/lib/python3.6/dist-packages (from tensorboard<2.2.0,>=2.1.0->tensorflow==2.1.0) (3.2.1)\n",
            "Requirement already satisfied: requests<3,>=2.21.0 in /usr/local/lib/python3.6/dist-packages (from tensorboard<2.2.0,>=2.1.0->tensorflow==2.1.0) (2.23.0)\n",
            "Requirement already satisfied: google-auth<2,>=1.6.3 in /usr/local/lib/python3.6/dist-packages (from tensorboard<2.2.0,>=2.1.0->tensorflow==2.1.0) (1.7.2)\n",
            "Requirement already satisfied: google-auth-oauthlib<0.5,>=0.4.1 in /usr/local/lib/python3.6/dist-packages (from tensorboard<2.2.0,>=2.1.0->tensorflow==2.1.0) (0.4.1)\n",
            "Requirement already satisfied: certifi>=2017.4.17 in /usr/local/lib/python3.6/dist-packages (from requests<3,>=2.21.0->tensorboard<2.2.0,>=2.1.0->tensorflow==2.1.0) (2020.4.5.1)\n",
            "Requirement already satisfied: chardet<4,>=3.0.2 in /usr/local/lib/python3.6/dist-packages (from requests<3,>=2.21.0->tensorboard<2.2.0,>=2.1.0->tensorflow==2.1.0) (3.0.4)\n",
            "Requirement already satisfied: idna<3,>=2.5 in /usr/local/lib/python3.6/dist-packages (from requests<3,>=2.21.0->tensorboard<2.2.0,>=2.1.0->tensorflow==2.1.0) (2.9)\n",
            "Requirement already satisfied: urllib3!=1.25.0,!=1.25.1,<1.26,>=1.21.1 in /usr/local/lib/python3.6/dist-packages (from requests<3,>=2.21.0->tensorboard<2.2.0,>=2.1.0->tensorflow==2.1.0) (1.24.3)\n",
            "Requirement already satisfied: cachetools<3.2,>=2.0.0 in /usr/local/lib/python3.6/dist-packages (from google-auth<2,>=1.6.3->tensorboard<2.2.0,>=2.1.0->tensorflow==2.1.0) (3.1.1)\n",
            "Requirement already satisfied: rsa<4.1,>=3.1.4 in /usr/local/lib/python3.6/dist-packages (from google-auth<2,>=1.6.3->tensorboard<2.2.0,>=2.1.0->tensorflow==2.1.0) (4.0)\n",
            "Requirement already satisfied: pyasn1-modules>=0.2.1 in /usr/local/lib/python3.6/dist-packages (from google-auth<2,>=1.6.3->tensorboard<2.2.0,>=2.1.0->tensorflow==2.1.0) (0.2.8)\n",
            "Requirement already satisfied: requests-oauthlib>=0.7.0 in /usr/local/lib/python3.6/dist-packages (from google-auth-oauthlib<0.5,>=0.4.1->tensorboard<2.2.0,>=2.1.0->tensorflow==2.1.0) (1.3.0)\n",
            "Requirement already satisfied: pyasn1>=0.1.3 in /usr/local/lib/python3.6/dist-packages (from rsa<4.1,>=3.1.4->google-auth<2,>=1.6.3->tensorboard<2.2.0,>=2.1.0->tensorflow==2.1.0) (0.4.8)\n",
            "Requirement already satisfied: oauthlib>=3.0.0 in /usr/local/lib/python3.6/dist-packages (from requests-oauthlib>=0.7.0->google-auth-oauthlib<0.5,>=0.4.1->tensorboard<2.2.0,>=2.1.0->tensorflow==2.1.0) (3.1.0)\n"
          ],
          "name": "stdout"
        }
      ]
    },
    {
      "cell_type": "code",
      "metadata": {
        "id": "gTApzs6odQgd",
        "colab_type": "code",
        "colab": {}
      },
      "source": [
        "import tensorflow as tf\n",
        "from tensorflow import keras\n",
        "from PIL import Image\n",
        "import tensorflow_addons as tfa\n",
        "\n",
        "import os\n",
        "import numpy as np\n",
        "import matplotlib.pyplot as plt"
      ],
      "execution_count": 0,
      "outputs": []
    },
    {
      "cell_type": "markdown",
      "metadata": {
        "id": "r30TvsDm0SHO",
        "colab_type": "text"
      },
      "source": [
        "Getting Dataset\n"
      ]
    },
    {
      "cell_type": "code",
      "metadata": {
        "id": "b2DboYm4dQgm",
        "colab_type": "code",
        "colab": {}
      },
      "source": [
        "_URL = \"http://cs231n.stanford.edu/tiny-imagenet-200.zip\"\n",
        "path_to_zip = tf.keras.utils.get_file('tiny-imagenet-200.zip', origin=_URL, extract=True)\n",
        "PATH = os.path.join(os.path.dirname(path_to_zip), 'tiny-imagenet-200')\n"
      ],
      "execution_count": 0,
      "outputs": []
    },
    {
      "cell_type": "code",
      "metadata": {
        "id": "KBpT6DtKdQgr",
        "colab_type": "code",
        "colab": {}
      },
      "source": [
        "train_dir = os.path.join(PATH, 'train')\n",
        "val_dir = os.path.join(PATH, 'val')"
      ],
      "execution_count": 0,
      "outputs": []
    },
    {
      "cell_type": "markdown",
      "metadata": {
        "id": "O1THvKkw4lFU",
        "colab_type": "text"
      },
      "source": [
        "Parameters\n"
      ]
    },
    {
      "cell_type": "code",
      "metadata": {
        "id": "9lLDkQW84iDJ",
        "colab_type": "code",
        "colab": {}
      },
      "source": [
        "learning_rate = 0.01\n",
        "momentum = 0.9\n",
        "weight_decay = 0.0005\n",
        "total_epochs = 50\n",
        "batch_size = 400\n",
        "input_shape = (64, 64, 3)\n",
        "num_classes = 200"
      ],
      "execution_count": 0,
      "outputs": []
    },
    {
      "cell_type": "markdown",
      "metadata": {
        "id": "c6UwCF800ii0",
        "colab_type": "text"
      },
      "source": [
        "Utilities"
      ]
    },
    {
      "cell_type": "code",
      "metadata": {
        "id": "JdclzdxD0bqh",
        "colab_type": "code",
        "colab": {}
      },
      "source": [
        "# This function will plot images in the form of a grid with 1 row and 5 columns where images are placed in each column.\n",
        "def plotImages(images_arr):\n",
        "    fig, axes = plt.subplots(1, 5, figsize=(20,20))\n",
        "    axes = axes.flatten()\n",
        "    for img, ax in zip(images_arr, axes):\n",
        "        ax.imshow(img)\n",
        "        ax.axis('off')\n",
        "    plt.tight_layout()\n",
        "    plt.show()"
      ],
      "execution_count": 0,
      "outputs": []
    },
    {
      "cell_type": "code",
      "metadata": {
        "id": "8DU9CRex2Qhw",
        "colab_type": "code",
        "colab": {}
      },
      "source": [
        "def model_callbacks(name):\n",
        "    checkpoint = tf.keras.callbacks.ModelCheckpoint(name, monitor = 'val_categorical_accuracy',\n",
        "                                mode = 'max', save_best_only = True, verbose = 1)\n",
        "    reduce_lr = tf.keras.callbacks.ReduceLROnPlateau(monitor = 'val_loss', mode = 'min', factor = 0.1,    \n",
        "                                  patience = 5, verbose = 1)\n",
        "    return [reduce_lr]"
      ],
      "execution_count": 0,
      "outputs": []
    },
    {
      "cell_type": "code",
      "metadata": {
        "id": "Sbib2OHd2RY_",
        "colab_type": "code",
        "colab": {}
      },
      "source": [
        "def plot_graph(model, N):\n",
        "    \n",
        "    plt.figure(0)\n",
        "    plt.plot(np.arange(0, N), model.history['loss'], label='Training loss')\n",
        "    plt.plot(np.arange(0, N), model.history['val_loss'], label='Testing loss')\n",
        "    plt.title('Training vs Testing Loss')\n",
        "    plt.xlabel('Epochs')\n",
        "    plt.ylabel('Loss')\n",
        "    plt.legend()\n",
        "    \n",
        "    plt.figure(1)\n",
        "    plt.plot(np.arange(0, N), model.history['categorical_accuracy'], label='Top 1 Training Accuracy')\n",
        "    plt.plot(np.arange(0, N), model.history['val_categorical_accuracy'], label='Top 1 Testing Accuracy')\n",
        "    plt.title('Top 1 Training vs Testing Accuracy')\n",
        "    plt.xlabel('Epochs')\n",
        "    plt.ylabel('Accuracy')\n",
        "    plt.legend()\n",
        "    \n",
        "    plt.figure(2)\n",
        "    plt.plot(np.arange(0, N), model.history['top_k_categorical_accuracy'], label='Top 5 Training Accuracy')\n",
        "    plt.plot(np.arange(0, N), model.history['val_top_k_categorical_accuracy'], label='Top 5 Testing Accuracy')\n",
        "    plt.title('Top 5 Training vs Testing Acuracy')\n",
        "    plt.xlabel('Epochs')\n",
        "    plt.ylabel('Accuracy')\n",
        "    plt.legend()"
      ],
      "execution_count": 0,
      "outputs": []
    },
    {
      "cell_type": "markdown",
      "metadata": {
        "id": "IZA2VrXB1_B6",
        "colab_type": "text"
      },
      "source": [
        "Augmentation"
      ]
    },
    {
      "cell_type": "code",
      "metadata": {
        "id": "M8Ha9DBMdQgx",
        "colab_type": "code",
        "colab": {}
      },
      "source": [
        "augment = tf.keras.preprocessing.image.ImageDataGenerator(featurewise_center=True, featurewise_std_normalization=True, zca_whitening=True,\n",
        "                               validation_split = 0.1)\n",
        "\n",
        "# horizontal_flip=True,\n",
        "# preprocessing_function=func_PCA,\n",
        "# brightness_range=(0.3, 0.7),\n",
        "# shear_range=0.35,\n",
        "# zoom_range=[0.5, 1.5],\n",
        "# channel_shift_range=150.0,\n",
        "# rescale=1./255,\n",
        "# width_shift_range=0.2, \n",
        "# height_shift_range=0.2,\n",
        "# fill_mode='nearest',"
      ],
      "execution_count": 0,
      "outputs": []
    },
    {
      "cell_type": "code",
      "metadata": {
        "id": "uDmYH9EF6C0x",
        "colab_type": "code",
        "colab": {}
      },
      "source": [
        "augment.mean = 112.69858580973307\n",
        "augment.std = 70.93752549462194\n",
        "augment.principal_components = 20"
      ],
      "execution_count": 0,
      "outputs": []
    },
    {
      "cell_type": "code",
      "metadata": {
        "id": "UvNH3gyqdQg0",
        "colab_type": "code",
        "outputId": "d87ff32a-e058-4ccd-d6cc-115bed29fe9a",
        "colab": {
          "base_uri": "https://localhost:8080/",
          "height": 51
        }
      },
      "source": [
        "train_data_gen = augment.flow_from_directory(batch_size=batch_size, directory=train_dir,\n",
        "                                             shuffle=True, target_size=(64, 64),\n",
        "                                             class_mode='categorical', subset='training')\n",
        "\n",
        "val_data_gen = augment.flow_from_directory(batch_size=batch_size, directory = train_dir,\n",
        "                                                         shuffle=True, target_size=(64, 64),\n",
        "                                                         class_mode='categorical', subset = 'validation')"
      ],
      "execution_count": 0,
      "outputs": [
        {
          "output_type": "stream",
          "text": [
            "Found 90000 images belonging to 200 classes.\n",
            "Found 10000 images belonging to 200 classes.\n"
          ],
          "name": "stdout"
        }
      ]
    },
    {
      "cell_type": "code",
      "metadata": {
        "id": "-e0OGtTWdQg5",
        "colab_type": "code",
        "outputId": "9baa6a1d-3da7-459e-8b4b-9d8b8782ef7e",
        "colab": {
          "base_uri": "https://localhost:8080/",
          "height": 353
        }
      },
      "source": [
        "sample_training_images, _ = next(train_data_gen)\n",
        "plotImages(sample_training_images[:5])"
      ],
      "execution_count": 0,
      "outputs": [
        {
          "output_type": "stream",
          "text": [
            "Clipping input data to the valid range for imshow with RGB data ([0..1] for floats or [0..255] for integers).\n",
            "Clipping input data to the valid range for imshow with RGB data ([0..1] for floats or [0..255] for integers).\n",
            "Clipping input data to the valid range for imshow with RGB data ([0..1] for floats or [0..255] for integers).\n",
            "Clipping input data to the valid range for imshow with RGB data ([0..1] for floats or [0..255] for integers).\n",
            "Clipping input data to the valid range for imshow with RGB data ([0..1] for floats or [0..255] for integers).\n"
          ],
          "name": "stderr"
        },
        {
          "output_type": "display_data",
          "data": {
            "image/png": "[encoded data removed]",
            "text/plain": [
              "<Figure size 1440x1440 with 5 Axes>"
            ]
          },
          "metadata": {
            "tags": [],
            "needs_background": "light"
          }
        }
      ]
    },
    {
      "cell_type": "markdown",
      "metadata": {
        "id": "QWXbeH5L2Edm",
        "colab_type": "text"
      },
      "source": [
        "Model"
      ]
    },
    {
      "cell_type": "code",
      "metadata": {
        "id": "OwExW0JyXLUm",
        "colab_type": "code",
        "colab": {}
      },
      "source": [
        "# def build(input_shape, num_classes):\n",
        "#     model = tf.keras.Sequential()\n",
        "\n",
        "#     #conv-spatial batch norm - relu #1 \n",
        "#     model.add(tf.keras.layers.ZeroPadding2D((2,2),input_shape=(64,64,3)))\n",
        "#     model.add(tf.keras.layers.Convolution2D(64,(5,5),strides=(2,2),kernel_regularizer=tf.keras.regularizers.L1L2(l1=1e-7,l2=1e-7)))\n",
        "#     model.add(tf.keras.layers.BatchNormalization(epsilon=1e-06, axis=1, momentum=0.9))\n",
        "#     model.add(tf.keras.layers.Activation('relu')) \n",
        "\n",
        "#     #conv-spatial batch norm - relu #2\n",
        "#     model.add(tf.keras.layers.ZeroPadding2D((1,1)))\n",
        "#     model.add(tf.keras.layers.Convolution2D(64,(3,3),strides=(1,1)))\n",
        "#     model.add(tf.keras.layers.BatchNormalization(epsilon=1e-06, axis=1, momentum=0.9))\n",
        "#     model.add(tf.keras.layers.Activation('relu')) \n",
        "\n",
        "#     #conv-spatial batch norm - relu #3\n",
        "#     model.add(tf.keras.layers.ZeroPadding2D((1,1)))\n",
        "#     model.add(tf.keras.layers.Convolution2D(128,(3,3),strides=(2,2)))\n",
        "#     model.add(tf.keras.layers.BatchNormalization(epsilon=1e-06, axis=1, momentum=0.9))\n",
        "#     model.add(tf.keras.layers.Activation('relu')) \n",
        "#     model.add(tf.keras.layers.Dropout(0.25)) \n",
        "\n",
        "#     #conv-spatial batch norm - relu #4\n",
        "#     model.add(tf.keras.layers.ZeroPadding2D((1,1)))\n",
        "#     model.add(tf.keras.layers.Convolution2D(128,(3,3),strides=(1,1)))\n",
        "#     model.add(tf.keras.layers.BatchNormalization(epsilon=1e-06, axis=1, momentum=0.9))\n",
        "#     model.add(tf.keras.layers.Activation('relu')) \n",
        "\n",
        "#     #conv-spatial batch norm - relu #5\n",
        "#     model.add(tf.keras.layers.ZeroPadding2D((1,1)))\n",
        "#     model.add(tf.keras.layers.Convolution2D(256,(3,3),strides=(2,2)))\n",
        "#     model.add(tf.keras.layers.BatchNormalization(epsilon=1e-06, axis=1, momentum=0.9))\n",
        "#     model.add(tf.keras.layers.Activation('relu')) \n",
        "\n",
        "#     #conv-spatial batch norm - relu #6\n",
        "#     model.add(tf.keras.layers.ZeroPadding2D((1,1)))\n",
        "#     model.add(tf.keras.layers.Convolution2D(256,(3,3),strides=(1,1)))\n",
        "#     model.add(tf.keras.layers.BatchNormalization(epsilon=1e-06, axis=1, momentum=0.9))\n",
        "#     model.add(tf.keras.layers.Activation('relu')) \n",
        "#     model.add(tf.keras.layers.Dropout(0.25))\n",
        "\n",
        "#     #conv-spatial batch norm - relu #7\n",
        "#     model.add(tf.keras.layers.ZeroPadding2D((1,1)))\n",
        "#     model.add(tf.keras.layers.Convolution2D(512,(3,3),strides=(2,2)))\n",
        "#     model.add(tf.keras.layers.BatchNormalization(epsilon=1e-06, axis=1, momentum=0.9))\n",
        "#     model.add(tf.keras.layers.Activation('relu')) \n",
        "\n",
        "#     #conv-spatial batch norm - relu #8\n",
        "#     model.add(tf.keras.layers.ZeroPadding2D((1,1)))\n",
        "#     model.add(tf.keras.layers.Convolution2D(512,(3,3),strides=(1,1)))\n",
        "#     model.add(tf.keras.layers.BatchNormalization(epsilon=1e-06, axis=1, momentum=0.9))\n",
        "#     model.add(tf.keras.layers.Activation('relu')) \n",
        "    \n",
        "#     #conv-spatial batch norm - relu #9\n",
        "#     model.add(tf.keras.layers.ZeroPadding2D((1,1)))\n",
        "#     model.add(tf.keras.layers.Convolution2D(1024,(3,3),strides=(2,2)))\n",
        "#     model.add(tf.keras.layers.BatchNormalization(epsilon=1e-06, axis=1, momentum=0.9))\n",
        "#     model.add(tf.keras.layers.Activation('relu'))\n",
        "#     model.add(tf.keras.layers.Dropout(0.25)) \n",
        "\n",
        "#     #Affine-spatial batch norm -relu #10 \n",
        "#     model.add(tf.keras.layers.Flatten())\n",
        "#     model.add(tf.keras.layers.Dense(512,kernel_regularizer=tf.keras.regularizers.L1L2(l1=1e-5,l2=1e-5)))\n",
        "#     model.add(tf.keras.layers.BatchNormalization(epsilon=1e-06, axis=1, momentum=0.9))\n",
        "#     model.add(tf.keras.layers.Activation('relu')) \n",
        "#     model.add(tf.keras.layers.Dropout(0.5)) \n",
        "\n",
        "#     model.add(tf.keras.layers.Dense(num_classes,activation='softmax',kernel_regularizer=tf.keras.regularizers.L1L2(l1=1e-5,l2=1e-5)))\n",
        "\n",
        "#     model.summary()\n",
        "\n",
        "#     return model"
      ],
      "execution_count": 0,
      "outputs": []
    },
    {
      "cell_type": "code",
      "metadata": {
        "id": "qSZlZsldagN6",
        "colab_type": "code",
        "colab": {}
      },
      "source": [
        "def build(input_shape, num_classes):\n",
        "    model = tf.keras.Sequential()\n",
        "\n",
        "    model.add(tf.keras.layers.Convolution2D(96, (11, 11), strides=(4, 4), padding='same', activation='relu', input_shape=input_shape))\n",
        "    model.add(tf.keras.layers.BatchNormalization())\n",
        "    model.add(tf.keras.layers.MaxPooling2D(pool_size=(3, 3), strides=(2, 2), padding='same'))\n",
        "    \n",
        "    model.add(tf.keras.layers.Convolution2D(256, (5, 5), activation='relu'))\n",
        "    model.add(tf.keras.layers.BatchNormalization())\n",
        "    model.add(tf.keras.layers.MaxPooling2D(pool_size=(3, 3), strides=(2, 2), padding='same'))\n",
        "    \n",
        "    model.add(tf.keras.layers.Convolution2D(384, (3, 3), strides=(1, 1), padding='same', activation='relu'))\n",
        "    \n",
        "    model.add(tf.keras.layers.Convolution2D(384, (3, 3), strides=(1, 1), padding='same', activation='relu'))\n",
        "    \n",
        "    model.add(tf.keras.layers.Convolution2D(256, (3, 3), strides=(1, 1), padding='same', activation='relu'))\n",
        "    model.add(tf.keras.layers.BatchNormalization())\n",
        "    model.add(tf.keras.layers.MaxPooling2D(pool_size=(3, 3), strides=(2, 2), padding='same'))\n",
        "    \n",
        "    model.add(tf.keras.layers.Flatten())\n",
        "    \n",
        "    model.add(tf.keras.layers.Dense(4096, activation='relu'))\n",
        "    model.add(tf.keras.layers.Dropout(0.5))\n",
        "    \n",
        "    model.add(tf.keras.layers.Dense(4096, activation='relu'))\n",
        "    model.add(tf.keras.layers.Dropout(0.5))\n",
        "    \n",
        "    model.add(tf.keras.layers.Dense(num_classes, activation='softmax'))\n",
        "    \n",
        "    model.summary()\n",
        "    \n",
        "    return model"
      ],
      "execution_count": 0,
      "outputs": []
    },
    {
      "cell_type": "markdown",
      "metadata": {
        "id": "goORZyuO3M5Z",
        "colab_type": "text"
      },
      "source": [
        "Training"
      ]
    },
    {
      "cell_type": "code",
      "metadata": {
        "id": "kl8QU2uSdQhM",
        "colab_type": "code",
        "outputId": "567c3888-986c-42ba-e081-e6192d07a944",
        "colab": {
          "base_uri": "https://localhost:8080/",
          "height": 1000
        }
      },
      "source": [
        "# Training TinyNet\n",
        "model_tinynet = build(input_shape, num_classes)\n",
        "model_tinynet.compile(optimizer=tfa.optimizers.weight_decay_optimizers.SGDW(\n",
        "                        learning_rate=learning_rate, momentum=momentum, \n",
        "                        weight_decay=weight_decay, nesterov=True, name='SGDW'),\n",
        "                        loss='categorical_crossentropy', \n",
        "                        metrics=['categorical_accuracy', 'top_k_categorical_accuracy'])\n",
        "\n",
        "history = model_tinynet.fit(train_data_gen, epochs = total_epochs,\n",
        "                            validation_data=val_data_gen, verbose=1)\n",
        "\n",
        "# plotting\n",
        "plot_graph(history, total_epochs)"
      ],
      "execution_count": 0,
      "outputs": [
        {
          "output_type": "stream",
          "text": [
            "Model: \"sequential_1\"\n",
            "_________________________________________________________________\n",
            "Layer (type)                 Output Shape              Param #   \n",
            "=================================================================\n",
            "conv2d_5 (Conv2D)            (None, 16, 16, 96)        34944     \n",
            "_________________________________________________________________\n",
            "batch_normalization_3 (Batch (None, 16, 16, 96)        384       \n",
            "_________________________________________________________________\n",
            "max_pooling2d_3 (MaxPooling2 (None, 8, 8, 96)          0         \n",
            "_________________________________________________________________\n",
            "conv2d_6 (Conv2D)            (None, 4, 4, 256)         614656    \n",
            "_________________________________________________________________\n",
            "batch_normalization_4 (Batch (None, 4, 4, 256)         1024      \n",
            "_________________________________________________________________\n",
            "max_pooling2d_4 (MaxPooling2 (None, 2, 2, 256)         0         \n",
            "_________________________________________________________________\n",
            "conv2d_7 (Conv2D)            (None, 2, 2, 384)         885120    \n",
            "_________________________________________________________________\n",
            "conv2d_8 (Conv2D)            (None, 2, 2, 384)         1327488   \n",
            "_________________________________________________________________\n",
            "conv2d_9 (Conv2D)            (None, 2, 2, 256)         884992    \n",
            "_________________________________________________________________\n",
            "batch_normalization_5 (Batch (None, 2, 2, 256)         1024      \n",
            "_________________________________________________________________\n",
            "max_pooling2d_5 (MaxPooling2 (None, 1, 1, 256)         0         \n",
            "_________________________________________________________________\n",
            "flatten_1 (Flatten)          (None, 256)               0         \n",
            "_________________________________________________________________\n",
            "dense_3 (Dense)              (None, 4096)              1052672   \n",
            "_________________________________________________________________\n",
            "dropout_2 (Dropout)          (None, 4096)              0         \n",
            "_________________________________________________________________\n",
            "dense_4 (Dense)              (None, 4096)              16781312  \n",
            "_________________________________________________________________\n",
            "dropout_3 (Dropout)          (None, 4096)              0         \n",
            "_________________________________________________________________\n",
            "dense_5 (Dense)              (None, 200)               819400    \n",
            "=================================================================\n",
            "Total params: 22,403,016\n",
            "Trainable params: 22,401,800\n",
            "Non-trainable params: 1,216\n",
            "_________________________________________________________________\n",
            "WARNING:tensorflow:sample_weight modes were coerced from\n",
            "  ...\n",
            "    to  \n",
            "  ['...']\n",
            "WARNING:tensorflow:sample_weight modes were coerced from\n",
            "  ...\n",
            "    to  \n",
            "  ['...']\n",
            "Train for 225 steps, validate for 25 steps\n",
            "Epoch 1/50\n",
            "225/225 [==============================] - 127s 566ms/step - loss: 5.0730 - categorical_accuracy: 0.0227 - top_k_categorical_accuracy: 0.0878 - val_loss: 5.1214 - val_categorical_accuracy: 0.0341 - val_top_k_categorical_accuracy: 0.1145\n",
            "Epoch 2/50\n",
            "225/225 [==============================] - 126s 561ms/step - loss: 4.5794 - categorical_accuracy: 0.0615 - top_k_categorical_accuracy: 0.2009 - val_loss: 4.5774 - val_categorical_accuracy: 0.0830 - val_top_k_categorical_accuracy: 0.2397\n",
            "Epoch 3/50\n",
            "225/225 [==============================] - 126s 561ms/step - loss: 4.2612 - categorical_accuracy: 0.0985 - top_k_categorical_accuracy: 0.2790 - val_loss: 4.2815 - val_categorical_accuracy: 0.1044 - val_top_k_categorical_accuracy: 0.2795\n",
            "Epoch 4/50\n",
            "225/225 [==============================] - 127s 563ms/step - loss: 4.0642 - categorical_accuracy: 0.1245 - top_k_categorical_accuracy: 0.3303 - val_loss: 3.9894 - val_categorical_accuracy: 0.1430 - val_top_k_categorical_accuracy: 0.3482\n",
            "Epoch 5/50\n",
            "225/225 [==============================] - 126s 560ms/step - loss: 3.9264 - categorical_accuracy: 0.1428 - top_k_categorical_accuracy: 0.3621 - val_loss: 3.9229 - val_categorical_accuracy: 0.1521 - val_top_k_categorical_accuracy: 0.3700\n",
            "Epoch 6/50\n",
            "225/225 [==============================] - 126s 561ms/step - loss: 3.8271 - categorical_accuracy: 0.1575 - top_k_categorical_accuracy: 0.3858 - val_loss: 3.9750 - val_categorical_accuracy: 0.1430 - val_top_k_categorical_accuracy: 0.3502\n",
            "Epoch 7/50\n",
            "225/225 [==============================] - 126s 561ms/step - loss: 3.7536 - categorical_accuracy: 0.1682 - top_k_categorical_accuracy: 0.4040 - val_loss: 3.8270 - val_categorical_accuracy: 0.1608 - val_top_k_categorical_accuracy: 0.3923\n",
            "Epoch 8/50\n",
            "225/225 [==============================] - 126s 561ms/step - loss: 3.6954 - categorical_accuracy: 0.1814 - top_k_categorical_accuracy: 0.4200 - val_loss: 3.7830 - val_categorical_accuracy: 0.1739 - val_top_k_categorical_accuracy: 0.3990\n",
            "Epoch 9/50\n",
            "225/225 [==============================] - 127s 563ms/step - loss: 3.6476 - categorical_accuracy: 0.1888 - top_k_categorical_accuracy: 0.4289 - val_loss: 3.7022 - val_categorical_accuracy: 0.1823 - val_top_k_categorical_accuracy: 0.4156\n",
            "Epoch 10/50\n",
            "225/225 [==============================] - 126s 561ms/step - loss: 3.6132 - categorical_accuracy: 0.1926 - top_k_categorical_accuracy: 0.4390 - val_loss: 3.6893 - val_categorical_accuracy: 0.1880 - val_top_k_categorical_accuracy: 0.4225\n",
            "Epoch 11/50\n",
            "225/225 [==============================] - 126s 561ms/step - loss: 3.5749 - categorical_accuracy: 0.2008 - top_k_categorical_accuracy: 0.4486 - val_loss: 3.6878 - val_categorical_accuracy: 0.1842 - val_top_k_categorical_accuracy: 0.4158\n",
            "Epoch 12/50\n",
            "225/225 [==============================] - 126s 561ms/step - loss: 3.5471 - categorical_accuracy: 0.2044 - top_k_categorical_accuracy: 0.4544 - val_loss: 3.6628 - val_categorical_accuracy: 0.1920 - val_top_k_categorical_accuracy: 0.4338\n",
            "Epoch 13/50\n",
            "225/225 [==============================] - 126s 560ms/step - loss: 3.5184 - categorical_accuracy: 0.2104 - top_k_categorical_accuracy: 0.4599 - val_loss: 3.5969 - val_categorical_accuracy: 0.2034 - val_top_k_categorical_accuracy: 0.4409\n",
            "Epoch 14/50\n",
            "225/225 [==============================] - 127s 563ms/step - loss: 3.4929 - categorical_accuracy: 0.2158 - top_k_categorical_accuracy: 0.4686 - val_loss: 3.5275 - val_categorical_accuracy: 0.2090 - val_top_k_categorical_accuracy: 0.4573\n",
            "Epoch 15/50\n",
            "225/225 [==============================] - 126s 561ms/step - loss: 3.4748 - categorical_accuracy: 0.2186 - top_k_categorical_accuracy: 0.4710 - val_loss: 3.5934 - val_categorical_accuracy: 0.2049 - val_top_k_categorical_accuracy: 0.4446\n",
            "Epoch 16/50\n",
            "225/225 [==============================] - 126s 562ms/step - loss: 3.4542 - categorical_accuracy: 0.2226 - top_k_categorical_accuracy: 0.4768 - val_loss: 3.5136 - val_categorical_accuracy: 0.2141 - val_top_k_categorical_accuracy: 0.4602\n",
            "Epoch 17/50\n",
            "225/225 [==============================] - 126s 560ms/step - loss: 3.4342 - categorical_accuracy: 0.2250 - top_k_categorical_accuracy: 0.4787 - val_loss: 3.5694 - val_categorical_accuracy: 0.2083 - val_top_k_categorical_accuracy: 0.4520\n",
            "Epoch 18/50\n",
            "225/225 [==============================] - 126s 561ms/step - loss: 3.4195 - categorical_accuracy: 0.2290 - top_k_categorical_accuracy: 0.4838 - val_loss: 3.4996 - val_categorical_accuracy: 0.2167 - val_top_k_categorical_accuracy: 0.4631\n",
            "Epoch 19/50\n",
            "225/225 [==============================] - 126s 560ms/step - loss: 3.3986 - categorical_accuracy: 0.2316 - top_k_categorical_accuracy: 0.4871 - val_loss: 3.4789 - val_categorical_accuracy: 0.2184 - val_top_k_categorical_accuracy: 0.4680\n",
            "Epoch 20/50\n",
            "225/225 [==============================] - 126s 559ms/step - loss: 3.3814 - categorical_accuracy: 0.2336 - top_k_categorical_accuracy: 0.4928 - val_loss: 3.4794 - val_categorical_accuracy: 0.2207 - val_top_k_categorical_accuracy: 0.4697\n",
            "Epoch 21/50\n",
            " 22/225 [=>............................] - ETA: 1:43 - loss: 3.3200 - categorical_accuracy: 0.2407 - top_k_categorical_accuracy: 0.5061"
          ],
          "name": "stdout"
        },
        {
          "output_type": "error",
          "ename": "KeyboardInterrupt",
          "evalue": "ignored",
          "traceback": [
            "\u001b[0;31m---------------------------------------------------------------------------\u001b[0m",
            "\u001b[0;31mKeyboardInterrupt\u001b[0m                         Traceback (most recent call last)",
            "\u001b[0;32m<ipython-input-26-62b572f97c96>\u001b[0m in \u001b[0;36m<module>\u001b[0;34m()\u001b[0m\n\u001b[1;32m      8\u001b[0m \u001b[0;34m\u001b[0m\u001b[0m\n\u001b[1;32m      9\u001b[0m history = model_tinynet.fit(train_data_gen, epochs = total_epochs,\n\u001b[0;32m---> 10\u001b[0;31m                             validation_data=val_data_gen, verbose=1)\n\u001b[0m\u001b[1;32m     11\u001b[0m \u001b[0;34m\u001b[0m\u001b[0m\n\u001b[1;32m     12\u001b[0m \u001b[0;31m# plotting\u001b[0m\u001b[0;34m\u001b[0m\u001b[0;34m\u001b[0m\u001b[0;34m\u001b[0m\u001b[0m\n",
            "\u001b[0;32m/usr/local/lib/python3.6/dist-packages/tensorflow_core/python/keras/engine/training.py\u001b[0m in \u001b[0;36mfit\u001b[0;34m(self, x, y, batch_size, epochs, verbose, callbacks, validation_split, validation_data, shuffle, class_weight, sample_weight, initial_epoch, steps_per_epoch, validation_steps, validation_freq, max_queue_size, workers, use_multiprocessing, **kwargs)\u001b[0m\n\u001b[1;32m    817\u001b[0m         \u001b[0mmax_queue_size\u001b[0m\u001b[0;34m=\u001b[0m\u001b[0mmax_queue_size\u001b[0m\u001b[0;34m,\u001b[0m\u001b[0;34m\u001b[0m\u001b[0;34m\u001b[0m\u001b[0m\n\u001b[1;32m    818\u001b[0m         \u001b[0mworkers\u001b[0m\u001b[0;34m=\u001b[0m\u001b[0mworkers\u001b[0m\u001b[0;34m,\u001b[0m\u001b[0;34m\u001b[0m\u001b[0;34m\u001b[0m\u001b[0m\n\u001b[0;32m--> 819\u001b[0;31m         use_multiprocessing=use_multiprocessing)\n\u001b[0m\u001b[1;32m    820\u001b[0m \u001b[0;34m\u001b[0m\u001b[0m\n\u001b[1;32m    821\u001b[0m   def evaluate(self,\n",
            "\u001b[0;32m/usr/local/lib/python3.6/dist-packages/tensorflow_core/python/keras/engine/training_v2.py\u001b[0m in \u001b[0;36mfit\u001b[0;34m(self, model, x, y, batch_size, epochs, verbose, callbacks, validation_split, validation_data, shuffle, class_weight, sample_weight, initial_epoch, steps_per_epoch, validation_steps, validation_freq, max_queue_size, workers, use_multiprocessing, **kwargs)\u001b[0m\n\u001b[1;32m    340\u001b[0m                 \u001b[0mmode\u001b[0m\u001b[0;34m=\u001b[0m\u001b[0mModeKeys\u001b[0m\u001b[0;34m.\u001b[0m\u001b[0mTRAIN\u001b[0m\u001b[0;34m,\u001b[0m\u001b[0;34m\u001b[0m\u001b[0;34m\u001b[0m\u001b[0m\n\u001b[1;32m    341\u001b[0m                 \u001b[0mtraining_context\u001b[0m\u001b[0;34m=\u001b[0m\u001b[0mtraining_context\u001b[0m\u001b[0;34m,\u001b[0m\u001b[0;34m\u001b[0m\u001b[0;34m\u001b[0m\u001b[0m\n\u001b[0;32m--> 342\u001b[0;31m                 total_epochs=epochs)\n\u001b[0m\u001b[1;32m    343\u001b[0m             \u001b[0mcbks\u001b[0m\u001b[0;34m.\u001b[0m\u001b[0mmake_logs\u001b[0m\u001b[0;34m(\u001b[0m\u001b[0mmodel\u001b[0m\u001b[0;34m,\u001b[0m \u001b[0mepoch_logs\u001b[0m\u001b[0;34m,\u001b[0m \u001b[0mtraining_result\u001b[0m\u001b[0;34m,\u001b[0m \u001b[0mModeKeys\u001b[0m\u001b[0;34m.\u001b[0m\u001b[0mTRAIN\u001b[0m\u001b[0;34m)\u001b[0m\u001b[0;34m\u001b[0m\u001b[0;34m\u001b[0m\u001b[0m\n\u001b[1;32m    344\u001b[0m \u001b[0;34m\u001b[0m\u001b[0m\n",
            "\u001b[0;32m/usr/local/lib/python3.6/dist-packages/tensorflow_core/python/keras/engine/training_v2.py\u001b[0m in \u001b[0;36mrun_one_epoch\u001b[0;34m(model, iterator, execution_function, dataset_size, batch_size, strategy, steps_per_epoch, num_samples, mode, training_context, total_epochs)\u001b[0m\n\u001b[1;32m    126\u001b[0m         step=step, mode=mode, size=current_batch_size) as batch_logs:\n\u001b[1;32m    127\u001b[0m       \u001b[0;32mtry\u001b[0m\u001b[0;34m:\u001b[0m\u001b[0;34m\u001b[0m\u001b[0;34m\u001b[0m\u001b[0m\n\u001b[0;32m--> 128\u001b[0;31m         \u001b[0mbatch_outs\u001b[0m \u001b[0;34m=\u001b[0m \u001b[0mexecution_function\u001b[0m\u001b[0;34m(\u001b[0m\u001b[0miterator\u001b[0m\u001b[0;34m)\u001b[0m\u001b[0;34m\u001b[0m\u001b[0;34m\u001b[0m\u001b[0m\n\u001b[0m\u001b[1;32m    129\u001b[0m       \u001b[0;32mexcept\u001b[0m \u001b[0;34m(\u001b[0m\u001b[0mStopIteration\u001b[0m\u001b[0;34m,\u001b[0m \u001b[0merrors\u001b[0m\u001b[0;34m.\u001b[0m\u001b[0mOutOfRangeError\u001b[0m\u001b[0;34m)\u001b[0m\u001b[0;34m:\u001b[0m\u001b[0;34m\u001b[0m\u001b[0;34m\u001b[0m\u001b[0m\n\u001b[1;32m    130\u001b[0m         \u001b[0;31m# TODO(kaftan): File bug about tf function and errors.OutOfRangeError?\u001b[0m\u001b[0;34m\u001b[0m\u001b[0;34m\u001b[0m\u001b[0;34m\u001b[0m\u001b[0m\n",
            "\u001b[0;32m/usr/local/lib/python3.6/dist-packages/tensorflow_core/python/keras/engine/training_v2_utils.py\u001b[0m in \u001b[0;36mexecution_function\u001b[0;34m(input_fn)\u001b[0m\n\u001b[1;32m     96\u001b[0m     \u001b[0;31m# `numpy` translates Tensors to values in Eager mode.\u001b[0m\u001b[0;34m\u001b[0m\u001b[0;34m\u001b[0m\u001b[0;34m\u001b[0m\u001b[0m\n\u001b[1;32m     97\u001b[0m     return nest.map_structure(_non_none_constant_value,\n\u001b[0;32m---> 98\u001b[0;31m                               distributed_function(input_fn))\n\u001b[0m\u001b[1;32m     99\u001b[0m \u001b[0;34m\u001b[0m\u001b[0m\n\u001b[1;32m    100\u001b[0m   \u001b[0;32mreturn\u001b[0m \u001b[0mexecution_function\u001b[0m\u001b[0;34m\u001b[0m\u001b[0;34m\u001b[0m\u001b[0m\n",
            "\u001b[0;32m/usr/local/lib/python3.6/dist-packages/tensorflow_core/python/util/nest.py\u001b[0m in \u001b[0;36mmap_structure\u001b[0;34m(func, *structure, **kwargs)\u001b[0m\n\u001b[1;32m    566\u001b[0m \u001b[0;34m\u001b[0m\u001b[0m\n\u001b[1;32m    567\u001b[0m   return pack_sequence_as(\n\u001b[0;32m--> 568\u001b[0;31m       \u001b[0mstructure\u001b[0m\u001b[0;34m[\u001b[0m\u001b[0;36m0\u001b[0m\u001b[0;34m]\u001b[0m\u001b[0;34m,\u001b[0m \u001b[0;34m[\u001b[0m\u001b[0mfunc\u001b[0m\u001b[0;34m(\u001b[0m\u001b[0;34m*\u001b[0m\u001b[0mx\u001b[0m\u001b[0;34m)\u001b[0m \u001b[0;32mfor\u001b[0m \u001b[0mx\u001b[0m \u001b[0;32min\u001b[0m \u001b[0mentries\u001b[0m\u001b[0;34m]\u001b[0m\u001b[0;34m,\u001b[0m\u001b[0;34m\u001b[0m\u001b[0;34m\u001b[0m\u001b[0m\n\u001b[0m\u001b[1;32m    569\u001b[0m       expand_composites=expand_composites)\n\u001b[1;32m    570\u001b[0m \u001b[0;34m\u001b[0m\u001b[0m\n",
            "\u001b[0;32m/usr/local/lib/python3.6/dist-packages/tensorflow_core/python/util/nest.py\u001b[0m in \u001b[0;36m<listcomp>\u001b[0;34m(.0)\u001b[0m\n\u001b[1;32m    566\u001b[0m \u001b[0;34m\u001b[0m\u001b[0m\n\u001b[1;32m    567\u001b[0m   return pack_sequence_as(\n\u001b[0;32m--> 568\u001b[0;31m       \u001b[0mstructure\u001b[0m\u001b[0;34m[\u001b[0m\u001b[0;36m0\u001b[0m\u001b[0;34m]\u001b[0m\u001b[0;34m,\u001b[0m \u001b[0;34m[\u001b[0m\u001b[0mfunc\u001b[0m\u001b[0;34m(\u001b[0m\u001b[0;34m*\u001b[0m\u001b[0mx\u001b[0m\u001b[0;34m)\u001b[0m \u001b[0;32mfor\u001b[0m \u001b[0mx\u001b[0m \u001b[0;32min\u001b[0m \u001b[0mentries\u001b[0m\u001b[0;34m]\u001b[0m\u001b[0;34m,\u001b[0m\u001b[0;34m\u001b[0m\u001b[0;34m\u001b[0m\u001b[0m\n\u001b[0m\u001b[1;32m    569\u001b[0m       expand_composites=expand_composites)\n\u001b[1;32m    570\u001b[0m \u001b[0;34m\u001b[0m\u001b[0m\n",
            "\u001b[0;32m/usr/local/lib/python3.6/dist-packages/tensorflow_core/python/keras/engine/training_v2_utils.py\u001b[0m in \u001b[0;36m_non_none_constant_value\u001b[0;34m(v)\u001b[0m\n\u001b[1;32m    128\u001b[0m \u001b[0;34m\u001b[0m\u001b[0m\n\u001b[1;32m    129\u001b[0m \u001b[0;32mdef\u001b[0m \u001b[0m_non_none_constant_value\u001b[0m\u001b[0;34m(\u001b[0m\u001b[0mv\u001b[0m\u001b[0;34m)\u001b[0m\u001b[0;34m:\u001b[0m\u001b[0;34m\u001b[0m\u001b[0;34m\u001b[0m\u001b[0m\n\u001b[0;32m--> 130\u001b[0;31m   \u001b[0mconstant_value\u001b[0m \u001b[0;34m=\u001b[0m \u001b[0mtensor_util\u001b[0m\u001b[0;34m.\u001b[0m\u001b[0mconstant_value\u001b[0m\u001b[0;34m(\u001b[0m\u001b[0mv\u001b[0m\u001b[0;34m)\u001b[0m\u001b[0;34m\u001b[0m\u001b[0;34m\u001b[0m\u001b[0m\n\u001b[0m\u001b[1;32m    131\u001b[0m   \u001b[0;32mreturn\u001b[0m \u001b[0mconstant_value\u001b[0m \u001b[0;32mif\u001b[0m \u001b[0mconstant_value\u001b[0m \u001b[0;32mis\u001b[0m \u001b[0;32mnot\u001b[0m \u001b[0;32mNone\u001b[0m \u001b[0;32melse\u001b[0m \u001b[0mv\u001b[0m\u001b[0;34m\u001b[0m\u001b[0;34m\u001b[0m\u001b[0m\n\u001b[1;32m    132\u001b[0m \u001b[0;34m\u001b[0m\u001b[0m\n",
            "\u001b[0;32m/usr/local/lib/python3.6/dist-packages/tensorflow_core/python/framework/tensor_util.py\u001b[0m in \u001b[0;36mconstant_value\u001b[0;34m(tensor, partial)\u001b[0m\n\u001b[1;32m    820\u001b[0m   \"\"\"\n\u001b[1;32m    821\u001b[0m   \u001b[0;32mif\u001b[0m \u001b[0misinstance\u001b[0m\u001b[0;34m(\u001b[0m\u001b[0mtensor\u001b[0m\u001b[0;34m,\u001b[0m \u001b[0mops\u001b[0m\u001b[0;34m.\u001b[0m\u001b[0mEagerTensor\u001b[0m\u001b[0;34m)\u001b[0m\u001b[0;34m:\u001b[0m\u001b[0;34m\u001b[0m\u001b[0;34m\u001b[0m\u001b[0m\n\u001b[0;32m--> 822\u001b[0;31m     \u001b[0;32mreturn\u001b[0m \u001b[0mtensor\u001b[0m\u001b[0;34m.\u001b[0m\u001b[0mnumpy\u001b[0m\u001b[0;34m(\u001b[0m\u001b[0;34m)\u001b[0m\u001b[0;34m\u001b[0m\u001b[0;34m\u001b[0m\u001b[0m\n\u001b[0m\u001b[1;32m    823\u001b[0m   \u001b[0;32mif\u001b[0m \u001b[0;32mnot\u001b[0m \u001b[0mis_tensor\u001b[0m\u001b[0;34m(\u001b[0m\u001b[0mtensor\u001b[0m\u001b[0;34m)\u001b[0m\u001b[0;34m:\u001b[0m\u001b[0;34m\u001b[0m\u001b[0;34m\u001b[0m\u001b[0m\n\u001b[1;32m    824\u001b[0m     \u001b[0;32mreturn\u001b[0m \u001b[0mtensor\u001b[0m\u001b[0;34m\u001b[0m\u001b[0;34m\u001b[0m\u001b[0m\n",
            "\u001b[0;32m/usr/local/lib/python3.6/dist-packages/tensorflow_core/python/framework/ops.py\u001b[0m in \u001b[0;36mnumpy\u001b[0;34m(self)\u001b[0m\n\u001b[1;32m    940\u001b[0m     \"\"\"\n\u001b[1;32m    941\u001b[0m     \u001b[0;31m# TODO(slebedev): Consider avoiding a copy for non-CPU or remote tensors.\u001b[0m\u001b[0;34m\u001b[0m\u001b[0;34m\u001b[0m\u001b[0;34m\u001b[0m\u001b[0m\n\u001b[0;32m--> 942\u001b[0;31m     \u001b[0mmaybe_arr\u001b[0m \u001b[0;34m=\u001b[0m \u001b[0mself\u001b[0m\u001b[0;34m.\u001b[0m\u001b[0m_numpy\u001b[0m\u001b[0;34m(\u001b[0m\u001b[0;34m)\u001b[0m  \u001b[0;31m# pylint: disable=protected-access\u001b[0m\u001b[0;34m\u001b[0m\u001b[0;34m\u001b[0m\u001b[0m\n\u001b[0m\u001b[1;32m    943\u001b[0m     \u001b[0;32mreturn\u001b[0m \u001b[0mmaybe_arr\u001b[0m\u001b[0;34m.\u001b[0m\u001b[0mcopy\u001b[0m\u001b[0;34m(\u001b[0m\u001b[0;34m)\u001b[0m \u001b[0;32mif\u001b[0m \u001b[0misinstance\u001b[0m\u001b[0;34m(\u001b[0m\u001b[0mmaybe_arr\u001b[0m\u001b[0;34m,\u001b[0m \u001b[0mnp\u001b[0m\u001b[0;34m.\u001b[0m\u001b[0mndarray\u001b[0m\u001b[0;34m)\u001b[0m \u001b[0;32melse\u001b[0m \u001b[0mmaybe_arr\u001b[0m\u001b[0;34m\u001b[0m\u001b[0;34m\u001b[0m\u001b[0m\n\u001b[1;32m    944\u001b[0m \u001b[0;34m\u001b[0m\u001b[0m\n",
            "\u001b[0;32m/usr/local/lib/python3.6/dist-packages/tensorflow_core/python/framework/ops.py\u001b[0m in \u001b[0;36m_numpy\u001b[0;34m(self)\u001b[0m\n\u001b[1;32m    906\u001b[0m     \u001b[0;31m# pylint: disable=protected-access\u001b[0m\u001b[0;34m\u001b[0m\u001b[0;34m\u001b[0m\u001b[0;34m\u001b[0m\u001b[0m\n\u001b[1;32m    907\u001b[0m     \u001b[0;32mtry\u001b[0m\u001b[0;34m:\u001b[0m\u001b[0;34m\u001b[0m\u001b[0;34m\u001b[0m\u001b[0m\n\u001b[0;32m--> 908\u001b[0;31m       \u001b[0;32mreturn\u001b[0m \u001b[0mself\u001b[0m\u001b[0;34m.\u001b[0m\u001b[0m_numpy_internal\u001b[0m\u001b[0;34m(\u001b[0m\u001b[0;34m)\u001b[0m\u001b[0;34m\u001b[0m\u001b[0;34m\u001b[0m\u001b[0m\n\u001b[0m\u001b[1;32m    909\u001b[0m     \u001b[0;32mexcept\u001b[0m \u001b[0mcore\u001b[0m\u001b[0;34m.\u001b[0m\u001b[0m_NotOkStatusException\u001b[0m \u001b[0;32mas\u001b[0m \u001b[0me\u001b[0m\u001b[0;34m:\u001b[0m\u001b[0;34m\u001b[0m\u001b[0;34m\u001b[0m\u001b[0m\n\u001b[1;32m    910\u001b[0m       \u001b[0msix\u001b[0m\u001b[0;34m.\u001b[0m\u001b[0mraise_from\u001b[0m\u001b[0;34m(\u001b[0m\u001b[0mcore\u001b[0m\u001b[0;34m.\u001b[0m\u001b[0m_status_to_exception\u001b[0m\u001b[0;34m(\u001b[0m\u001b[0me\u001b[0m\u001b[0;34m.\u001b[0m\u001b[0mcode\u001b[0m\u001b[0;34m,\u001b[0m \u001b[0me\u001b[0m\u001b[0;34m.\u001b[0m\u001b[0mmessage\u001b[0m\u001b[0;34m)\u001b[0m\u001b[0;34m,\u001b[0m \u001b[0;32mNone\u001b[0m\u001b[0;34m)\u001b[0m\u001b[0;34m\u001b[0m\u001b[0;34m\u001b[0m\u001b[0m\n",
            "\u001b[0;31mKeyboardInterrupt\u001b[0m: "
          ]
        }
      ]
    },
    {
      "cell_type": "code",
      "metadata": {
        "id": "tsSxnsOhGG75",
        "colab_type": "code",
        "colab": {}
      },
      "source": [
        ""
      ],
      "execution_count": 0,
      "outputs": []
    },
    {
      "cell_type": "markdown",
      "metadata": {
        "id": "cTMDmP7oFgsO",
        "colab_type": "text"
      },
      "source": [
        "Learning Rate / Batch Size + Layers + Training Samples Count + Different Augmentations + Optimizer Paramenters"
      ]
    },
    {
      "cell_type": "code",
      "metadata": {
        "id": "F-l9RNeeQYF7",
        "colab_type": "code",
        "colab": {}
      },
      "source": [
        ""
      ],
      "execution_count": 0,
      "outputs": []
    }
  ]
}
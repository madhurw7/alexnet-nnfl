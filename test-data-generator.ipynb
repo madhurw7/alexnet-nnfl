{
 "cells": [
  {
   "cell_type": "code",
   "execution_count": null,
   "metadata": {},
   "outputs": [],
   "source": [
    "import numpy as np\n",
    "from PIL import Image"
   ]
  },
  {
   "cell_type": "markdown",
   "metadata": {},
   "source": [
    "### test-data-generator\n",
    "This script is meant to generate/process test data and save it as .npz file, so that it can be fed into the trained model to calculate accuracy. For the training purpose, the ImageDataGenerator class was directly being used, but because of it's limitations to generate test data, we have to use this method instead."
   ]
  },
  {
   "cell_type": "code",
   "execution_count": null,
   "metadata": {},
   "outputs": [],
   "source": [
    "def importClasses():\n",
    "    #Returns a list of all the class names from the provided txt file\n",
    "    classPath = \"./tiny-imagenet-200/wnids.txt\"\n",
    "    return open(classPath).read().splitlines()\n",
    "\n",
    "trainClasses = importClasses()\n",
    "trainClasses.sort()\n",
    "\n",
    "def createDict(trainClasses):\n",
    "    \n",
    "    #  Mapping from class name to class number from the \n",
    "    #  list generated above in a alphanumeric order\n",
    "    \n",
    "    classDict = {}\n",
    "    for i in range(len(trainClasses)):\n",
    "        classDict[trainClasses[i]] = i\n",
    "    return classDict\n",
    "\n",
    "classNumDict = createDict(trainClasses)\n",
    "\n",
    "def getImgAsNP(path):\n",
    "    try:\n",
    "        img = Image.open(path)\n",
    "    except IOError:\n",
    "        return\n",
    "    img = img.convert(\"RGB\")\n",
    "    img = np.asarray(img)\n",
    "    return img\n",
    "    \n",
    "\n",
    "\n",
    "def transToOneHot(numClass, dims = 200):\n",
    "    vec = np.zeros(dims)\n",
    "    vec[numClass] = 1\n",
    "    return vec\n",
    "\n",
    "\n",
    "\n",
    "def getOutputArray():\n",
    "    outputArray = []\n",
    "    outputTextPath = \"./tiny-imagenet-200/val/val_annotations.txt\"\n",
    "    textFile = open(outputTextPath).read().split()\n",
    "    for i in range(10000):\n",
    "        outputArray.append(transToOneHot(classNumDict[textFile[6*i+1]], dims = 200))\n",
    "    return outputArray\n",
    "\n",
    "def getValSample():\n",
    "    inputArray = []\n",
    "    outputArray = getOutputArray()\n",
    "    for i in range(10000):\n",
    "        path = \"./tiny-imagenet-200/val/images/val_\" + str(i) + \".JPEG\"\n",
    "        img = getImgAsNP(path)\n",
    "        inputArray.append(img)\n",
    "        \n",
    "    return inputArray, outputArray"
   ]
  },
  {
   "cell_type": "code",
   "execution_count": null,
   "metadata": {},
   "outputs": [],
   "source": [
    "inputVal, outputVal = getValSample()"
   ]
  },
  {
   "cell_type": "code",
   "execution_count": null,
   "metadata": {},
   "outputs": [],
   "source": [
    "np.savez('valDataComplete.npz', inputVal, outputVal)"
   ]
  }
 ],
 "metadata": {
  "kernelspec": {
   "display_name": "Python 3",
   "language": "python",
   "name": "python3"
  },
  "language_info": {
   "codemirror_mode": {
    "name": "ipython",
    "version": 3
   },
   "file_extension": ".py",
   "mimetype": "text/x-python",
   "name": "python",
   "nbconvert_exporter": "python",
   "pygments_lexer": "ipython3",
   "version": "3.7.3"
  }
 },
 "nbformat": 4,
 "nbformat_minor": 2
}
